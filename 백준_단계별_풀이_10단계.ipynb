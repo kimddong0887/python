{
  "nbformat": 4,
  "nbformat_minor": 0,
  "metadata": {
    "colab": {
      "name": "백준 단계별 풀이 10단계.ipynb",
      "provenance": [],
      "authorship_tag": "ABX9TyOAnawmQznCHNXUH3AgNvIU",
      "include_colab_link": true
    },
    "kernelspec": {
      "name": "python3",
      "display_name": "Python 3"
    },
    "language_info": {
      "name": "python"
    }
  },
  "cells": [
    {
      "cell_type": "markdown",
      "metadata": {
        "id": "view-in-github",
        "colab_type": "text"
      },
      "source": [
        "<a href=\"https://colab.research.google.com/github/kimddong0887/python/blob/main/%EB%B0%B1%EC%A4%80_%EB%8B%A8%EA%B3%84%EB%B3%84_%ED%92%80%EC%9D%B4_10%EB%8B%A8%EA%B3%84.ipynb\" target=\"_parent\"><img src=\"https://colab.research.google.com/assets/colab-badge.svg\" alt=\"Open In Colab\"/></a>"
      ]
    },
    {
      "cell_type": "markdown",
      "source": [
        "#10단계 재귀\n",
        "##1. 팩토리얼\n",
        "####0보다 크거나 같은 정수 N이 주어진다. 이때, N!을 출력하는 프로그램을 작성하시오."
      ],
      "metadata": {
        "id": "i7HqzQ8IbIk6"
      }
    },
    {
      "cell_type": "code",
      "source": [
        "N = int(input())\n",
        "if N == 0:\n",
        "  print(1) \n",
        "else:\n",
        "  def factorial(N):\n",
        "    if N == 1:\n",
        "      return 1\n",
        "    result = N * (factorial(N-1))\n",
        "    return result\n",
        "  print(factorial(N))"
      ],
      "metadata": {
        "colab": {
          "base_uri": "https://localhost:8080/"
        },
        "id": "ZTB7ZVhIbTx4",
        "outputId": "7133af42-c427-4531-b9b6-4254f9b8c8bd"
      },
      "execution_count": 11,
      "outputs": [
        {
          "output_type": "stream",
          "name": "stdout",
          "text": [
            "0\n",
            "1\n"
          ]
        }
      ]
    },
    {
      "cell_type": "markdown",
      "source": [
        "##2. 피보나치 수 5\n",
        "####피보나치 수는 0과 1로 시작한다. 0번째 피보나치 수는 0이고, 1번째 피보나치 수는 1이다. 그 다음 2번째 부터는 바로 앞 두 피보나치 수의 합이 된다.\n",
        "\n",
        "####이를 식으로 써보면 Fn = Fn-1 + Fn-2 (n ≥ 2)가 된다.\n",
        "\n",
        "####n=17일때 까지 피보나치 수를 써보면 다음과 같다.\n",
        "\n",
        "####0, 1, 1, 2, 3, 5, 8, 13, 21, 34, 55, 89, 144, 233, 377, 610, 987, 1597\n",
        "\n",
        "####n이 주어졌을 때, n번째 피보나치 수를 구하는 프로그램을 작성하시오."
      ],
      "metadata": {
        "id": "_2Am4zJbcmaJ"
      }
    },
    {
      "cell_type": "code",
      "source": [
        "n = int(input())\n",
        "def 피보나치(n):\n",
        "  if n == 0:\n",
        "    return 0\n",
        "  if n == 1:\n",
        "    return 1\n",
        "  result = 피보나치(n - 1) + 피보나치(n - 2)\n",
        "  return result\n",
        "print(피보나치(n))"
      ],
      "metadata": {
        "colab": {
          "base_uri": "https://localhost:8080/"
        },
        "id": "UJZFW8x0cqLr",
        "outputId": "999c0270-506b-48fe-93e1-a7c5776b1718"
      },
      "execution_count": 36,
      "outputs": [
        {
          "output_type": "stream",
          "name": "stdout",
          "text": [
            "3\n",
            "2\n"
          ]
        }
      ]
    },
    {
      "cell_type": "markdown",
      "source": [
        "##3. 별 찍기 - 10\n",
        "####재귀적인 패턴으로 별을 찍어 보자. N이 3의 거듭제곱(3, 9, 27, ...)이라고 할 때, 크기 N의 패턴은 N×N 정사각형 모양이다.\n",
        "\n",
        "####크기 3의 패턴은 가운데에 공백이 있고, 가운데를 제외한 모든 칸에 별이 하나씩 있는 패턴이다.\n",
        "\n",
        "####***\n",
        "####* *\n",
        "####***\n",
        "####N이 3보다 클 경우, 크기 N의 패턴은 공백으로 채워진 가운데의 (N/3)×(N/3) 정사각형을 크기 N/3의 패턴으로 둘러싼 형태이다. 예를 들어 크기 27의 패턴은 예제 출력 1과 같다."
      ],
      "metadata": {
        "id": "xz9Hl4rJgMa9"
      }
    },
    {
      "cell_type": "code",
      "source": [
        ""
      ],
      "metadata": {
        "id": "uFQ8lGmLgSEV"
      },
      "execution_count": null,
      "outputs": []
    },
    {
      "cell_type": "markdown",
      "source": [
        "##4. 하노이 탑 이동 순서\n",
        "####세 개의 장대가 있고 첫 번째 장대에는 반경이 서로 다른 n개의 원판이 쌓여 있다. 각 원판은 반경이 큰 순서대로 쌓여있다. 이제 수도승들이 다음 규칙에 따라 첫 번째 장대에서 세 번째 장대로 옮기려 한다.\n",
        "\n",
        "####1. 한 번에 한 개의 원판만을 다른 탑으로 옮길 수 있다.\n",
        "####2 .쌓아 놓은 원판은 항상 위의 것이 아래의 것보다 작아야 한다.\n",
        "####이 작업을 수행하는데 필요한 이동 순서를 출력하는 프로그램을 작성하라. 단, 이동 횟수는 최소가 되어야 한다.\n",
        "\n",
        "####아래 그림은 원판이 5개인 경우의 예시이다."
      ],
      "metadata": {
        "id": "1n7hkDgUgg26"
      }
    },
    {
      "cell_type": "code",
      "source": [
        ""
      ],
      "metadata": {
        "id": "oh9m3HXzgo36"
      },
      "execution_count": null,
      "outputs": []
    }
  ]
}