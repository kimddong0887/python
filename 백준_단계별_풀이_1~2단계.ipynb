{
  "nbformat": 4,
  "nbformat_minor": 0,
  "metadata": {
    "colab": {
      "name": "백준 단계별 풀이 1~2단계.ipynb",
      "provenance": [],
      "collapsed_sections": [],
      "authorship_tag": "ABX9TyMufgEoe+0hVd3w3TBlSyEZ",
      "include_colab_link": true
    },
    "kernelspec": {
      "name": "python3",
      "display_name": "Python 3"
    },
    "language_info": {
      "name": "python"
    }
  },
  "cells": [
    {
      "cell_type": "markdown",
      "metadata": {
        "id": "view-in-github",
        "colab_type": "text"
      },
      "source": [
        "<a href=\"https://colab.research.google.com/github/kimddong0887/python/blob/main/%EB%B0%B1%EC%A4%80_%EB%8B%A8%EA%B3%84%EB%B3%84_%ED%92%80%EC%9D%B4_1~2%EB%8B%A8%EA%B3%84.ipynb\" target=\"_parent\"><img src=\"https://colab.research.google.com/assets/colab-badge.svg\" alt=\"Open In Colab\"/></a>"
      ]
    },
    {
      "cell_type": "markdown",
      "metadata": {
        "id": "IOeOhGDrTtV6"
      },
      "source": [
        "#1단계 입출력과 사칙연산\n",
        "##1. Hello World\n",
        "#### Hello World!를 출력하시오."
      ]
    },
    {
      "cell_type": "code",
      "metadata": {
        "colab": {
          "base_uri": "https://localhost:8080/"
        },
        "id": "pklUHu4_Tzbf",
        "outputId": "17cbe4db-6a05-42c4-e915-38d82ba2c662"
      },
      "source": [
        "print(\"Hello World!\")"
      ],
      "execution_count": null,
      "outputs": [
        {
          "output_type": "stream",
          "name": "stdout",
          "text": [
            "Hello World!\n"
          ]
        }
      ]
    },
    {
      "cell_type": "markdown",
      "metadata": {
        "id": "15kYTRkpT1pP"
      },
      "source": [
        "##2. We love kriii\n",
        "####ACM-ICPC 인터넷 예선, Regional, 그리고 World Finals까지 이미 2회씩 진출해버린 kriii는 미련을 버리지 못하고 왠지 모르게 올해에도 파주 World Finals 준비 캠프에 참여했다.\n",
        "####대회를 뜰 줄 모르는 지박령 kriii를 위해서 격려의 문구를 출력해주자."
      ]
    },
    {
      "cell_type": "code",
      "metadata": {
        "colab": {
          "base_uri": "https://localhost:8080/"
        },
        "id": "K9JZNMx9UQvw",
        "outputId": "e47f6c32-60d9-480c-efa4-61b7721e17cd"
      },
      "source": [
        "print(\"강한친구 대한육군\")\n",
        "print(\"강한친구 대한육군\")"
      ],
      "execution_count": null,
      "outputs": [
        {
          "output_type": "stream",
          "name": "stdout",
          "text": [
            "강한친구 대한육군\n",
            "강한친구 대한육군\n"
          ]
        }
      ]
    },
    {
      "cell_type": "markdown",
      "metadata": {
        "id": "U_CWQ92mUWgQ"
      },
      "source": [
        "##3. 고양이\n",
        "####아래 예제와 같이 고양이를 출력하시오."
      ]
    },
    {
      "cell_type": "code",
      "metadata": {
        "colab": {
          "base_uri": "https://localhost:8080/"
        },
        "id": "oMy0-hevUiWQ",
        "outputId": "905329c6-7b50-40ee-9374-65027e7f9615"
      },
      "source": [
        "print(\"\\\\    /\\\\\")\n",
        "print(\" )  ( \\')\")\n",
        "print(\"(  /  )\")\n",
        "print(\" \\\\(__)|\")"
      ],
      "execution_count": null,
      "outputs": [
        {
          "output_type": "stream",
          "name": "stdout",
          "text": [
            "\\    /\\\n",
            " )  ( ')\n",
            "(  /  )\n",
            " \\(__)|\n"
          ]
        }
      ]
    },
    {
      "cell_type": "markdown",
      "metadata": {
        "id": "0F-j1m-RVBd8"
      },
      "source": [
        "##4. 개\n",
        "####아래 예제와 같이 개를 출력하시오."
      ]
    },
    {
      "cell_type": "code",
      "metadata": {
        "colab": {
          "base_uri": "https://localhost:8080/"
        },
        "id": "HsLeANDlVcbS",
        "outputId": "7a25e472-f4b2-4002-c1cf-b4276c264da8"
      },
      "source": [
        "print(\"|\\\\_/|\")\n",
        "print(\"|q p|   /}\")\n",
        "print(\"( 0 )\\\"\\\"\\\"\\\\\")\n",
        "print(\"|\\\"^\\\"`    |\")\n",
        "print(\"||_/=\\\\\\\\__|\")"
      ],
      "execution_count": null,
      "outputs": [
        {
          "output_type": "stream",
          "name": "stdout",
          "text": [
            "|\\_/|\n",
            "|q p|   /}\n",
            "( 0 )\"\"\"\\\n",
            "|\"^\"`    |\n",
            "||_/=\\\\__|\n"
          ]
        }
      ]
    },
    {
      "cell_type": "markdown",
      "metadata": {
        "id": "HTeWLFY1VwBR"
      },
      "source": [
        "##5. A + B\n",
        "####두 정수 A와 B를 입력받은 다음, A+B를 출력하는 프로그램을 작성하시오."
      ]
    },
    {
      "cell_type": "code",
      "metadata": {
        "colab": {
          "base_uri": "https://localhost:8080/"
        },
        "id": "sfhMRurBWJd-",
        "outputId": "faa1be5b-bae7-4a7b-e74f-1d7756b23720"
      },
      "source": [
        "A, B = map(int,input(\"정수 입력:\").split())\n",
        "print(A + B)"
      ],
      "execution_count": null,
      "outputs": [
        {
          "output_type": "stream",
          "name": "stdout",
          "text": [
            "정수 입력:5 7\n",
            "12\n"
          ]
        }
      ]
    },
    {
      "cell_type": "markdown",
      "metadata": {
        "id": "i4s6FyJ8Wpvs"
      },
      "source": [
        "##6. A-B\n",
        "####두 정수 A와 B를 입력받은 다음, A-B를 출력하는 프로그램을 작성하시오."
      ]
    },
    {
      "cell_type": "code",
      "metadata": {
        "colab": {
          "base_uri": "https://localhost:8080/"
        },
        "id": "77U4U22FW7By",
        "outputId": "6428dde1-3070-4567-ce77-b97555e2fcc0"
      },
      "source": [
        "A, B = map(int,input(\"정수 입력:\").split())\n",
        "print(A - B)"
      ],
      "execution_count": null,
      "outputs": [
        {
          "output_type": "stream",
          "name": "stdout",
          "text": [
            "정수 입력:7 5\n",
            "2\n"
          ]
        }
      ]
    },
    {
      "cell_type": "markdown",
      "metadata": {
        "id": "3tl3NDWCW_c4"
      },
      "source": [
        "##7. A×B\n",
        "####두 정수 A와 B를 입력받은 다음, A×B를 출력하는 프로그램을 작성하시오."
      ]
    },
    {
      "cell_type": "code",
      "metadata": {
        "colab": {
          "base_uri": "https://localhost:8080/"
        },
        "id": "NOzP_t-FXCgh",
        "outputId": "2e0890e0-9b6c-4ce3-a9bd-02e1420ed97c"
      },
      "source": [
        "A, B = map(int,input(\"정수 입력:\").split())\n",
        "print(A * B)"
      ],
      "execution_count": null,
      "outputs": [
        {
          "output_type": "stream",
          "name": "stdout",
          "text": [
            "정수 입력:5 7\n",
            "35\n"
          ]
        }
      ]
    },
    {
      "cell_type": "markdown",
      "metadata": {
        "id": "9wRqG7Z6XG-h"
      },
      "source": [
        "##8. A/B\n",
        "####두 정수 A와 B를 입력받은 다음, A/B를 출력하는 프로그램을 작성하시오."
      ]
    },
    {
      "cell_type": "code",
      "metadata": {
        "colab": {
          "base_uri": "https://localhost:8080/"
        },
        "id": "YUHpcf4JXOFn",
        "outputId": "44118178-3a5c-40ce-eb36-08cf43ef6f57"
      },
      "source": [
        "A, B = map(int,input(\"정수 입력:\").split())\n",
        "print(A / B)"
      ],
      "execution_count": null,
      "outputs": [
        {
          "output_type": "stream",
          "name": "stdout",
          "text": [
            "정수 입력:4 5\n",
            "0.8\n"
          ]
        }
      ]
    },
    {
      "cell_type": "markdown",
      "metadata": {
        "id": "GRws2j1OXTw3"
      },
      "source": [
        "##9. 사칙연산\n",
        "####두 자연수 A와 B가 주어진다. 이때, A+B, A-B, A*B, A/B(몫), A%B(나머지)를 출력하는 프로그램을 작성하시오. "
      ]
    },
    {
      "cell_type": "code",
      "metadata": {
        "colab": {
          "base_uri": "https://localhost:8080/"
        },
        "id": "9C-oJOKvXZ2O",
        "outputId": "1c9913b2-f669-42f4-dc99-b9cc0cd9bbf1"
      },
      "source": [
        "A, B = map(int,input(\"정수 입력:\").split())\n",
        "print(A + B)\n",
        "print(A - B)\n",
        "print(A * B)\n",
        "print(A / B)\n",
        "print(A % B)"
      ],
      "execution_count": null,
      "outputs": [
        {
          "output_type": "stream",
          "name": "stdout",
          "text": [
            "정수 입력:7 3\n",
            "10\n",
            "4\n",
            "21\n",
            "2.3333333333333335\n",
            "1\n"
          ]
        }
      ]
    },
    {
      "cell_type": "markdown",
      "metadata": {
        "id": "lr0pM6TIXfY3"
      },
      "source": [
        "##10. 나머지\n",
        "####(A+B)%C는 ((A%C) + (B%C))%C 와 같을까?\n",
        "\n",
        "####(A×B)%C는 ((A%C) × (B%C))%C 와 같을까?\n",
        "\n",
        "####세 수 A, B, C가 주어졌을 때, 위의 네 가지 값을 구하는 프로그램을 작성하시오."
      ]
    },
    {
      "cell_type": "code",
      "metadata": {
        "colab": {
          "base_uri": "https://localhost:8080/"
        },
        "id": "sWeCoeCBXxlm",
        "outputId": "8a8c725b-ae26-4295-89b2-d2d13ef7bea1"
      },
      "source": [
        "A, B, C = map(int,input(\"정수 입력:\").split())\n",
        "print((A+B)%C)\n",
        "print(((A%C) + (B%C))%C)\n",
        "print((A*B)%C)\n",
        "print(((A%C) * (B%C))%C)"
      ],
      "execution_count": null,
      "outputs": [
        {
          "output_type": "stream",
          "name": "stdout",
          "text": [
            "정수 입력:5 8 4\n",
            "1\n",
            "1\n",
            "0\n",
            "0\n"
          ]
        }
      ]
    },
    {
      "cell_type": "markdown",
      "metadata": {
        "id": "6ygU2AQEX-zT"
      },
      "source": [
        "##11. 곱셈\n",
        "####(세 자리 수) × (세 자리 수)는 다음과 같은 과정을 작성하시오."
      ]
    },
    {
      "cell_type": "code",
      "metadata": {
        "colab": {
          "base_uri": "https://localhost:8080/"
        },
        "id": "tb3rKJbXYVlJ",
        "outputId": "0db102af-dbe3-4ab9-a9b9-5f87ea85e01b"
      },
      "source": [
        "A, B = input(\"정수 입력:\").split()\n",
        "C = int(A) * int(B[2])\n",
        "D = int(A) * int(B[1])\n",
        "E = int(A) * int(B[0])\n",
        "F = int(A) * int(B)\n",
        "print(C)\n",
        "print(D)\n",
        "print(E)\n",
        "print(F)"
      ],
      "execution_count": null,
      "outputs": [
        {
          "output_type": "stream",
          "name": "stdout",
          "text": [
            "정수 입력:472 385\n",
            "2360\n",
            "3776\n",
            "1416\n",
            "181720\n"
          ]
        }
      ]
    },
    {
      "cell_type": "markdown",
      "metadata": {
        "id": "Vg2eO6iZkSno"
      },
      "source": [
        "#2단계 if문\n",
        "##1. \t두 수 비교하기\n",
        "####두 정수 A와 B가 주어졌을 때, A와 B를 비교하는 프로그램을 작성하시오."
      ]
    },
    {
      "cell_type": "code",
      "metadata": {
        "colab": {
          "base_uri": "https://localhost:8080/"
        },
        "id": "iGi1rPoGlNUG",
        "outputId": "305b3d50-098e-4bcb-bca7-ed7a728fe754"
      },
      "source": [
        "A, B = map(int,input(\"정수 입력:\").split())\n",
        "if A > B:\n",
        "  print(\">\")\n",
        "elif A == B:\n",
        "  print(\"==\")\n",
        "else:\n",
        "  print(\"<\")"
      ],
      "execution_count": null,
      "outputs": [
        {
          "output_type": "stream",
          "name": "stdout",
          "text": [
            "정수 입력:1 2\n",
            "<\n"
          ]
        }
      ]
    },
    {
      "cell_type": "markdown",
      "metadata": {
        "id": "4PcnWuZLldh2"
      },
      "source": [
        "##2. 시험 성적\n",
        "####시험 점수를 입력받아 90 ~ 100점은 A, 80 ~ 89점은 B, 70 ~ 79점은 C, 60 ~ 69점은 D, 나머지 점수는 F를 출력하는 프로그램을 작성하시오."
      ]
    },
    {
      "cell_type": "code",
      "metadata": {
        "colab": {
          "base_uri": "https://localhost:8080/"
        },
        "id": "8hOJsZnqlk-u",
        "outputId": "b34ff360-34f5-43df-e783-85e93682947a"
      },
      "source": [
        "A = int(input(\"정수 입력:\"))\n",
        "if A >= 90:\n",
        "  print(\"A\")\n",
        "elif A >= 80:\n",
        "  print(\"B\")\n",
        "elif A >= 70:\n",
        "  print(\"C\")\n",
        "elif A >= 60:\n",
        "  print(\"D\")\n",
        "else:\n",
        "  print(\"F\")"
      ],
      "execution_count": null,
      "outputs": [
        {
          "output_type": "stream",
          "name": "stdout",
          "text": [
            "정수 입력:100\n",
            "A\n"
          ]
        }
      ]
    },
    {
      "cell_type": "markdown",
      "metadata": {
        "id": "XEUh7NaWl-mW"
      },
      "source": [
        "##3. 윤년\n",
        "####연도가 주어졌을 때, 윤년이면 1, 아니면 0을 출력하는 프로그램을 작성하시오.\n",
        "\n",
        "####윤년은 연도가 4의 배수이면서, 100의 배수가 아닐 때 또는 400의 배수일 때이다.\n",
        "\n",
        "####예를 들어, 2012년은 4의 배수이면서 100의 배수가 아니라서 윤년이다. 1900년은 100의 배수이고 400의 배수는 아니기 때문에 윤년이 아니다. 하지만, 2000년은 400의 배수이기 때문에 윤년이다."
      ]
    },
    {
      "cell_type": "code",
      "metadata": {
        "colab": {
          "base_uri": "https://localhost:8080/"
        },
        "id": "Gi8HQB4Jm8Jk",
        "outputId": "23ab9906-6b2a-482a-edfe-d3051cb36d13"
      },
      "source": [
        "A = int(input(\"년도 입력:\"))\n",
        "if A % 4 == 0 and A % 100 != 0 or A % 400 == 0:\n",
        "  print(\"1\")\n",
        "else:\n",
        "  print(\"0\")"
      ],
      "execution_count": null,
      "outputs": [
        {
          "output_type": "stream",
          "name": "stdout",
          "text": [
            "년도 입력:2000\n",
            "1\n"
          ]
        }
      ]
    },
    {
      "cell_type": "markdown",
      "metadata": {
        "id": "kxxnqlcun_Oc"
      },
      "source": [
        "##4. 사분면 고르기\n",
        "####주어진 점이 어느 사분면에 속하는지 알아내는 문제"
      ]
    },
    {
      "cell_type": "code",
      "metadata": {
        "colab": {
          "base_uri": "https://localhost:8080/"
        },
        "id": "1dBXxDe3pNoL",
        "outputId": "9f3feec3-3e19-42f1-b77e-b6c9d614081b"
      },
      "source": [
        "x, y = map(int, input(\"좌표 입력:\").split())\n",
        "if x > 0 and y > 0:\n",
        "  print(\"1\")\n",
        "elif x < 0 and y > 0:\n",
        "  print(\"2\")\n",
        "elif x < 0 and y < 0:\n",
        "  print(\"3\")\n",
        "elif x > 0 and y < 0:\n",
        "  print(\"4\")"
      ],
      "execution_count": null,
      "outputs": [
        {
          "output_type": "stream",
          "name": "stdout",
          "text": [
            "좌표 입력:9 -13\n",
            "4\n"
          ]
        }
      ]
    },
    {
      "cell_type": "markdown",
      "metadata": {
        "id": "kIbnB4UqptIR"
      },
      "source": [
        "##5. 알람 시계\n",
        "####상근이는 매일 아침 알람을 듣고 일어난다. 알람을 듣고 바로 일어나면 다행이겠지만, 항상 조금만 더 자려는 마음 때문에 매일 학교를 지각하고 있다.\n",
        "\n",
        "####상근이는 모든 방법을 동원해보았지만, 조금만 더 자려는 마음은 그 어떤 것도 없앨 수가 없었다.\n",
        "\n",
        "####이런 상근이를 불쌍하게 보던, 창영이는 자신이 사용하는 방법을 추천해 주었다.\n",
        "\n",
        "####바로 \"45분 일찍 알람 설정하기\"이다.\n",
        "\n",
        "####이 방법은 단순하다. 원래 설정되어 있는 알람을 45분 앞서는 시간으로 바꾸는 것이다. 어차피 알람 소리를 들으면, 알람을 끄고 조금 더 잘 것이기 때문이다. 이 방법을 사용하면, 매일 아침 더 잤다는 기분을 느낄 수 있고, 학교도 지각하지 않게 된다.\n",
        "\n",
        "####현재 상근이가 설정한 알람 시각이 주어졌을 때, 창영이의 방법을 사용한다면, 이를 언제로 고쳐야 하는지 구하는 프로그램을 작성하시오.\n",
        "\n"
      ]
    },
    {
      "cell_type": "code",
      "metadata": {
        "colab": {
          "base_uri": "https://localhost:8080/"
        },
        "id": "0ywbeZTwp5iS",
        "outputId": "e49ad089-c7d1-4ef1-9c5e-7fd8bce6e68d"
      },
      "source": [
        "HOUR, MINUTE = map(int, input(\"시간 분 입력:\").split())\n",
        "if MINUTE - 45 < 0:\n",
        "  if HOUR == 0:\n",
        "    print(f\"23 {60 - (45 - MINUTE)}\")\n",
        "  else:\n",
        "    print(f\"{HOUR -1} {60 - (45 - MINUTE)}\")\n",
        "else:\n",
        "  print(f\"{HOUR} {MINUTE - 45}\")"
      ],
      "execution_count": null,
      "outputs": [
        {
          "output_type": "stream",
          "name": "stdout",
          "text": [
            "시간 분 입력:11 50\n",
            "11 5\n"
          ]
        }
      ]
    }
  ]
}