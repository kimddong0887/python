{
  "nbformat": 4,
  "nbformat_minor": 0,
  "metadata": {
    "colab": {
      "name": "백준 단계별 풀이 1~2단계.ipynb",
      "provenance": [],
      "collapsed_sections": [],
      "authorship_tag": "ABX9TyMOxg96Aj91LIyiymP/wuZA",
      "include_colab_link": true
    },
    "kernelspec": {
      "name": "python3",
      "display_name": "Python 3"
    },
    "language_info": {
      "name": "python"
    }
  },
  "cells": [
    {
      "cell_type": "markdown",
      "metadata": {
        "id": "view-in-github",
        "colab_type": "text"
      },
      "source": [
        "<a href=\"https://colab.research.google.com/github/kimddong0887/python/blob/main/%EB%B0%B1%EC%A4%80_%EB%8B%A8%EA%B3%84%EB%B3%84_%ED%92%80%EC%9D%B4_1~2%EB%8B%A8%EA%B3%84.ipynb\" target=\"_parent\"><img src=\"https://colab.research.google.com/assets/colab-badge.svg\" alt=\"Open In Colab\"/></a>"
      ]
    },
    {
      "cell_type": "markdown",
      "metadata": {
        "id": "IOeOhGDrTtV6"
      },
      "source": [
        "#1단계 입출력과 사칙연산\n",
        "##1. Hello World\n",
        "#### Hello World!를 출력하시오."
      ]
    },
    {
      "cell_type": "code",
      "metadata": {
        "colab": {
          "base_uri": "https://localhost:8080/"
        },
        "id": "pklUHu4_Tzbf",
        "outputId": "17cbe4db-6a05-42c4-e915-38d82ba2c662"
      },
      "source": [
        "print(\"Hello World!\")"
      ],
      "execution_count": null,
      "outputs": [
        {
          "output_type": "stream",
          "name": "stdout",
          "text": [
            "Hello World!\n"
          ]
        }
      ]
    },
    {
      "cell_type": "markdown",
      "metadata": {
        "id": "15kYTRkpT1pP"
      },
      "source": [
        "##2. We love kriii\n",
        "####ACM-ICPC 인터넷 예선, Regional, 그리고 World Finals까지 이미 2회씩 진출해버린 kriii는 미련을 버리지 못하고 왠지 모르게 올해에도 파주 World Finals 준비 캠프에 참여했다.\n",
        "####대회를 뜰 줄 모르는 지박령 kriii를 위해서 격려의 문구를 출력해주자."
      ]
    },
    {
      "cell_type": "code",
      "metadata": {
        "colab": {
          "base_uri": "https://localhost:8080/"
        },
        "id": "K9JZNMx9UQvw",
        "outputId": "e47f6c32-60d9-480c-efa4-61b7721e17cd"
      },
      "source": [
        "print(\"강한친구 대한육군\")\n",
        "print(\"강한친구 대한육군\")"
      ],
      "execution_count": null,
      "outputs": [
        {
          "output_type": "stream",
          "name": "stdout",
          "text": [
            "강한친구 대한육군\n",
            "강한친구 대한육군\n"
          ]
        }
      ]
    },
    {
      "cell_type": "markdown",
      "metadata": {
        "id": "U_CWQ92mUWgQ"
      },
      "source": [
        "##3. 고양이\n",
        "####아래 예제와 같이 고양이를 출력하시오."
      ]
    },
    {
      "cell_type": "code",
      "metadata": {
        "colab": {
          "base_uri": "https://localhost:8080/"
        },
        "id": "oMy0-hevUiWQ",
        "outputId": "905329c6-7b50-40ee-9374-65027e7f9615"
      },
      "source": [
        "print(\"\\\\    /\\\\\")\n",
        "print(\" )  ( \\')\")\n",
        "print(\"(  /  )\")\n",
        "print(\" \\\\(__)|\")"
      ],
      "execution_count": null,
      "outputs": [
        {
          "output_type": "stream",
          "name": "stdout",
          "text": [
            "\\    /\\\n",
            " )  ( ')\n",
            "(  /  )\n",
            " \\(__)|\n"
          ]
        }
      ]
    },
    {
      "cell_type": "markdown",
      "metadata": {
        "id": "0F-j1m-RVBd8"
      },
      "source": [
        "##4. 새싹\n",
        "####아래 예제와 같이 개를 출력하시오."
      ]
    },
    {
      "cell_type": "code",
      "metadata": {
        "colab": {
          "base_uri": "https://localhost:8080/"
        },
        "id": "HsLeANDlVcbS",
        "outputId": "b8326430-6b97-4d54-de73-26283ec7ce4f"
      },
      "source": [
        "print(\"         ,r\\'\\\"7\")\n",
        "print(\"r`-_   ,\\'  ,/\")\n",
        "print(\" \\\\. \\\". L_r\\'\")\n",
        "print(\"   `~\\\\/\")\n",
        "print(\"      |\")\n",
        "print(\"      |\")"
      ],
      "execution_count": 2,
      "outputs": [
        {
          "output_type": "stream",
          "name": "stdout",
          "text": [
            "         ,r'\"7\n",
            "r`-_   ,'  ,/\n",
            " \\. \". L_r'\n",
            "   `~\\/\n",
            "      |\n",
            "      |\n"
          ]
        }
      ]
    },
    {
      "cell_type": "markdown",
      "metadata": {
        "id": "HTeWLFY1VwBR"
      },
      "source": [
        "##5. A + B\n",
        "####두 정수 A와 B를 입력받은 다음, A+B를 출력하는 프로그램을 작성하시오."
      ]
    },
    {
      "cell_type": "code",
      "metadata": {
        "colab": {
          "base_uri": "https://localhost:8080/"
        },
        "id": "sfhMRurBWJd-",
        "outputId": "24dee241-14c1-4fb6-9d60-14be8f61e1ad"
      },
      "source": [
        "A, B = map(int,input().split())\n",
        "print(A + B)"
      ],
      "execution_count": 4,
      "outputs": [
        {
          "output_type": "stream",
          "name": "stdout",
          "text": [
            "1 2\n",
            "3\n"
          ]
        }
      ]
    },
    {
      "cell_type": "markdown",
      "metadata": {
        "id": "i4s6FyJ8Wpvs"
      },
      "source": [
        "##6. A-B\n",
        "####두 정수 A와 B를 입력받은 다음, A-B를 출력하는 프로그램을 작성하시오."
      ]
    },
    {
      "cell_type": "code",
      "metadata": {
        "colab": {
          "base_uri": "https://localhost:8080/"
        },
        "id": "77U4U22FW7By",
        "outputId": "6428dde1-3070-4567-ce77-b97555e2fcc0"
      },
      "source": [
        "A, B = map(int,input().split())\n",
        "print(A - B)"
      ],
      "execution_count": null,
      "outputs": [
        {
          "output_type": "stream",
          "name": "stdout",
          "text": [
            "정수 입력:7 5\n",
            "2\n"
          ]
        }
      ]
    },
    {
      "cell_type": "markdown",
      "metadata": {
        "id": "3tl3NDWCW_c4"
      },
      "source": [
        "##7. A×B\n",
        "####두 정수 A와 B를 입력받은 다음, A×B를 출력하는 프로그램을 작성하시오."
      ]
    },
    {
      "cell_type": "code",
      "metadata": {
        "colab": {
          "base_uri": "https://localhost:8080/"
        },
        "id": "NOzP_t-FXCgh",
        "outputId": "2e0890e0-9b6c-4ce3-a9bd-02e1420ed97c"
      },
      "source": [
        "A, B = map(int,input().split())\n",
        "print(A * B)"
      ],
      "execution_count": null,
      "outputs": [
        {
          "output_type": "stream",
          "name": "stdout",
          "text": [
            "정수 입력:5 7\n",
            "35\n"
          ]
        }
      ]
    },
    {
      "cell_type": "markdown",
      "metadata": {
        "id": "9wRqG7Z6XG-h"
      },
      "source": [
        "##8. A/B\n",
        "####두 정수 A와 B를 입력받은 다음, A/B를 출력하는 프로그램을 작성하시오."
      ]
    },
    {
      "cell_type": "code",
      "metadata": {
        "colab": {
          "base_uri": "https://localhost:8080/"
        },
        "id": "YUHpcf4JXOFn",
        "outputId": "44118178-3a5c-40ce-eb36-08cf43ef6f57"
      },
      "source": [
        "A, B = map(int,input().split())\n",
        "print(A / B)"
      ],
      "execution_count": null,
      "outputs": [
        {
          "output_type": "stream",
          "name": "stdout",
          "text": [
            "정수 입력:4 5\n",
            "0.8\n"
          ]
        }
      ]
    },
    {
      "cell_type": "markdown",
      "metadata": {
        "id": "GRws2j1OXTw3"
      },
      "source": [
        "##9. 사칙연산\n",
        "####두 자연수 A와 B가 주어진다. 이때, A+B, A-B, A*B, A/B(몫), A%B(나머지)를 출력하는 프로그램을 작성하시오. "
      ]
    },
    {
      "cell_type": "code",
      "metadata": {
        "colab": {
          "base_uri": "https://localhost:8080/"
        },
        "id": "9C-oJOKvXZ2O",
        "outputId": "33bccd2e-06e2-4fe2-a5a5-8d430259a130"
      },
      "source": [
        "A, B = map(int,input().split())\n",
        "print(A + B)\n",
        "print(A - B)\n",
        "print(A * B)\n",
        "print(A // B)\n",
        "print(A % B)"
      ],
      "execution_count": 6,
      "outputs": [
        {
          "output_type": "stream",
          "name": "stdout",
          "text": [
            "7 3\n",
            "10\n",
            "4\n",
            "21\n",
            "2\n",
            "1\n"
          ]
        }
      ]
    },
    {
      "cell_type": "markdown",
      "source": [
        "##10. ??!\n",
        "####준하는 사이트에 회원가입을 하다가 joonas라는 아이디가 이미 존재하는 것을 보고 놀랐다. 준하는 놀람을 ??!로 표현한다. 준하가 가입하려고 하는 사이트에 이미 존재하는 아이디가 주어졌을 때, 놀람을 표현하는 프로그램을 작성하시오."
      ],
      "metadata": {
        "id": "WrfrL4AXUi9X"
      }
    },
    {
      "cell_type": "code",
      "source": [
        "A = input()\n",
        "print(A + \"??!\")"
      ],
      "metadata": {
        "colab": {
          "base_uri": "https://localhost:8080/"
        },
        "id": "kiW7YFwYUo3f",
        "outputId": "9baadf46-d961-4eef-c4d7-c43e1d976690"
      },
      "execution_count": 8,
      "outputs": [
        {
          "output_type": "stream",
          "name": "stdout",
          "text": [
            "joonas\n",
            "joonas??!\n"
          ]
        }
      ]
    },
    {
      "cell_type": "markdown",
      "source": [
        "##11. 1998년생인 내가 태국에서는 2541년생?!\n",
        "####ICPC Bangkok Regional에 참가하기 위해 수완나품 국제공항에 막 도착한 팀 레드시프트 일행은 눈을 믿을 수 없었다. 공항의 대형 스크린에 올해가 2562년이라고 적혀 있던 것이었다.\n",
        "\n",
        "####불교 국가인 태국은 불멸기원(佛滅紀元), 즉 석가모니가 열반한 해를 기준으로 연도를 세는 불기를 사용한다. 반면, 우리나라는 서기 연도를 사용하고 있다. 불기 연도가 주어질 때 이를 서기 연도로 바꿔 주는 프로그램을 작성하시오."
      ],
      "metadata": {
        "id": "5ZXNcKmoU5ub"
      }
    },
    {
      "cell_type": "code",
      "source": [
        "A = int(input())\n",
        "print(A - 543)"
      ],
      "metadata": {
        "colab": {
          "base_uri": "https://localhost:8080/"
        },
        "id": "xYWWbGAGU9fe",
        "outputId": "5df4e295-87b3-4e8f-c7e7-77c2b1ae4303"
      },
      "execution_count": 11,
      "outputs": [
        {
          "output_type": "stream",
          "name": "stdout",
          "text": [
            "2541\n",
            "1998\n"
          ]
        }
      ]
    },
    {
      "cell_type": "markdown",
      "metadata": {
        "id": "lr0pM6TIXfY3"
      },
      "source": [
        "##12. 나머지\n",
        "####(A+B)%C는 ((A%C) + (B%C))%C 와 같을까?\n",
        "\n",
        "####(A×B)%C는 ((A%C) × (B%C))%C 와 같을까?\n",
        "\n",
        "####세 수 A, B, C가 주어졌을 때, 위의 네 가지 값을 구하는 프로그램을 작성하시오."
      ]
    },
    {
      "cell_type": "code",
      "metadata": {
        "colab": {
          "base_uri": "https://localhost:8080/"
        },
        "id": "sWeCoeCBXxlm",
        "outputId": "8436e423-a053-4ad7-948a-e043766698aa"
      },
      "source": [
        "A, B, C = map(int,input().split())\n",
        "print((A+B)%C)\n",
        "print(((A%C) + (B%C))%C)\n",
        "print((A*B)%C)\n",
        "print(((A%C) * (B%C))%C)"
      ],
      "execution_count": 7,
      "outputs": [
        {
          "output_type": "stream",
          "name": "stdout",
          "text": [
            "5 8 4\n",
            "1\n",
            "1\n",
            "0\n",
            "0\n"
          ]
        }
      ]
    },
    {
      "cell_type": "markdown",
      "metadata": {
        "id": "6ygU2AQEX-zT"
      },
      "source": [
        "##13. 곱셈\n",
        "####(세 자리 수) × (세 자리 수)는 다음과 같은 과정을 작성하시오."
      ]
    },
    {
      "cell_type": "code",
      "metadata": {
        "colab": {
          "base_uri": "https://localhost:8080/"
        },
        "id": "tb3rKJbXYVlJ",
        "outputId": "81ec27a0-3772-4dfd-8984-832e5c379394"
      },
      "source": [
        "A = input()\n",
        "B = input()\n",
        "C = int(A) * int(B[2])\n",
        "D = int(A) * int(B[1])\n",
        "E = int(A) * int(B[0])\n",
        "F = int(A) * int(B)\n",
        "print(C)\n",
        "print(D)\n",
        "print(E)\n",
        "print(F)"
      ],
      "execution_count": 14,
      "outputs": [
        {
          "output_type": "stream",
          "name": "stdout",
          "text": [
            "472\n",
            "385\n",
            "2360\n",
            "3776\n",
            "1416\n",
            "181720\n"
          ]
        }
      ]
    },
    {
      "cell_type": "markdown",
      "metadata": {
        "id": "Vg2eO6iZkSno"
      },
      "source": [
        "#2단계 if문\n",
        "##1. \t두 수 비교하기\n",
        "####두 정수 A와 B가 주어졌을 때, A와 B를 비교하는 프로그램을 작성하시오."
      ]
    },
    {
      "cell_type": "code",
      "metadata": {
        "colab": {
          "base_uri": "https://localhost:8080/"
        },
        "id": "iGi1rPoGlNUG",
        "outputId": "305b3d50-098e-4bcb-bca7-ed7a728fe754"
      },
      "source": [
        "A, B = map(int,input().split())\n",
        "if A > B:\n",
        "  print(\">\")\n",
        "elif A == B:\n",
        "  print(\"==\")\n",
        "else:\n",
        "  print(\"<\")"
      ],
      "execution_count": null,
      "outputs": [
        {
          "output_type": "stream",
          "name": "stdout",
          "text": [
            "정수 입력:1 2\n",
            "<\n"
          ]
        }
      ]
    },
    {
      "cell_type": "markdown",
      "metadata": {
        "id": "4PcnWuZLldh2"
      },
      "source": [
        "##2. 시험 성적\n",
        "####시험 점수를 입력받아 90 ~ 100점은 A, 80 ~ 89점은 B, 70 ~ 79점은 C, 60 ~ 69점은 D, 나머지 점수는 F를 출력하는 프로그램을 작성하시오."
      ]
    },
    {
      "cell_type": "code",
      "metadata": {
        "colab": {
          "base_uri": "https://localhost:8080/"
        },
        "id": "8hOJsZnqlk-u",
        "outputId": "b34ff360-34f5-43df-e783-85e93682947a"
      },
      "source": [
        "A = int(input())\n",
        "if A >= 90:\n",
        "  print(\"A\")\n",
        "elif A >= 80:\n",
        "  print(\"B\")\n",
        "elif A >= 70:\n",
        "  print(\"C\")\n",
        "elif A >= 60:\n",
        "  print(\"D\")\n",
        "else:\n",
        "  print(\"F\")"
      ],
      "execution_count": null,
      "outputs": [
        {
          "output_type": "stream",
          "name": "stdout",
          "text": [
            "정수 입력:100\n",
            "A\n"
          ]
        }
      ]
    },
    {
      "cell_type": "markdown",
      "metadata": {
        "id": "XEUh7NaWl-mW"
      },
      "source": [
        "##3. 윤년\n",
        "####연도가 주어졌을 때, 윤년이면 1, 아니면 0을 출력하는 프로그램을 작성하시오.\n",
        "\n",
        "####윤년은 연도가 4의 배수이면서, 100의 배수가 아닐 때 또는 400의 배수일 때이다.\n",
        "\n",
        "####예를 들어, 2012년은 4의 배수이면서 100의 배수가 아니라서 윤년이다. 1900년은 100의 배수이고 400의 배수는 아니기 때문에 윤년이 아니다. 하지만, 2000년은 400의 배수이기 때문에 윤년이다."
      ]
    },
    {
      "cell_type": "code",
      "metadata": {
        "colab": {
          "base_uri": "https://localhost:8080/"
        },
        "id": "Gi8HQB4Jm8Jk",
        "outputId": "23ab9906-6b2a-482a-edfe-d3051cb36d13"
      },
      "source": [
        "A = int(input())\n",
        "if A % 4 == 0 and A % 100 != 0 or A % 400 == 0:\n",
        "  print(\"1\")\n",
        "else:\n",
        "  print(\"0\")"
      ],
      "execution_count": null,
      "outputs": [
        {
          "output_type": "stream",
          "name": "stdout",
          "text": [
            "년도 입력:2000\n",
            "1\n"
          ]
        }
      ]
    },
    {
      "cell_type": "markdown",
      "metadata": {
        "id": "kxxnqlcun_Oc"
      },
      "source": [
        "##4. 사분면 고르기\n",
        "####주어진 점이 어느 사분면에 속하는지 알아내는 문제"
      ]
    },
    {
      "cell_type": "code",
      "metadata": {
        "colab": {
          "base_uri": "https://localhost:8080/"
        },
        "id": "1dBXxDe3pNoL",
        "outputId": "c5bf4af5-d528-41e5-bd88-3bb59752f3ce"
      },
      "source": [
        "x = int(input())\n",
        "y = int(input())\n",
        "if x > 0 and y > 0:\n",
        "  print(\"1\")\n",
        "elif x < 0 and y > 0:\n",
        "  print(\"2\")\n",
        "elif x < 0 and y < 0:\n",
        "  print(\"3\")\n",
        "elif x > 0 and y < 0:\n",
        "  print(\"4\")"
      ],
      "execution_count": 16,
      "outputs": [
        {
          "output_type": "stream",
          "name": "stdout",
          "text": [
            "12\n",
            "5\n",
            "1\n"
          ]
        }
      ]
    },
    {
      "cell_type": "markdown",
      "metadata": {
        "id": "kIbnB4UqptIR"
      },
      "source": [
        "##5. 알람 시계\n",
        "####상근이는 매일 아침 알람을 듣고 일어난다. 알람을 듣고 바로 일어나면 다행이겠지만, 항상 조금만 더 자려는 마음 때문에 매일 학교를 지각하고 있다.\n",
        "\n",
        "####상근이는 모든 방법을 동원해보았지만, 조금만 더 자려는 마음은 그 어떤 것도 없앨 수가 없었다.\n",
        "\n",
        "####이런 상근이를 불쌍하게 보던, 창영이는 자신이 사용하는 방법을 추천해 주었다.\n",
        "\n",
        "####바로 \"45분 일찍 알람 설정하기\"이다.\n",
        "\n",
        "####이 방법은 단순하다. 원래 설정되어 있는 알람을 45분 앞서는 시간으로 바꾸는 것이다. 어차피 알람 소리를 들으면, 알람을 끄고 조금 더 잘 것이기 때문이다. 이 방법을 사용하면, 매일 아침 더 잤다는 기분을 느낄 수 있고, 학교도 지각하지 않게 된다.\n",
        "\n",
        "####현재 상근이가 설정한 알람 시각이 주어졌을 때, 창영이의 방법을 사용한다면, 이를 언제로 고쳐야 하는지 구하는 프로그램을 작성하시오.\n",
        "\n"
      ]
    },
    {
      "cell_type": "code",
      "metadata": {
        "colab": {
          "base_uri": "https://localhost:8080/"
        },
        "id": "0ywbeZTwp5iS",
        "outputId": "e49ad089-c7d1-4ef1-9c5e-7fd8bce6e68d"
      },
      "source": [
        "HOUR, MINUTE = map(int, input().split())\n",
        "if MINUTE - 45 < 0:\n",
        "  if HOUR == 0:\n",
        "    print(f\"23 {60 - (45 - MINUTE)}\")\n",
        "  else:\n",
        "    print(f\"{HOUR -1} {60 - (45 - MINUTE)}\")\n",
        "else:\n",
        "  print(f\"{HOUR} {MINUTE - 45}\")"
      ],
      "execution_count": null,
      "outputs": [
        {
          "output_type": "stream",
          "name": "stdout",
          "text": [
            "시간 분 입력:11 50\n",
            "11 5\n"
          ]
        }
      ]
    },
    {
      "cell_type": "markdown",
      "source": [
        "##6. 오븐 시계\n",
        "####KOI 전자에서는 건강에 좋고 맛있는 훈제오리구이 요리를 간편하게 만드는 인공지능 오븐을 개발하려고 한다. 인공지능 오븐을 사용하는 방법은 적당한 양의 오리 훈제 재료를 인공지능 오븐에 넣으면 된다. 그러면 인공지능 오븐은 오븐구이가 끝나는 시간을 분 단위로 자동적으로 계산한다. \n",
        "\n",
        "####또한, KOI 전자의 인공지능 오븐 앞면에는 사용자에게 훈제오리구이 요리가 끝나는 시각을 알려 주는 디지털 시계가 있다. \n",
        "\n",
        "####훈제오리구이를 시작하는 시각과 오븐구이를 하는 데 필요한 시간이 분단위로 주어졌을 때, 오븐구이가 끝나는 시각을 계산하는 프로그램을 작성하시오."
      ],
      "metadata": {
        "id": "Bc06G5DPWP6F"
      }
    },
    {
      "cell_type": "code",
      "source": [
        "HOUR, MINUTE = map(int, input().split())\n",
        "PLUS_MINUTE = int(input())\n",
        "SUM_MINUTE = PLUS_MINUTE + MINUTE\n",
        "PLUS_HOUR = SUM_MINUTE // 60\n",
        "if SUM_MINUTE > 59:\n",
        "  if PLUS_HOUR + HOUR > 23:\n",
        "    print(f\"{(PLUS_HOUR + HOUR) % 24} {SUM_MINUTE % 60}\")\n",
        "  else:\n",
        "    print(f\"{PLUS_HOUR + HOUR} {SUM_MINUTE % 60}\")\n",
        "else:\n",
        "  print(f\"{HOUR} {SUM_MINUTE}\")"
      ],
      "metadata": {
        "colab": {
          "base_uri": "https://localhost:8080/"
        },
        "id": "WuuDo7OCWSxy",
        "outputId": "e7aecad9-a884-4dfb-ad7d-c27a31c60ee6"
      },
      "execution_count": 25,
      "outputs": [
        {
          "output_type": "stream",
          "name": "stdout",
          "text": [
            "23 48\n",
            "25\n",
            "0 13\n"
          ]
        }
      ]
    },
    {
      "cell_type": "markdown",
      "source": [
        "##7. 주사위 세개\n",
        "####1에서부터 6까지의 눈을 가진 3개의 주사위를 던져서 다음과 같은 규칙에 따라 상금을 받는 게임이 있다. \n",
        "\n",
        "####1. 같은 눈이 3개가 나오면 10,000원+(같은 눈)×1,000원의 상금을 받게 된다. \n",
        "####2. 같은 눈이 2개만 나오는 경우에는 1,000원+(같은 눈)×100원의 상금을 받게 된다. \n",
        "####3. 모두 다른 눈이 나오는 경우에는 (그 중 가장 큰 눈)×100원의 상금을 받게 된다.  \n",
        "####예를 들어, 3개의 눈 3, 3, 6이 주어지면 상금은 1,000+3×100으로 계산되어 1,300원을 받게 된다. 또 3개의 눈이 2, 2, 2로 주어지면 10,000+2×1,000 으로 계산되어 12,000원을 받게 된다. 3개의 눈이 6, 2, 5로 주어지면 그중 가장 큰 값이 6이므로 6×100으로 계산되어 600원을 상금으로 받게 된다.\n",
        "\n",
        "####3개 주사위의 나온 눈이 주어질 때, 상금을 계산하는 프로그램을 작성 하시오."
      ],
      "metadata": {
        "id": "BO1Onl7pmzKc"
      }
    },
    {
      "cell_type": "code",
      "source": [
        "First, Second, Third = map(int, input().split())\n",
        "if First == Second == Third:\n",
        "  print(10000 + (First * 1000))\n",
        "elif First == Second or First == Third or Second == Third:\n",
        "  if First == Second or Second == Third:\n",
        "    print(1000 + (Second * 100))\n",
        "  elif First == Third:\n",
        "    print(1000 + (First * 100))\n",
        "else:\n",
        "  print(max(First, Second, Third) * 100)"
      ],
      "metadata": {
        "colab": {
          "base_uri": "https://localhost:8080/"
        },
        "id": "MDcNeM_6m6fQ",
        "outputId": "9ce93643-a3a6-4a81-b715-e019f727fa30"
      },
      "execution_count": 30,
      "outputs": [
        {
          "output_type": "stream",
          "name": "stdout",
          "text": [
            "6 2 5\n",
            "600\n"
          ]
        }
      ]
    }
  ]
}