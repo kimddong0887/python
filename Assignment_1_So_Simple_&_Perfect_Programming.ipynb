{
  "nbformat": 4,
  "nbformat_minor": 0,
  "metadata": {
    "colab": {
      "name": "Assignment#1: So Simple & Perfect Programming.ipynb",
      "provenance": [],
      "collapsed_sections": [],
      "authorship_tag": "ABX9TyNVFkld2VxaWW/yxusYQA49",
      "include_colab_link": true
    },
    "kernelspec": {
      "name": "python3",
      "display_name": "Python 3"
    },
    "language_info": {
      "name": "python"
    }
  },
  "cells": [
    {
      "cell_type": "markdown",
      "metadata": {
        "id": "view-in-github",
        "colab_type": "text"
      },
      "source": [
        "<a href=\"https://colab.research.google.com/github/kimddong0887/python/blob/main/Assignment_1_So_Simple_%26_Perfect_Programming.ipynb\" target=\"_parent\"><img src=\"https://colab.research.google.com/assets/colab-badge.svg\" alt=\"Open In Colab\"/></a>"
      ]
    },
    {
      "cell_type": "code",
      "execution_count": 2,
      "metadata": {
        "colab": {
          "base_uri": "https://localhost:8080/"
        },
        "id": "LT9tWAx8p8Ff",
        "outputId": "2e6f2211-7766-4a7d-f1ca-0ce87a2df717"
      },
      "outputs": [
        {
          "output_type": "stream",
          "name": "stdout",
          "text": [
            "LastName: Kim\n",
            "FirstName: Donggun\n",
            "Birth (Example: 20030122): 20030122\n",
            "Name: KimDonggun Age: 19\n"
          ]
        }
      ],
      "source": [
        "import datetime\n",
        "d = datetime.datetime.today() ## 오늘 날짜 파악하는 함수\n",
        "Year = d.strftime('%Y') ## 오늘 년도 추출\n",
        "Month = d.strftime('%m') ## 오늘 월 추출\n",
        "Day = d.strftime('%d') ## 오늘 일 추출\n",
        "\n",
        "LastName = input(\"LastName: \") ## 성 입력\n",
        "FirstName = input(\"FirstName: \") ## 이름 입력\n",
        "Birth = int(input(\"Birth (Example: 20030122): \")) ## 생년월일 입력\n",
        "\n",
        "Today = int(Year + Month + Day) \n",
        "Age = str(Today - Birth)[:-4] ## Today - Birth 값의 끝에서 4칸을 없앰 \n",
        "if Age == '': ## 같은 해에 태어나서 Age 값이 4자리라 공백이 되었다면 \n",
        "  Age = 0 ## 0살로 처리\n",
        "\n",
        "print (f\"Name: {LastName}{FirstName} Age: {Age}\")"
      ]
    }
  ]
}