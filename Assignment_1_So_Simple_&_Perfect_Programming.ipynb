{
  "nbformat": 4,
  "nbformat_minor": 0,
  "metadata": {
    "colab": {
      "name": "Assignment#1: So Simple & Perfect Programming.ipynb",
      "provenance": [],
      "collapsed_sections": [],
      "authorship_tag": "ABX9TyMTcsAWbwk1RvMuqOnwtJP/",
      "include_colab_link": true
    },
    "kernelspec": {
      "name": "python3",
      "display_name": "Python 3"
    },
    "language_info": {
      "name": "python"
    }
  },
  "cells": [
    {
      "cell_type": "markdown",
      "metadata": {
        "id": "view-in-github",
        "colab_type": "text"
      },
      "source": [
        "<a href=\"https://colab.research.google.com/github/kimddong0887/python/blob/main/Assignment_1_So_Simple_%26_Perfect_Programming.ipynb\" target=\"_parent\"><img src=\"https://colab.research.google.com/assets/colab-badge.svg\" alt=\"Open In Colab\"/></a>"
      ]
    },
    {
      "cell_type": "code",
      "execution_count": 1,
      "metadata": {
        "colab": {
          "base_uri": "https://localhost:8080/"
        },
        "id": "LT9tWAx8p8Ff",
        "outputId": "5620cf89-2c09-415a-ecd0-2820aa4790cd"
      },
      "outputs": [
        {
          "output_type": "stream",
          "name": "stdout",
          "text": [
            "Name: \n",
            "다시 입력하세요\n",
            "Name: \n",
            "다시 입력하세요\n",
            "Name: 김동건\n",
            "Birth (Example: 20030122): 오미크론\n",
            "다시 입력하세요\n",
            "Birth (Example: 20030122): 홈런볼\n",
            "다시 입력하세요\n",
            "Birth (Example: 20030122): 20030122\n",
            "Name: 김동건 Age: 19\n"
          ]
        }
      ],
      "source": [
        "import datetime\n",
        "\n",
        "d = datetime.datetime.today() ## 오늘 날짜 파악하는 함수\n",
        "Year = d.strftime('%Y') ## 오늘 년도 추출\n",
        "Month = d.strftime('%m') ## 오늘 월 추출\n",
        "Day = d.strftime('%d') ## 오늘 일 추출\n",
        "\n",
        "def NameInput():\n",
        "    value = input(\"Name: \") ## 이름 입력\n",
        "\n",
        "    if value == '':\n",
        "        return False\n",
        "    \n",
        "    global Name\n",
        "    Name = str(value)\n",
        "    return True\n",
        "\n",
        "def BirthInput():\n",
        "    value = input(\"Birth (Example: 20030122): \") ## 생년월일 입력\n",
        "\n",
        "    if value.isnumeric() != True:\n",
        "        return False\n",
        "    \n",
        "    global Birth\n",
        "    Birth = int(value)\n",
        "    return True\n",
        "\n",
        "while NameInput() == False:\n",
        "    print('다시 입력하세요')\n",
        "\n",
        "while BirthInput() == False:\n",
        "    print('다시 입력하세요')\n",
        "\n",
        "\n",
        "Today = int(Year + Month + Day)\n",
        "Age = str(Today - Birth)[:-4] ## Today - Birth 값의 끝에서 4칸을 없앰\n",
        "\n",
        "if Age == '': ## 같은 해에 태어나서 Age 값이 4자리라 공백이 되었다면 \n",
        "    Age = 0 ## 0살로 처리d\n",
        "\n",
        "print (f\"Name: {Name} Age: {Age}\")"
      ]
    }
  ]
}