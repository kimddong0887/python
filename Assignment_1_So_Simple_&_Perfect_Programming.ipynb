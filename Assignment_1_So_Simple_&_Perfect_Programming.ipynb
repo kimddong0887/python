{
  "nbformat": 4,
  "nbformat_minor": 0,
  "metadata": {
    "colab": {
      "name": "Assignment#1: So Simple & Perfect Programming.ipynb",
      "provenance": [],
      "authorship_tag": "ABX9TyMu8DfqkK87rITPqjEXYQ9X",
      "include_colab_link": true
    },
    "kernelspec": {
      "name": "python3",
      "display_name": "Python 3"
    },
    "language_info": {
      "name": "python"
    }
  },
  "cells": [
    {
      "cell_type": "markdown",
      "metadata": {
        "id": "view-in-github",
        "colab_type": "text"
      },
      "source": [
        "<a href=\"https://colab.research.google.com/github/kimddong0887/python/blob/main/Assignment_1_So_Simple_%26_Perfect_Programming.ipynb\" target=\"_parent\"><img src=\"https://colab.research.google.com/assets/colab-badge.svg\" alt=\"Open In Colab\"/></a>"
      ]
    },
    {
      "cell_type": "code",
      "execution_count": 77,
      "metadata": {
        "colab": {
          "base_uri": "https://localhost:8080/"
        },
        "id": "LT9tWAx8p8Ff",
        "outputId": "b7b42a69-5112-4f61-993e-fb1ea42aa9c6"
      },
      "outputs": [
        {
          "output_type": "stream",
          "name": "stdout",
          "text": [
            "이름: 김동건\n",
            "생년월일(8 자리로 입력하세요): 20030122\n",
            "이름: 김동건 나이: 19세\n"
          ]
        }
      ],
      "source": [
        "import datetime\n",
        "d = datetime.datetime.today() ## 오늘 날짜 파악하는 함수\n",
        "Year = int(d.strftime('%Y')) ## 오늘 년도 추출\n",
        "Month = int(d.strftime('%m')) ## 오늘 월 추출\n",
        "Day = int(d.strftime('%d')) ## 오늘 일 추출\n",
        "\n",
        "Name = input(\"이름: \") ## 이름 입력\n",
        "Birth = input(\"생년월일(8 자리로 입력하세요): \") ## 생년월일 입력\n",
        "BirthYear = int(Birth[:4]) ## 생일 년도\n",
        "BirthMonth = int(Birth[4:6]) ## 생일 월\n",
        "BirthDay = int(Birth[6:]) ## 생일 일\n",
        "\n",
        "if BirthMonth < Month: ## 오늘 월이 생일을 지났다면 \n",
        "    Age = Year - BirthYear\n",
        "elif BirthMonth == Month: ## 오늘 월이 생일과 같다면\n",
        "  if BirthDay <= Day: ## 오늘 일이 생일과 같거나 지났을 때\n",
        "    Age = Year - BirthYear\n",
        "  else: ## 안지났을 때\n",
        "    Age = Year - BirthYear - 1\n",
        "else: ## 그 외의 경우에는 \n",
        "  Age = Year - BirthYear - 1 ## 만 나이\n",
        "print (f\"이름: {Name} 나이: {Age}세\")"
      ]
    }
  ]
}