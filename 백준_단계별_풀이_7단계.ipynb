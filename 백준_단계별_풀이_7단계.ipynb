{
  "nbformat": 4,
  "nbformat_minor": 0,
  "metadata": {
    "colab": {
      "name": "백준 단계별 풀이 7단계.ipynb",
      "provenance": [],
      "collapsed_sections": [],
      "authorship_tag": "ABX9TyNjM2E0KZCncpDwlExf1wjX",
      "include_colab_link": true
    },
    "kernelspec": {
      "name": "python3",
      "display_name": "Python 3"
    },
    "language_info": {
      "name": "python"
    }
  },
  "cells": [
    {
      "cell_type": "markdown",
      "metadata": {
        "id": "view-in-github",
        "colab_type": "text"
      },
      "source": [
        "<a href=\"https://colab.research.google.com/github/kimddong0887/python/blob/main/%EB%B0%B1%EC%A4%80_%EB%8B%A8%EA%B3%84%EB%B3%84_%ED%92%80%EC%9D%B4_7%EB%8B%A8%EA%B3%84.ipynb\" target=\"_parent\"><img src=\"https://colab.research.google.com/assets/colab-badge.svg\" alt=\"Open In Colab\"/></a>"
      ]
    },
    {
      "cell_type": "markdown",
      "source": [
        "#7단계 기본 수학 1\n",
        "##1. 손익분기점\n",
        "#### 월드전자는 노트북을 제조하고 판매하는 회사이다. 노트북 판매 대수에 상관없이 매년 임대료, 재산세, 보험료, 급여 등 A만원의 고정 비용이 들며, 한 대의 노트북을 생산하는 데에는 재료비와 인건비 등 총 B만원의 가변 비용이 든다고 한다.\n",
        "\n",
        "####예를 들어 A=1,000, B=70이라고 하자. 이 경우 노트북을 한 대 생산하는 데는 총 1,070만원이 들며, 열 대 생산하는 데는 총 1,700만원이 든다.\n",
        "\n",
        "####노트북 가격이 C만원으로 책정되었다고 한다. 일반적으로 생산 대수를 늘려 가다 보면 어느 순간 총 수입(판매비용)이 총 비용(=고정비용+가변비용)보다 많아지게 된다. 최초로 총 수입이 총 비용보다 많아져 이익이 발생하는 지점을 손익분기점(BREAK-EVEN POINT)이라고 한다.\n",
        "\n",
        "####A, B, C가 주어졌을 때, 손익분기점을 구하는 프로그램을 작성하시오."
      ],
      "metadata": {
        "id": "Ba1T4I-X8A2a"
      }
    },
    {
      "cell_type": "code",
      "source": [
        "A, B, C = map(int,input().split())\n",
        "D = C - B\n",
        "time = 1\n",
        "x = 0\n",
        "if B > C or B == C:\n",
        "  time = -1\n",
        "else:\n",
        "  time = int(A // D) + 1\n",
        "print(time)"
      ],
      "metadata": {
        "colab": {
          "base_uri": "https://localhost:8080/"
        },
        "id": "oSoVG6oO8Mfw",
        "outputId": "0952391c-0b43-49c8-f6d7-ad6665398975"
      },
      "execution_count": null,
      "outputs": [
        {
          "output_type": "stream",
          "name": "stdout",
          "text": [
            "3 2 2\n",
            "0\n"
          ]
        }
      ]
    },
    {
      "cell_type": "markdown",
      "source": [
        "##2. 벌집\n",
        "####위의 그림과 같이 육각형으로 이루어진 벌집이 있다. 그림에서 보는 바와 같이 중앙의 방 1부터 시작해서 이웃하는 방에 돌아가면서 1씩 증가하는 번호를 주소로 매길 수 있다. 숫자 N이 주어졌을 때, 벌집의 중앙 1에서 N번 방까지 최소 개수의 방을 지나서 갈 때 몇 개의 방을 지나가는지(시작과 끝을 포함하여)를 계산하는 프로그램을 작성하시오. 예를 들면, 13까지는 3개, 58까지는 5개를 지난다."
      ],
      "metadata": {
        "id": "4gQ2NHcnstkS"
      }
    },
    {
      "cell_type": "code",
      "source": [
        "n = int(input())\n",
        "count = 2\n",
        "x, y = (2, 8)\n",
        "if n == 1:\n",
        "    print(1)\n",
        "else:\n",
        "  while n not in range(x, y):\n",
        "    x = y\n",
        "    y += 6 * count\n",
        "    count += 1\n",
        "  print(count)"
      ],
      "metadata": {
        "colab": {
          "base_uri": "https://localhost:8080/"
        },
        "id": "FrqNnQvu4H6e",
        "outputId": "835ef68a-9255-460b-84f1-015519702b06"
      },
      "execution_count": null,
      "outputs": [
        {
          "output_type": "stream",
          "name": "stdout",
          "text": [
            "1\n",
            "1\n"
          ]
        }
      ]
    },
    {
      "cell_type": "markdown",
      "source": [
        "##3. 분수찾기\n",
        "####이와 같이 나열된 분수들을 1/1 → 1/2 → 2/1 → 3/1 → 2/2 → … 과 같은 지그재그 순서로 차례대로 1번, 2번, 3번, 4번, 5번, … 분수라고 하자.\n",
        "\n",
        "####X가 주어졌을 때, X번째 분수를 구하는 프로그램을 작성하시오."
      ],
      "metadata": {
        "id": "bgcJ30YZ4uaR"
      }
    },
    {
      "cell_type": "code",
      "source": [
        ""
      ],
      "metadata": {
        "id": "lQtFeE9H40s2"
      },
      "execution_count": null,
      "outputs": []
    },
    {
      "cell_type": "markdown",
      "source": [
        "##4. 달팽이는 올라가고 싶다\n",
        "####땅 위에 달팽이가 있다. 이 달팽이는 높이가 V미터인 나무 막대를 올라갈 것이다.\n",
        "\n",
        "####달팽이는 낮에 A미터 올라갈 수 있다. 하지만, 밤에 잠을 자는 동안 B미터 미끄러진다. 또, 정상에 올라간 후에는 미끄러지지 않는다.\n",
        "\n",
        "####달팽이가 나무 막대를 모두 올라가려면, 며칠이 걸리는지 구하는 프로그램을 작성하시오."
      ],
      "metadata": {
        "id": "rX5uSchB_l6n"
      }
    },
    {
      "cell_type": "code",
      "source": [
        "A, B, V = map(int, input().split())\n",
        "day = 0\n",
        "rule = (V - B) / (A - B)\n",
        "if int(rule) == rule:\n",
        "  day = int(rule)\n",
        "else:\n",
        "  day = int(rule) + 1\n",
        "print(day)"
      ],
      "metadata": {
        "colab": {
          "base_uri": "https://localhost:8080/"
        },
        "id": "PHoPchW3_tqN",
        "outputId": "e55af6e7-4b04-442e-9ee8-7b9fe33463ae"
      },
      "execution_count": null,
      "outputs": [
        {
          "output_type": "stream",
          "name": "stdout",
          "text": [
            "2 1 5\n",
            "4\n"
          ]
        }
      ]
    },
    {
      "cell_type": "markdown",
      "source": [
        "##5. ACM 호텔\n",
        "####ACM 호텔 매니저 지우는 손님이 도착하는 대로 빈 방을 배정하고 있다. 고객 설문조사에 따르면 손님들은 호텔 정문으로부터 걸어서 가장 짧은 거리에 있는 방을 선호한다고 한다. 여러분은 지우를 도와 줄 프로그램을 작성하고자 한다. 즉 설문조사 결과 대로 호텔 정문으로부터 걷는 거리가 가장 짧도록 방을 배정하는 프로그램을 작성하고자 한다.\n",
        "\n",
        "####문제를 단순화하기 위해서 호텔은 직사각형 모양이라고 가정하자. 각 층에 W 개의 방이 있는 H 층 건물이라고 가정하자 (1 ≤ H, W ≤ 99). 그리고 엘리베이터는 가장 왼쪽에 있다고 가정하자(그림 1 참고). 이런 형태의 호텔을 H × W 형태 호텔이라고 부른다. 호텔 정문은 일층 엘리베이터 바로 앞에 있는데, 정문에서 엘리베이터까지의 거리는 무시한다. 또 모든 인접한 두 방 사이의 거리는 같은 거리(거리 1)라고 가정하고 호텔의 정면 쪽에만 방이 있다고 가정한다.\n",
        "####방 번호는 YXX 나 YYXX 형태인데 여기서 Y 나 YY 는 층 수를 나타내고 XX 는 엘리베이터에서부터 세었을 때의 번호를 나타낸다. 즉, 그림 1 에서 빗금으로 표시한 방은 305 호가 된다.\n",
        "\n",
        "####손님은 엘리베이터를 타고 이동하는 거리는 신경 쓰지 않는다. 다만 걷는 거리가 같을 때에는 아래층의 방을 더 선호한다. 예를 들면 102 호 방보다는 301 호 방을 더 선호하는데, 102 호는 거리 2 만큼 걸어야 하지만 301 호는 거리 1 만큼만 걸으면 되기 때문이다. 같은 이유로 102 호보다 2101 호를 더 선호한다.\n",
        "\n",
        "####여러분이 작성할 프로그램은 초기에 모든 방이 비어있다고 가정하에 이 정책에 따라 N 번째로 도착한 손님에게 배정될 방 번호를 계산하는 프로그램이다. 첫 번째 손님은 101 호, 두 번째 손님은 201 호 등과 같이 배정한다. 그림 1 의 경우를 예로 들면, H = 6이므로 10 번째 손님은 402 호에 배정해야 한다."
      ],
      "metadata": {
        "id": "BrGoCBj7TxU0"
      }
    },
    {
      "cell_type": "code",
      "source": [
        "T = int(input())\n",
        "A = 0\n",
        "B = 0 \n",
        "for i in range(T):\n",
        "  H, W, N = map(int, input().split())\n",
        "  if N % H == 0:\n",
        "    A = H\n",
        "  else:\n",
        "    A = N % H\n",
        "  if N / H == int(N / H):\n",
        "    B = (N // H)\n",
        "  else:\n",
        "    B = (N // H) + 1\n",
        "  if B < 10:\n",
        "    print(f\"{A}0{B}\")\n",
        "  else:\n",
        "    print(f\"{A}{B}\")  "
      ],
      "metadata": {
        "colab": {
          "base_uri": "https://localhost:8080/"
        },
        "id": "g75fB1ZgT5ut",
        "outputId": "911c8ba3-f6e8-43a0-8dee-810c65075a4d"
      },
      "execution_count": null,
      "outputs": [
        {
          "output_type": "stream",
          "name": "stdout",
          "text": [
            "1\n",
            "30 50 72\n",
            "1203\n"
          ]
        }
      ]
    },
    {
      "cell_type": "markdown",
      "source": [
        "##6. 부녀회장이 될테야\n",
        "####평소 반상회에 참석하는 것을 좋아하는 주희는 이번 기회에 부녀회장이 되고 싶어 각 층의 사람들을 불러 모아 반상회를 주최하려고 한다.\n",
        "\n",
        "####이 아파트에 거주를 하려면 조건이 있는데, “a층의 b호에 살려면 자신의 아래(a-1)층의 1호부터 b호까지 사람들의 수의 합만큼 사람들을 데려와 살아야 한다” 는 계약 조항을 꼭 지키고 들어와야 한다.\n",
        "\n",
        "####아파트에 비어있는 집은 없고 모든 거주민들이 이 계약 조건을 지키고 왔다고 가정했을 때, 주어지는 양의 정수 k와 n에 대해 k층에 n호에는 몇 명이 살고 있는지 출력하라. 단, 아파트에는 0층부터 있고 각층에는 1호부터 있으며, 0층의 i호에는 i명이 산다."
      ],
      "metadata": {
        "id": "jum58NBZYHsF"
      }
    },
    {
      "cell_type": "code",
      "source": [
        ""
      ],
      "metadata": {
        "id": "RaWBiQRZYLen"
      },
      "execution_count": null,
      "outputs": []
    },
    {
      "cell_type": "markdown",
      "source": [
        "##7. 설탕 배달\n",
        "####상근이는 요즘 설탕공장에서 설탕을 배달하고 있다. 상근이는 지금 사탕가게에 설탕을 정확하게 N킬로그램을 배달해야 한다. 설탕공장에서 만드는 설탕은 봉지에 담겨져 있다. 봉지는 3킬로그램 봉지와 5킬로그램 봉지가 있다.\n",
        "\n",
        "####상근이는 귀찮기 때문에, 최대한 적은 봉지를 들고 가려고 한다. 예를 들어, 18킬로그램 설탕을 배달해야 할 때, 3킬로그램 봉지 6개를 가져가도 되지만, 5킬로그램 3개와 3킬로그램 1개를 배달하면, 더 적은 개수의 봉지를 배달할 수 있다.\n",
        "\n",
        "####상근이가 설탕을 정확하게 N킬로그램 배달해야 할 때, 봉지 몇 개를 가져가면 되는지 그 수를 구하는 프로그램을 작성하시오."
      ],
      "metadata": {
        "id": "bshSmC8Rdrbr"
      }
    },
    {
      "cell_type": "code",
      "source": [
        "N = int(input())\n",
        "A = 0\n",
        "B = 0\n",
        "result = 0\n",
        "A = N // 5\n",
        "B = N % 5\n",
        "C = N / 3\n",
        "if N > 4:\n",
        "  if B == 0:\n",
        "    result = A \n",
        "  elif B == 3 or B == 1:\n",
        "    result = A + 1\n",
        "  elif B == 4:\n",
        "    result = A + 2\n",
        "  elif C == int(C):\n",
        "    result = int(C)\n",
        "  elif N > 7 and B == 2:\n",
        "    result = A + 2\n",
        "  else:\n",
        "    result = -1\n",
        "else:\n",
        "  if N != 3:\n",
        "    result = -1\n",
        "  else:\n",
        "    result = 1\n",
        "print(result) "
      ],
      "metadata": {
        "colab": {
          "base_uri": "https://localhost:8080/"
        },
        "id": "Wc83BXRrdvyp",
        "outputId": "1ba543d0-c240-4515-c157-5f2ec1c0a4c9"
      },
      "execution_count": null,
      "outputs": [
        {
          "output_type": "stream",
          "name": "stdout",
          "text": [
            "4912\n",
            "984\n"
          ]
        }
      ]
    },
    {
      "cell_type": "markdown",
      "source": [
        "##8. 큰 수 A+B\n",
        "####두 정수 A와 B를 입력받은 다음, A+B를 출력하는 프로그램을 작성하시오."
      ],
      "metadata": {
        "id": "7_YdPIa_y6zU"
      }
    },
    {
      "cell_type": "code",
      "source": [
        "A, B = map(int, input().split())\n",
        "print(A + B)"
      ],
      "metadata": {
        "id": "fOU3ER0My98B"
      },
      "execution_count": null,
      "outputs": []
    },
    {
      "cell_type": "markdown",
      "source": [
        "##9. Fly me to the Alpha Centauri\n",
        "####우현이는 어린 시절, 지구 외의 다른 행성에서도 인류들이 살아갈 수 있는 미래가 오리라 믿었다. 그리고 그가 지구라는 세상에 발을 내려 놓은 지 23년이 지난 지금, 세계 최연소 ASNA 우주 비행사가 되어 새로운 세계에 발을 내려 놓는 영광의 순간을 기다리고 있다.\n",
        "\n",
        "####그가 탑승하게 될 우주선은 Alpha Centauri라는 새로운 인류의 보금자리를 개척하기 위한 대규모 생활 유지 시스템을 탑재하고 있기 때문에, 그 크기와 질량이 엄청난 이유로 최신기술력을 총 동원하여 개발한 공간이동 장치를 탑재하였다. 하지만 이 공간이동 장치는 이동 거리를 급격하게 늘릴 경우 기계에 심각한 결함이 발생하는 단점이 있어서, 이전 작동시기에 k광년을 이동하였을 때는 k-1 , k 혹은 k+1 광년만을 다시 이동할 수 있다. 예를 들어, 이 장치를 처음 작동시킬 경우 -1 , 0 , 1 광년을 이론상 이동할 수 있으나 사실상 음수 혹은 0 거리만큼의 이동은 의미가 없으므로 1 광년을 이동할 수 있으며, 그 다음에는 0 , 1 , 2 광년을 이동할 수 있는 것이다. ( 여기서 다시 2광년을 이동한다면 다음 시기엔 1, 2, 3 광년을 이동할 수 있다. )\n",
        "####김우현은 공간이동 장치 작동시의 에너지 소모가 크다는 점을 잘 알고 있기 때문에 x지점에서 y지점을 향해 최소한의 작동 횟수로 이동하려 한다. 하지만 y지점에 도착해서도 공간 이동장치의 안전성을 위하여 y지점에 도착하기 바로 직전의 이동거리는 반드시 1광년으로 하려 한다.\n",
        "\n",
        "####김우현을 위해 x지점부터 정확히 y지점으로 이동하는데 필요한 공간 이동 장치 작동 횟수의 최솟값을 구하는 프로그램을 작성하라."
      ],
      "metadata": {
        "id": "gUouGZtVzUHu"
      }
    },
    {
      "cell_type": "code",
      "source": [
        "a = int(input())\n",
        "for x in range(a):\n",
        "    b, c = map(int,input().split())\n",
        "    d = c - b\n",
        "    i = 0\n",
        "    if d == 1:\n",
        "      print(1)\n",
        "    else:\n",
        "      while d > 0 :\n",
        "          i += 1\n",
        "          d -= 2 * i\n",
        "          if d <= 0:\n",
        "              print(2 * i)\n",
        "              break\n",
        "          elif d <= i + 1:\n",
        "              print(i * 2 + 1)\n",
        "              break"
      ],
      "metadata": {
        "colab": {
          "base_uri": "https://localhost:8080/"
        },
        "id": "yslsPOzKzaz2",
        "outputId": "e316f975-de83-490a-b3c1-35e03c58a2f0"
      },
      "execution_count": null,
      "outputs": [
        {
          "output_type": "stream",
          "name": "stdout",
          "text": [
            "1\n",
            "0 1\n",
            "1\n"
          ]
        }
      ]
    }
  ]
}