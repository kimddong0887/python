{
  "nbformat": 4,
  "nbformat_minor": 0,
  "metadata": {
    "colab": {
      "name": "인공지능 스터디 CH1~CH4.ipynb",
      "provenance": [],
      "collapsed_sections": [],
      "mount_file_id": "1-hqPKklFYAhkVUemBVJNv2Fl1Fz9AhT7",
      "authorship_tag": "ABX9TyMojOwzj235f9EPXyhc0OMe",
      "include_colab_link": true
    },
    "kernelspec": {
      "name": "python3",
      "display_name": "Python 3"
    },
    "language_info": {
      "name": "python"
    }
  },
  "cells": [
    {
      "cell_type": "markdown",
      "metadata": {
        "id": "view-in-github",
        "colab_type": "text"
      },
      "source": [
        "<a href=\"https://colab.research.google.com/github/kimddong0887/python/blob/main/%EC%9D%B8%EA%B3%B5%EC%A7%80%EB%8A%A5_%EC%8A%A4%ED%84%B0%EB%94%94_CH1~CH5.ipynb\" target=\"_parent\"><img src=\"https://colab.research.google.com/assets/colab-badge.svg\" alt=\"Open In Colab\"/></a>"
      ]
    },
    {
      "cell_type": "code",
      "source": [
        "from google.colab import drive\n",
        "drive.mount('/content/drive')"
      ],
      "metadata": {
        "colab": {
          "base_uri": "https://localhost:8080/"
        },
        "id": "NVnzYbDTSXwU",
        "outputId": "ffc628e4-17cd-4bfd-e7b6-04720adaa1ff"
      },
      "execution_count": 1,
      "outputs": [
        {
          "output_type": "stream",
          "name": "stdout",
          "text": [
            "Drive already mounted at /content/drive; to attempt to forcibly remount, call drive.mount(\"/content/drive\", force_remount=True).\n"
          ]
        }
      ]
    },
    {
      "cell_type": "code",
      "execution_count": 2,
      "metadata": {
        "colab": {
          "base_uri": "https://localhost:8080/"
        },
        "id": "iIE5ilk605AZ",
        "outputId": "2646494c-f225-4a93-8846-b6e31d159207"
      },
      "outputs": [
        {
          "output_type": "stream",
          "name": "stdout",
          "text": [
            "Initialized!\n",
            "Hello David!\n",
            "Good-bye David!\n"
          ]
        }
      ],
      "source": [
        "class Man:\n",
        "  def __init__(self, name):\n",
        "    self.name = name\n",
        "    print(\"Initialized!\")\n",
        "\n",
        "  def hello(self):\n",
        "    print(\"Hello \" + self.name + \"!\")\n",
        "\n",
        "  def goodbye(self):\n",
        "    print(\"Good-bye \" + self.name + \"!\")\n",
        "\n",
        "m = Man(\"David\")\n",
        "m.hello()\n",
        "m.goodbye()"
      ]
    },
    {
      "cell_type": "code",
      "source": [
        "import numpy as np\n",
        "x = np.array([1.0, 2.0, 3.0]) # 브로드 캐스트 개념\n",
        "y = np.array([2.0, 4.0, 6.0])\n",
        "\n",
        "print(x + y)\n",
        "print(x - y)\n",
        "print(x * y)\n",
        "print(x / y)"
      ],
      "metadata": {
        "colab": {
          "base_uri": "https://localhost:8080/"
        },
        "id": "tOY9clLl1cjp",
        "outputId": "5c1694e4-04c1-41c3-eeda-b653bbe98b5b"
      },
      "execution_count": 3,
      "outputs": [
        {
          "output_type": "stream",
          "name": "stdout",
          "text": [
            "[3. 6. 9.]\n",
            "[-1. -2. -3.]\n",
            "[ 2.  8. 18.]\n",
            "[0.5 0.5 0.5]\n"
          ]
        }
      ]
    },
    {
      "cell_type": "code",
      "source": [
        "A = np.array([[1,2],[3,4]]) # N차원 배열\n",
        "print(A)"
      ],
      "metadata": {
        "colab": {
          "base_uri": "https://localhost:8080/"
        },
        "id": "bUzlxk4m18-O",
        "outputId": "cc4c35bd-3fe8-409c-9d76-176715055fd5"
      },
      "execution_count": 4,
      "outputs": [
        {
          "output_type": "stream",
          "name": "stdout",
          "text": [
            "[[1 2]\n",
            " [3 4]]\n"
          ]
        }
      ]
    },
    {
      "cell_type": "code",
      "source": [
        "import matplotlib.pyplot as plt\n",
        "\n",
        "x = np.arange(0, 6, 0.1) # 0에서 6까지 0.1 간격으로 배열 생성\n",
        "y = np.sin(x)\n",
        "\n",
        "plt.plot(x, y) # 그래프 그리기\n",
        "plt.show() # 그래프 화면에 출력"
      ],
      "metadata": {
        "colab": {
          "base_uri": "https://localhost:8080/",
          "height": 265
        },
        "id": "NSKd5nTM2Gj6",
        "outputId": "4d86a20e-a19a-4a3e-d277-46ea0f3de466"
      },
      "execution_count": 5,
      "outputs": [
        {
          "output_type": "display_data",
          "data": {
            "text/plain": [
              "<Figure size 432x288 with 1 Axes>"
            ],
            "image/png": "[encoded data removed]"
          },
          "metadata": {
            "needs_background": "light"
          }
        }
      ]
    },
    {
      "cell_type": "code",
      "source": [
        "x = np.arange(0, 6, 0.1)\n",
        "y1 = np.sin(x)\n",
        "y2 = np.cos(x)\n",
        "\n",
        "plt.plot(x, y1, label = \"sin\")\n",
        "plt.plot(x, y2, linestyle = \"--\", label = \"cos\") # cos 함수는 점선으로\n",
        "plt.xlabel(\"x\") # x축 이름\n",
        "plt.ylabel(\"y\") # y축 이름\n",
        "plt.title('sin & cos') # 제목\n",
        "plt.legend() # 선과 점선이 무엇을 가리키는지 화면에 출력\n",
        "plt.show()"
      ],
      "metadata": {
        "colab": {
          "base_uri": "https://localhost:8080/",
          "height": 295
        },
        "id": "TaB8Q1bZ2nfM",
        "outputId": "ce722289-5f39-439c-c46f-c9275df4859c"
      },
      "execution_count": 6,
      "outputs": [
        {
          "output_type": "display_data",
          "data": {
            "text/plain": [
              "<Figure size 432x288 with 1 Axes>"
            ],
            "image/png": "[encoded data removed]"
          },
          "metadata": {
            "needs_background": "light"
          }
        }
      ]
    },
    {
      "cell_type": "code",
      "source": [
        "# legend 함수 구분\n",
        "\n",
        "x = np.arange(0, 6, 0.1)\n",
        "y1 = np.sin(x)\n",
        "y2 = np.cos(x)\n",
        "\n",
        "plt.plot(x, y1, label = \"sin\")\n",
        "plt.plot(x, y2, linestyle = \"--\", label = \"cos\") # cos 함수는 점선으로\n",
        "plt.xlabel(\"x\") # x축 이름\n",
        "plt.ylabel(\"y\") # y축 이름\n",
        "plt.title('sin & cos') # 제목\n",
        "plt.show()"
      ],
      "metadata": {
        "colab": {
          "base_uri": "https://localhost:8080/",
          "height": 295
        },
        "id": "V9m1hju13H48",
        "outputId": "caf632b1-eb8b-4601-91c3-da1b486bb996"
      },
      "execution_count": 7,
      "outputs": [
        {
          "output_type": "display_data",
          "data": {
            "text/plain": [
              "<Figure size 432x288 with 1 Axes>"
            ],
            "image/png": "[encoded data removed]"
          },
          "metadata": {
            "needs_background": "light"
          }
        }
      ]
    },
    {
      "cell_type": "code",
      "source": [
        "def AND(x1, x2): # AND 함수\n",
        "  x = np.array([x1, x2]) # 입력\n",
        "  w = np.array([0.5, 0.5]) # 가중치\n",
        "  b = -0.7 # 편향\n",
        "  tmp = np.sum(w * x) + b\n",
        "  if tmp <= 0:\n",
        "    return 0\n",
        "  else:\n",
        "    return 1\n",
        "\n",
        "print(AND(0, 0))\n",
        "print(AND(0, 1))\n",
        "print(AND(1, 0))\n",
        "print(AND(1, 1))"
      ],
      "metadata": {
        "colab": {
          "base_uri": "https://localhost:8080/"
        },
        "id": "WNF4IWo_3WuO",
        "outputId": "c5c8faf7-2a20-4b97-8f2c-24e054c571f1"
      },
      "execution_count": 8,
      "outputs": [
        {
          "output_type": "stream",
          "name": "stdout",
          "text": [
            "0\n",
            "0\n",
            "0\n",
            "1\n"
          ]
        }
      ]
    },
    {
      "cell_type": "code",
      "source": [
        "def NAND(x1, x2): # AND 함수\n",
        "  x = np.array([x1, x2])\n",
        "  w = np.array([-0.5, -0.5])\n",
        "  b = 0.7\n",
        "  tmp = np.sum(w * x) + b\n",
        "  if tmp <= 0:\n",
        "    return 0\n",
        "  else:\n",
        "    return 1\n",
        "\n",
        "print(NAND(0, 0))\n",
        "print(NAND(0, 1))\n",
        "print(NAND(1, 0))\n",
        "print(NAND(1, 1))"
      ],
      "metadata": {
        "colab": {
          "base_uri": "https://localhost:8080/"
        },
        "id": "t9sQFpRg4BVt",
        "outputId": "035c7642-b3fe-412e-fe69-e6d3e7c533bd"
      },
      "execution_count": 9,
      "outputs": [
        {
          "output_type": "stream",
          "name": "stdout",
          "text": [
            "1\n",
            "1\n",
            "1\n",
            "0\n"
          ]
        }
      ]
    },
    {
      "cell_type": "code",
      "source": [
        "def OR(x1, x2): # AND 함수\n",
        "  x = np.array([x1, x2])\n",
        "  w = np.array([0.5, 0.5])\n",
        "  b = -0.2\n",
        "  tmp = np.sum(w * x) + b\n",
        "  if tmp <= 0:\n",
        "    return 0\n",
        "  else:\n",
        "    return 1\n",
        "\n",
        "print(OR(0, 0))\n",
        "print(OR(0, 1))\n",
        "print(OR(1, 0))\n",
        "print(OR(1, 1))"
      ],
      "metadata": {
        "colab": {
          "base_uri": "https://localhost:8080/"
        },
        "id": "mcNCY8qO48cK",
        "outputId": "92a85a09-a611-473b-d374-89a77dd5f763"
      },
      "execution_count": 10,
      "outputs": [
        {
          "output_type": "stream",
          "name": "stdout",
          "text": [
            "0\n",
            "1\n",
            "1\n",
            "1\n"
          ]
        }
      ]
    },
    {
      "cell_type": "code",
      "source": [
        "def XOR(x1, x2):\n",
        "  s1 = NAND(x1, x2)\n",
        "  s2 = OR(x1, x2)\n",
        "  y = AND(s1, s2)\n",
        "  return y\n",
        "\n",
        "print(XOR(0, 0))\n",
        "print(XOR(0, 1))\n",
        "print(XOR(1, 0))\n",
        "print(XOR(1, 1))"
      ],
      "metadata": {
        "colab": {
          "base_uri": "https://localhost:8080/"
        },
        "id": "hXmFE_vX5L6p",
        "outputId": "e2ebe568-1d19-48ab-b975-823b831e3dd3"
      },
      "execution_count": 11,
      "outputs": [
        {
          "output_type": "stream",
          "name": "stdout",
          "text": [
            "0\n",
            "1\n",
            "1\n",
            "0\n"
          ]
        }
      ]
    },
    {
      "cell_type": "code",
      "source": [
        "def step_function(x): # 계단 함수\n",
        "  if x > 0:\n",
        "    return 1\n",
        "  else:\n",
        "    return 0\n",
        "\n",
        "def step_function(x): # 넘파이 배열 지원하도록 수정\n",
        "  y = x > 0\n",
        "  return y.astype(np.int)"
      ],
      "metadata": {
        "id": "sLR3j6JaSQr1"
      },
      "execution_count": 12,
      "outputs": []
    },
    {
      "cell_type": "code",
      "source": [
        "import numpy as np\n",
        "x = np.array([-1.0, 1.0, 2.0])\n",
        "print(x)\n",
        "\n",
        "y = x > 0\n",
        "print(y) # bool 형 출력\n",
        "\n",
        "y = y.astype(np.int64)\n",
        "print(y) # bool 에서 int형으로 변환"
      ],
      "metadata": {
        "colab": {
          "base_uri": "https://localhost:8080/"
        },
        "id": "LKctguBCSbfa",
        "outputId": "df4769ec-76e6-4d40-ffea-91144298899d"
      },
      "execution_count": 13,
      "outputs": [
        {
          "output_type": "stream",
          "name": "stdout",
          "text": [
            "[-1.  1.  2.]\n",
            "[False  True  True]\n",
            "[0 1 1]\n"
          ]
        }
      ]
    },
    {
      "cell_type": "code",
      "source": [
        "import numpy as np\n",
        "import matplotlib.pylab as plt\n",
        "\n",
        "def step_function(x):\n",
        "  return np.array(x > 0, dtype = np.int64)\n",
        "\n",
        "x = np.arange(-5.0, 5.0, 0.1)\n",
        "y = step_function(x)\n",
        "plt.plot(x, y)\n",
        "plt.ylim(-0.1, 1.1) # y축의 범위 지정\n",
        "plt.show()"
      ],
      "metadata": {
        "colab": {
          "base_uri": "https://localhost:8080/",
          "height": 265
        },
        "id": "GZfh9HTeTKWg",
        "outputId": "f297c702-9d33-4862-c884-3a45c80ce60d"
      },
      "execution_count": 14,
      "outputs": [
        {
          "output_type": "display_data",
          "data": {
            "text/plain": [
              "<Figure size 432x288 with 1 Axes>"
            ],
            "image/png": "[encoded data removed]"
          },
          "metadata": {
            "needs_background": "light"
          }
        }
      ]
    },
    {
      "cell_type": "code",
      "source": [
        "def sigmoid(x): # 시그모이드 함수\n",
        "  return 1 / (1 + np.exp(-x))\n",
        "\n",
        "x = np.array([-1.0, 1.0, 2.0])\n",
        "print(sigmoid(x))\n",
        "\n",
        "t = np.array([1.0, 2.0, 3.0]) # 브로드캐스트 기능\n",
        "print(1.0 + t)\n",
        "print(1.0 / t)\n",
        "\n",
        "x = np.arange(-5.0, 5.0, 0.1)\n",
        "y = sigmoid(x)\n",
        "plt.plot(x, y)\n",
        "plt.ylim(-0.1, 1.1) # y축 범위 지정\n",
        "plt.show() "
      ],
      "metadata": {
        "colab": {
          "base_uri": "https://localhost:8080/",
          "height": 319
        },
        "id": "-Xdeo8sxT4QB",
        "outputId": "d54000e1-07ad-4389-c168-5b7d46321bda"
      },
      "execution_count": 15,
      "outputs": [
        {
          "output_type": "stream",
          "name": "stdout",
          "text": [
            "[0.26894142 0.73105858 0.88079708]\n",
            "[2. 3. 4.]\n",
            "[1.         0.5        0.33333333]\n"
          ]
        },
        {
          "output_type": "display_data",
          "data": {
            "text/plain": [
              "<Figure size 432x288 with 1 Axes>"
            ],
            "image/png": "[encoded data removed]"
          },
          "metadata": {
            "needs_background": "light"
          }
        }
      ]
    },
    {
      "cell_type": "code",
      "source": [
        "def relu(x): # 렐루 함수\n",
        "  return np.maximum(0 ,x)\n",
        "\n",
        "import numpy as np\n",
        "A = np.array([1,2,3,4]) # 1차원\n",
        "print(A)\n",
        "print(np.ndim(A)) # 배열의 차원 수\n",
        "print(A.shape) # 배열의 형상\n",
        "print(A.shape[0])\n",
        "\n",
        "print(\"\")\n",
        "\n",
        "B = np.array([[1, 2],[3, 4], [5, 6]]) # 2차원\n",
        "print(B)\n",
        "print(np.ndim(B))\n",
        "print(B.shape)\n",
        "\n",
        "print(\"\")\n",
        "\n",
        "A = np.array([[1, 2], [3, 4]]) \n",
        "print(A.shape)\n",
        "B = np.array([[5, 6], [7, 8]])\n",
        "print(B.shape)\n",
        "print(np.dot(A, B)) # 행렬 2 * 2 형태의 A와 B의 곱\n",
        "\n",
        "print(\"\")\n",
        "\n",
        "A = np.array([[1, 2, 3], [4, 5, 6]]) \n",
        "print(A.shape)\n",
        "B = np.array([[1, 2], [3, 4], [5, 6]])\n",
        "print(B.shape)\n",
        "print(np.dot(A, B)) # 행렬 2 * 3 형태의 A와 3 * 2 형태의 B의 곱"
      ],
      "metadata": {
        "colab": {
          "base_uri": "https://localhost:8080/"
        },
        "id": "PSZk4HnCUuRD",
        "outputId": "6dd6bb05-f9d1-40c2-9aff-4607e6a86792"
      },
      "execution_count": 16,
      "outputs": [
        {
          "output_type": "stream",
          "name": "stdout",
          "text": [
            "[1 2 3 4]\n",
            "1\n",
            "(4,)\n",
            "4\n",
            "\n",
            "[[1 2]\n",
            " [3 4]\n",
            " [5 6]]\n",
            "2\n",
            "(3, 2)\n",
            "\n",
            "(2, 2)\n",
            "(2, 2)\n",
            "[[19 22]\n",
            " [43 50]]\n",
            "\n",
            "(2, 3)\n",
            "(3, 2)\n",
            "[[22 28]\n",
            " [49 64]]\n"
          ]
        }
      ]
    },
    {
      "cell_type": "code",
      "source": [
        "def identity_function(x): # 항등 함수\n",
        "  return x\n",
        "\n",
        "def init_network(): # 3층 신경망, 가중치 W1과 같이 대문자로 구현\n",
        "  network = {}\n",
        "  network['W1'] = np.array([[0.1, 0.3, 0.5], [0.2, 0.4, 0.6]])\n",
        "  network['b1'] = np.array([0.1, 0.2, 0.3])\n",
        "  network['W2'] = np.array ([[0.1, 0.4], [0.2, 0.5], [0.3, 0.6]])\n",
        "  network['b2'] = np.array([0.1, 0.2])\n",
        "  network['W3'] = np.array([[0.1, 0.3], [0.2, 0.4]])\n",
        "  network['b3'] = np.array([0.1, 0.2])\n",
        "\n",
        "  return network\n",
        "\n",
        "def forward(network, x):\n",
        "  W1, W2, W3 = network['W1'], network['W2'], network['W3']\n",
        "  b1, b2 ,b3 = network['b1'], network['b2'], network['b3']\n",
        "\n",
        "  a1 = np.dot(x, W1) + b1\n",
        "  z1 = sigmoid(a1)\n",
        "  a2 = np.dot(z1, W2) + b2\n",
        "  z2 = sigmoid(a2)\n",
        "  a3 = np.dot(z2, W3) + b3\n",
        "  y = identity_function(a3)\n",
        "\n",
        "  return y\n",
        "\n",
        "network = init_network()\n",
        "x = np.array([1.0, 0.5])\n",
        "y = forward(network, x)\n",
        "print(y)"
      ],
      "metadata": {
        "colab": {
          "base_uri": "https://localhost:8080/"
        },
        "id": "HVZ3GmdAVs4L",
        "outputId": "9ce8d2a1-ac49-474e-e9ce-27e32bd0c173"
      },
      "execution_count": 17,
      "outputs": [
        {
          "output_type": "stream",
          "name": "stdout",
          "text": [
            "[0.31682708 0.69627909]\n"
          ]
        }
      ]
    },
    {
      "cell_type": "code",
      "source": [
        "a = np.array([0.3, 2.9, 4.0])\n",
        "\n",
        "exp_a = np.exp(a) # 지수 함수\n",
        "print(exp_a)\n",
        "\n",
        "sum_exp_a = np.sum(exp_a) # 지수 함수의 합\n",
        "print(sum_exp_a)\n",
        "\n",
        "y = exp_a / sum_exp_a # 소프트맥스\n",
        "print(y) \n",
        "\n",
        "def softmax(a): # 소프트맥스 함수, 출력 총합 1\n",
        "  exp_a = np.exp(a)\n",
        "  sum_exp_a = np.sum(exp_a)\n",
        "  y = exp_a / sum_exp_a\n",
        "  \n",
        "  return y"
      ],
      "metadata": {
        "colab": {
          "base_uri": "https://localhost:8080/"
        },
        "id": "VcpiDCRDoKm5",
        "outputId": "366845b2-6342-4cff-d283-28f94e252fa6"
      },
      "execution_count": 18,
      "outputs": [
        {
          "output_type": "stream",
          "name": "stdout",
          "text": [
            "[ 1.34985881 18.17414537 54.59815003]\n",
            "74.1221542101633\n",
            "[0.01821127 0.24519181 0.73659691]\n"
          ]
        }
      ]
    },
    {
      "cell_type": "code",
      "source": [
        "import sys, os\n",
        "%cd /content/drive/MyDrive/deep-learning-from-scratch-master/dataset\n",
        "from mnist import load_mnist\n",
        "\n",
        "(x_train, t_train), (x_test, t_test) = \\\n",
        "  load_mnist(flatten = True, normalize = False)\n",
        "\n",
        "print(x_train.shape)\n",
        "print(t_train.shape)\n",
        "print(x_test.shape)\n",
        "print(t_test.shape)"
      ],
      "metadata": {
        "colab": {
          "base_uri": "https://localhost:8080/"
        },
        "id": "gseeL8Z369Zb",
        "outputId": "3a867ebc-f5dc-4d4e-f8b5-d38ed5eb097f"
      },
      "execution_count": 19,
      "outputs": [
        {
          "output_type": "stream",
          "name": "stdout",
          "text": [
            "/content/drive/MyDrive/deep-learning-from-scratch-master/dataset\n",
            "(60000, 784)\n",
            "(60000,)\n",
            "(10000, 784)\n",
            "(10000,)\n"
          ]
        }
      ]
    },
    {
      "cell_type": "code",
      "source": [
        "import sys, os\n",
        "import numpy as np\n",
        "from PIL import Image\n",
        "\n",
        "def img_show(img):\n",
        "  pil_img = Image.fromarray(np.uint8(img))\n",
        "  pil_img.show()\n",
        "\n",
        "(x_train, t_train), (x_test, t_test) = \\\n",
        "  load_mnist(flatten = True, normalize = False)\n",
        "\n",
        "img = x_train[0]\n",
        "label = t_train[0]\n",
        "print(label) # 5\n",
        "\n",
        "print(img.shape)\n",
        "img = img.reshape(28, 28) # 원래 이미지의 모양으로 변형\n",
        "print(img.shape)\n",
        "\n",
        "img_show(img)"
      ],
      "metadata": {
        "id": "u3MFGAZ48B-o",
        "colab": {
          "base_uri": "https://localhost:8080/"
        },
        "outputId": "b005039d-773b-4d0e-e0f0-930c3b32ce57"
      },
      "execution_count": 20,
      "outputs": [
        {
          "output_type": "stream",
          "name": "stdout",
          "text": [
            "5\n",
            "(784,)\n",
            "(28, 28)\n"
          ]
        }
      ]
    },
    {
      "cell_type": "code",
      "source": [
        "%cd /content/drive/MyDrive/deep-learning-from-scratch-master/ch03\n",
        "import pickle\n",
        "\n",
        "def get_data():\n",
        "  (x_train, t_train), (x_test, t_test) = \\\n",
        "    load_mnist(normalize = True, flatten = True, one_hot_label = False)\n",
        "  return x_test, t_test\n",
        "\n",
        "def init_network():\n",
        "  with open(\"sample_weight.pkl\", 'rb') as f:\n",
        "    network = pickle.load(f)\n",
        "\n",
        "  return network\n",
        "\n",
        "def predict(network, x):\n",
        "  W1, W2, W3 = network['W1'], network['W2'], network['W3']\n",
        "  b1, b2, b3 = network['b1'], network['b2'], network['b3']\n",
        "\n",
        "  a1 = np.dot(x,W1) + b1\n",
        "  z1 = sigmoid(a1)\n",
        "  a2 = np.dot(z1,W2) + b2\n",
        "  z2 = sigmoid(a2)\n",
        "  a3 = np.dot(z2, W3) + b3\n",
        "  y = softmax(a3)\n",
        "\n",
        "  return y\n",
        "\n",
        "\n",
        "x, t = get_data()\n",
        "network = init_network()\n",
        "\n",
        "accuracy_cnt = 0\n",
        "for i in range(len(x)):\n",
        "  y = predict(network, x[i])\n",
        "  p = np.argmax(y) # 확률이 가장 높은 원소의 인덱스를 얻는다.\n",
        "  if p == t[i]:\n",
        "    accuracy_cnt += 1\n",
        "\n",
        "print(\"Accuracy:\" + str(float(accuracy_cnt) / len(x)))"
      ],
      "metadata": {
        "id": "ytqx0TUPPbov",
        "colab": {
          "base_uri": "https://localhost:8080/"
        },
        "outputId": "d38c9312-4c82-49e1-e62d-722807d078ec"
      },
      "execution_count": 21,
      "outputs": [
        {
          "output_type": "stream",
          "name": "stdout",
          "text": [
            "/content/drive/MyDrive/deep-learning-from-scratch-master/ch03\n",
            "Accuracy:0.9352\n"
          ]
        }
      ]
    },
    {
      "cell_type": "code",
      "source": [
        "x, t = get_data()\n",
        "network = init_network()\n",
        "\n",
        "accuracy_cnt = 0\n",
        "for i in range(len(x)):\n",
        "  y = predict(network, x[i])\n",
        "  p = np.argmax(y) # 확률이 가장 높은 원소의 인덱스를 얻는다.\n",
        "  if p == t[i]:\n",
        "    accuracy_cnt += 1\n",
        "\n",
        "print(\"Accuracy:\" + str(float(accuracy_cnt) / len(x)))"
      ],
      "metadata": {
        "id": "1h8tVEW4RLLg",
        "colab": {
          "base_uri": "https://localhost:8080/"
        },
        "outputId": "73073dfd-aaa1-4dad-8a38-a9faad4c99ac"
      },
      "execution_count": 22,
      "outputs": [
        {
          "output_type": "stream",
          "name": "stdout",
          "text": [
            "Accuracy:0.9352\n"
          ]
        }
      ]
    },
    {
      "cell_type": "code",
      "source": [
        "x, _ = get_data()\n",
        "network = init_network()\n",
        "W1, W2, W3 = network[ 'W1'], network['W2'], network['W3']\n",
        "\n",
        "print(x.shape)\n",
        "print(x[0].shape)\n",
        "print(W1.shape)\n",
        "print(W2.shape)\n",
        "print(W3.shape)"
      ],
      "metadata": {
        "colab": {
          "base_uri": "https://localhost:8080/"
        },
        "id": "EB8DByp6j_2_",
        "outputId": "f13ad83a-6775-4c74-b7e6-20142e0db3e3"
      },
      "execution_count": 23,
      "outputs": [
        {
          "output_type": "stream",
          "name": "stdout",
          "text": [
            "(10000, 784)\n",
            "(784,)\n",
            "(784, 50)\n",
            "(50, 100)\n",
            "(100, 10)\n"
          ]
        }
      ]
    },
    {
      "cell_type": "code",
      "source": [
        "x, t = get_data()\n",
        "network = init_network()\n",
        "\n",
        "batch_size = 100 # 배치 크기\n",
        "accuracy_cnt = 0\n",
        "\n",
        "for i in range(0, len(x), batch_size):\n",
        "  x_batch = x[i:i+batch_size]\n",
        "  y_batch = predict(network, x_batch)\n",
        "  p = np.argmax(y_batch, axis=1)\n",
        "  accuracy_cnt += np.sum(p == t[i:i+batch_size])\n",
        "\n",
        "print(\"Accuracy:\" + str(float(accuracy_cnt) / len(x)))"
      ],
      "metadata": {
        "colab": {
          "base_uri": "https://localhost:8080/"
        },
        "id": "GaXUFOeuoDyM",
        "outputId": "5aadd316-0180-490d-ec63-b1155f2fb4b4"
      },
      "execution_count": 24,
      "outputs": [
        {
          "output_type": "stream",
          "name": "stdout",
          "text": [
            "Accuracy:0.9352\n"
          ]
        }
      ]
    },
    {
      "cell_type": "code",
      "source": [
        "def sum_squares_error(y, t): # 오차 제곱합\n",
        "  return 0.5 * np.sum((y-t)**2)\n",
        "\n",
        "def cross_entropy_error(y, t): # 교차 엔트로피 오차\n",
        "  delta = 1e-7\n",
        "  return -np.sum(t * np.log(y + delta))"
      ],
      "metadata": {
        "id": "PbbDrfCdop4W"
      },
      "execution_count": 25,
      "outputs": []
    },
    {
      "cell_type": "code",
      "source": [
        "(x_train, t_train), (x_test, t_test) = \\\n",
        "  load_mnist(normalize = True, one_hot_label = True)\n",
        "\n",
        "print(x_train.shape)\n",
        "print(t_train.shape)\n",
        "\n",
        "train_size = x_train.shape[0]\n",
        "batch_size = 10\n",
        "batch_mask = np.random.choice(train_size, batch_size)\n",
        "x_batch = x_train[batch_mask]\n",
        "t_batch = t_train[batch_mask]\n",
        "\n",
        "np.random.choice(60000, 10)"
      ],
      "metadata": {
        "colab": {
          "base_uri": "https://localhost:8080/"
        },
        "id": "JCU01-Bvs-xg",
        "outputId": "51f51976-3195-4624-db81-de8014a264cf"
      },
      "execution_count": 26,
      "outputs": [
        {
          "output_type": "stream",
          "name": "stdout",
          "text": [
            "(60000, 784)\n",
            "(60000, 10)\n"
          ]
        },
        {
          "output_type": "execute_result",
          "data": {
            "text/plain": [
              "array([ 1449, 20943, 32740,  1730, 14369,  5310, 17846, 57316, 21839,\n",
              "        3960])"
            ]
          },
          "metadata": {},
          "execution_count": 26
        }
      ]
    },
    {
      "cell_type": "code",
      "source": [
        "def cross_entropy_error(y, t): # 배치용 교차 엔트로피 오차 (원-핫 인코딩)\n",
        "  if y.ndimn == 1:\n",
        "    t = t.reshape(1, t.size)\n",
        "    y = y.reshape(i, y.size)\n",
        "\n",
        "  batch_size = y.shape[0]\n",
        "  return -np.sum(t * np.log(y + 1e-7)) / batch_size\n",
        "\n",
        "def cross_entropy_error(y, t): # 배치용 교차 엔트로피 오차 (숫자 레이블)\n",
        "  if y.ndimn == 1:\n",
        "    t = t.reshape(1, t.size)\n",
        "    y = y.reshape(i, y.size)\n",
        "\n",
        "  batch_size = y.shape[0]\n",
        "  return -np.sum(np.log(y[np.arange(batch_size),t] + 1e-7)) / batch_size"
      ],
      "metadata": {
        "id": "Ieza66mXt1Je"
      },
      "execution_count": 27,
      "outputs": []
    },
    {
      "cell_type": "code",
      "source": [
        "def numerical_diff(f, x): # 중심 차분\n",
        "  h = 1e-4\n",
        "  return (f(x+h) - f(x-h)) / (2*h)\n",
        "\n",
        "def function_1(x): # 수치 미분\n",
        "  return 0.01*x**2 + 0.1*x\n",
        "\n",
        "x = np.arange(0.0, 20.0, 0.1)\n",
        "y = function_1(x)\n",
        "plt.xlabel(\"x\")\n",
        "plt.ylabel(\"f(x)\")\n",
        "plt.plot(x, y)\n",
        "plt.show()\n",
        "\n",
        "print(numerical_diff(function_1, 5))\n",
        "print(numerical_diff(function_1, 10))"
      ],
      "metadata": {
        "colab": {
          "base_uri": "https://localhost:8080/",
          "height": 315
        },
        "id": "lQnffqa_uqoH",
        "outputId": "6eff7986-79e5-454f-b5d2-10af5b6d3edf"
      },
      "execution_count": 28,
      "outputs": [
        {
          "output_type": "display_data",
          "data": {
            "text/plain": [
              "<Figure size 432x288 with 1 Axes>"
            ],
            "image/png": "[encoded data removed]"
          },
          "metadata": {
            "needs_background": "light"
          }
        },
        {
          "output_type": "stream",
          "name": "stdout",
          "text": [
            "0.1999999999990898\n",
            "0.2999999999986347\n"
          ]
        }
      ]
    },
    {
      "cell_type": "code",
      "source": [
        "def function_2(x): # 편미분\n",
        "  return x[0]**2 + x[1]**2\n",
        "\n",
        "def function_tmp1(x0): # 편미분\n",
        "  return x0*x0 + 4.0**2.0\n",
        "\n",
        "print(numerical_diff(function_tmp1, 3.0))"
      ],
      "metadata": {
        "colab": {
          "base_uri": "https://localhost:8080/"
        },
        "id": "zUrNFTTfvUtD",
        "outputId": "e8b11b9e-10b5-403d-c0d1-e848c2e6bdb9"
      },
      "execution_count": 29,
      "outputs": [
        {
          "output_type": "stream",
          "name": "stdout",
          "text": [
            "6.00000000000378\n"
          ]
        }
      ]
    },
    {
      "cell_type": "code",
      "source": [
        "def numerical_gradient(f, x): # 기울기\n",
        "  h = 1e-4\n",
        "  grad = np.zeros_like(x)\n",
        "\n",
        "  for idx in range(x.size):\n",
        "    tmp_val = x[idx]\n",
        "    x[idx] = tmp_val + h\n",
        "    fxh1 = f(x)\n",
        "\n",
        "    x[idx] = tmp_val - h\n",
        "    fxh2 = f(x)\n",
        "    \n",
        "    grad[idx] = (fxh1 - fxh2) / (2*h)\n",
        "    x[idx] = tmp_val\n",
        "  return grad\n",
        "\n",
        "print(numerical_gradient(function_2, np.array([3.0,4.0])))"
      ],
      "metadata": {
        "colab": {
          "base_uri": "https://localhost:8080/"
        },
        "id": "392hct5_wQ5a",
        "outputId": "de6a2810-61fd-44a4-99c4-22a9e1f3b73f"
      },
      "execution_count": 30,
      "outputs": [
        {
          "output_type": "stream",
          "name": "stdout",
          "text": [
            "[6. 8.]\n"
          ]
        }
      ]
    },
    {
      "cell_type": "code",
      "source": [
        "def gradient_descent(f, init_x, lr = 0.01, step_num = 100): # 경사 하강법\n",
        "  x = init_x\n",
        "  for i in range(step_num):\n",
        "    grad = numerical_gradient(f, x)\n",
        "    x -= lr * grad\n",
        "  return x\n",
        "\n",
        "init_x = np.array([-3.0, 4.0])\n",
        "gradient_descent(function_2, init_x = init_x, lr = 0.1, step_num = 100)"
      ],
      "metadata": {
        "colab": {
          "base_uri": "https://localhost:8080/"
        },
        "id": "wKUgYO16xCfZ",
        "outputId": "162798f9-8a54-4e88-e067-7d297557cc96"
      },
      "execution_count": 31,
      "outputs": [
        {
          "output_type": "execute_result",
          "data": {
            "text/plain": [
              "array([-6.11110793e-10,  8.14814391e-10])"
            ]
          },
          "metadata": {},
          "execution_count": 31
        }
      ]
    },
    {
      "cell_type": "code",
      "source": [
        "%cd /content/drive/MyDrive/deep-learning-from-scratch-master/ch04\n",
        "from gradient_simplenet import softmax, cross_entropy_error, numerical_gradient\n",
        "\n",
        "class simpleNet:\n",
        "  def __init__(self):\n",
        "    self.W = np.random.randn(2,3) # 정규분포로 초기화\n",
        "  \n",
        "  def predict(self, x):\n",
        "    return np.dot(x, self.W)\n",
        "  \n",
        "  def loss(self, x, t):\n",
        "    z = self.predict(x)\n",
        "    y = softmax(z)\n",
        "    loss = cross_entropy_error(y, t)\n",
        "\n",
        "    return loss\n",
        "\n",
        "net = simpleNet()\n",
        "print(net.W)\n",
        "\n",
        "x = np.array([0.6,0.9])\n",
        "p = net.predict(x)\n",
        "print(p)\n",
        "np.argmax(p)\n",
        "\n",
        "t = np.array([0, 0, 1])\n",
        "net.loss(x, t)"
      ],
      "metadata": {
        "colab": {
          "base_uri": "https://localhost:8080/"
        },
        "id": "SYyytVcvxvVB",
        "outputId": "a3904824-b209-4e36-ad9c-cc577f501686"
      },
      "execution_count": 32,
      "outputs": [
        {
          "output_type": "stream",
          "name": "stdout",
          "text": [
            "/content/drive/MyDrive/deep-learning-from-scratch-master/ch04\n",
            "[[ 0.18454417  0.32209734 -0.5066415 ]\n",
            " [ 0.27681625  0.483146   -0.75996226]]\n",
            "[[ 1.5305141  -0.28070409  0.14408686]\n",
            " [-0.4407824  -0.16846953 -0.80140115]]\n",
            "[ 0.5216043  -0.32004503 -0.63480892]\n"
          ]
        },
        {
          "output_type": "execute_result",
          "data": {
            "text/plain": [
              "1.7135176955461109"
            ]
          },
          "metadata": {},
          "execution_count": 32
        }
      ]
    },
    {
      "cell_type": "code",
      "source": [
        "def f(W): # 기울기 구하기 #1\n",
        "  return net.loss(x, t)\n",
        "\n",
        "dW = numerical_gradient(f, net.W) # 1\n",
        "print(dW)\n",
        "\n",
        "f = lambda w: net.loss(x,t)\n",
        "dW = numerical_gradient(f, net.W) # 2\n",
        "print(dW)"
      ],
      "metadata": {
        "colab": {
          "base_uri": "https://localhost:8080/"
        },
        "id": "ryzWY_gVy0Mf",
        "outputId": "9e36ccd9-e330-4838-f0be-1bed7d217500"
      },
      "execution_count": 33,
      "outputs": [
        {
          "output_type": "stream",
          "name": "stdout",
          "text": [
            "[[ 0.34371887  0.14814251 -0.49186138]\n",
            " [ 0.5155783   0.22221377 -0.73779207]]\n",
            "[[ 0.34371887  0.14814251 -0.49186138]\n",
            " [ 0.5155783   0.22221377 -0.73779207]]\n"
          ]
        }
      ]
    },
    {
      "cell_type": "code",
      "source": [
        "from two_layer_net import *\n",
        "\n",
        "class TwoLayerNet:\n",
        "  def __init__(self, input_size, hidden_size, output_size,\n",
        "               weight_init_std = 0.01):\n",
        "    # 가중치 초기화\n",
        "    self.params = {}\n",
        "    self.params['W1'] = weight_init_std * \\\n",
        "                        np.random.randn(input_size, hidden_size)\n",
        "    self.params['b1'] = np.zeros(hidden_size)\n",
        "    self.params['W2'] = weight_init_std * \\\n",
        "                        np.random.randn(hidden_size, output_size)\n",
        "    self.params['b2'] = np.zeros(output_size)\n",
        "  \n",
        "  def predict(self, x):\n",
        "    W1, W2 = self.params['W1'], self.params['W2']\n",
        "    b1, b2 = self.params['b1'], self.params['b2']\n",
        "\n",
        "    a1 = np.dot(x, W1) + b1\n",
        "    z1 = sigmoid(a1)\n",
        "    a2 = np.dot(z1, W2) + b2\n",
        "    y = softmax(a2)\n",
        "\n",
        "    return y\n",
        "\n",
        "  # x: 입력 데이터, t: 정답 레이블\n",
        "  def loss(self, x, t):\n",
        "    y = self.predict(x)\n",
        "\n",
        "    return cross_entropy_error(y, t)\n",
        "\n",
        "  def accuracy(self, x, t):\n",
        "    y = self.predict(x)\n",
        "    y = np.argmax(y, axis = 1)\n",
        "    t = np.argmax(t, axis = 1)\n",
        "\n",
        "    accuracy = np.sum(y == t) / float(x.shape[0])\n",
        "    return accuracy\n",
        "\n",
        "  def numerical_gradient(self, x, t):\n",
        "    loss_W = lambda W: self.loss(x, t)\n",
        "\n",
        "    grads = {}\n",
        "    grads['W1'] = numerical_gradient(loss_W, self.params['W1'])\n",
        "    grads['b1'] = numerical_gradient(loss_W, self.params['b1'])\n",
        "    grads['W2'] = numerical_gradient(loss_W, self.params['W2'])\n",
        "    grads['b2'] = numerical_gradient(loss_W, self.params['b2'])\n",
        "\n",
        "    return grads"
      ],
      "metadata": {
        "id": "dl7QCLs0zSkL"
      },
      "execution_count": 34,
      "outputs": []
    },
    {
      "cell_type": "code",
      "source": [
        "from two_layer_net import TwoLayerNet\n",
        "\n",
        "(x_train, t_train), (x_test, t_test) = \\\n",
        "  load_mnist(normalize = True, one_hot_label =True)\n",
        "\n",
        "train_loss_list = []\n",
        "\n",
        "#하이퍼파라미터\n",
        "iters_num = 10000 # 반복 횟수\n",
        "train_size = x_train.shape[0]\n",
        "batch_size = 100 # 미니배치 크기\n",
        "learning_rate = 0.1\n",
        "network = TwoLayerNet(input_size=784, hidden_size = 50, output_size=10)\n",
        "\n",
        "for i in range(iters_num):\n",
        "  # 미니배치 획득\n",
        "  batch_mask = np.random.choice(train_size, batch_size)\n",
        "  x_batch = x_train[batch_mask]\n",
        "  t_batch = t_train[batch_mask]\n",
        "\n",
        "  # 기울기 계산\n",
        "  #grad = network.numerical_gradient(x_batch, t_batch) # 성능 열화판\n",
        "  grad = network.gradient(x_batch, t_batch) # 성능 개선판\n",
        "\n",
        "  # 매개변수 갱신\n",
        "  for key in ('W1', 'b1', 'W2', 'b2'):\n",
        "    network.params[key] -= learning_rate * grad[key]\n",
        "\n",
        "  # 학습 경과 기록\n",
        "  loss = network.loss(x_batch, t_batch)\n",
        "  train_loss_list.append(loss)"
      ],
      "metadata": {
        "id": "3ofzgL_k9bEB"
      },
      "execution_count": 41,
      "outputs": []
    },
    {
      "cell_type": "code",
      "source": [
        "class MulLayer: # 곱셈 계층\n",
        "  def __init__(self):\n",
        "    self.x = None\n",
        "    self.y = None\n",
        "  def forward(self, x, y):\n",
        "    self.x = x\n",
        "    self.y = y\n",
        "    out = x * y\n",
        "\n",
        "    return out\n",
        "  \n",
        "  def backward(self, dout):\n",
        "    dx = dout * self.y # x와 y를 바꾼다.\n",
        "    dy = dout * self.x\n",
        "\n",
        "    return dx, dy\n",
        "\n",
        "apple = 100\n",
        "apple_num = 2\n",
        "tax = 1.1\n",
        "\n",
        "# 계층들\n",
        "mul_apple_layer = MulLayer()\n",
        "mul_tax_layer = MulLayer()\n",
        "\n",
        "# 순전파\n",
        "apple_price = mul_apple_layer.forward(apple, apple_num)\n",
        "price = mul_tax_layer.forward(apple_price, tax)\n",
        "\n",
        "print(price)\n",
        "\n",
        "# 역전파\n",
        "dprice = 1\n",
        "dapple_price, dtax = mul_tax_layer.backward(dprice)\n",
        "dapple, dapple_num = mul_apple_layer.backward(dapple_price)\n",
        "\n",
        "print(dapple, dapple_num, dtax)"
      ],
      "metadata": {
        "colab": {
          "base_uri": "https://localhost:8080/"
        },
        "id": "OSY-YNa8GUZV",
        "outputId": "401cbef2-723c-4a81-a414-db5ffc65e7fe"
      },
      "execution_count": 42,
      "outputs": [
        {
          "output_type": "stream",
          "name": "stdout",
          "text": [
            "220.00000000000003\n",
            "2.2 110.00000000000001 200\n"
          ]
        }
      ]
    },
    {
      "cell_type": "code",
      "source": [
        "class AddLayer: # 덧셈 계층\n",
        "  def __init__(self):\n",
        "    pass\n",
        "\n",
        "  def forward(self, x, y):\n",
        "    out = x + y\n",
        "    return out\n",
        "\n",
        "    def backward(self, dout):\n",
        "      dx = dout * 1\n",
        "      dy = dout * 1\n",
        "      return dx, dy"
      ],
      "metadata": {
        "id": "I-muEwRGH_cE"
      },
      "execution_count": null,
      "outputs": []
    },
    {
      "cell_type": "code",
      "source": [
        "class Relu:  # ReLU 계층, mask(True..False로 구성된 넘파이 배열) 인스턴스 변수 가짐\n",
        "  def __init__(self):\n",
        "    self.mask = None\n",
        "\n",
        "  def forward(self, x):\n",
        "    self.mask = (x <= 0)\n",
        "    out = x.copy()\n",
        "    out[self.mask] = 0\n",
        "\n",
        "    return out\n",
        "  \n",
        "  def backward(self,dout):\n",
        "    dout[self.mask] = 0\n",
        "    dx = dout\n",
        "\n",
        "    return dx\n",
        "\n",
        "class Sigmoid: # 시그모이드 함수\n",
        "  def __ini__(self):\n",
        "    self.out = None\n",
        "\n",
        "  def forward(self, x):\n",
        "    out = 1 / (1 + np.exp(-x))\n",
        "    self.out = out\n",
        "\n",
        "    return out\n",
        "\n",
        "  def backward(self, dout):\n",
        "    dx = dout * (1.0 - self.out) * self.out\n",
        "\n",
        "    return dx\n",
        "\n",
        "X = np.random.rand(2) # 입력 \n",
        "W = np.random.rand(2, 3) # 가중치\n",
        "B = np.random.rand(3) # 편향\n",
        "\n",
        "print(X.shape)\n",
        "print(W.shape)\n",
        "print(B.shape)\n",
        "\n",
        "Y = np.dot(X, W) + B"
      ],
      "metadata": {
        "colab": {
          "base_uri": "https://localhost:8080/"
        },
        "id": "UtwV-ylvKCT1",
        "outputId": "c9e12d2e-dc5a-4b68-eb39-feb61d49a307"
      },
      "execution_count": 43,
      "outputs": [
        {
          "output_type": "stream",
          "name": "stdout",
          "text": [
            "(2,)\n",
            "(2, 3)\n",
            "(3,)\n"
          ]
        }
      ]
    },
    {
      "cell_type": "code",
      "source": [
        "class Affine: # 어파인 계층\n",
        "  def __init__(self, W, b):\n",
        "    self.W = W\n",
        "    self.b = b\n",
        "    self.x = None\n",
        "    self.dW = None\n",
        "    self.db = None\n",
        "\n",
        "  def forward(self, x):\n",
        "    self.x = x\n",
        "    out = np.dot(x, self.W) + self.x\n",
        "\n",
        "    return out\n",
        "\n",
        "  def backward(self, dout):\n",
        "    dx = np.dot(dout, self.W.T)\n",
        "    self.dW = np.dot(self.x.T, dout)\n",
        "    self.db = np.sum(dout, axis = 0)\n",
        "\n",
        "class SoftmaxWithLoss: #소프트 맥스 로스 계층\n",
        "  def __init__(self):\n",
        "    self.loss = None # 손실\n",
        "    self.y = None # softmax의 출력\n",
        "    self.t = None # 정답 레이블(원 -핫 벡터)\n",
        "\n",
        "  def forward(self, x, t):\n",
        "    self.t = t\n",
        "    self.y = softmax(x)\n",
        "    self.loss = cross_entropy_error(self.y, self.t)\n",
        "    return self.loss\n",
        "  \n",
        "  def backward(self, dout =1):\n",
        "    batch_size = self.t.shape[0]\n",
        "    dx = (self.y - self.t) / batch_size\n",
        "\n",
        "    return dx"
      ],
      "metadata": {
        "id": "9XBBpyURRkly"
      },
      "execution_count": null,
      "outputs": []
    },
    {
      "cell_type": "code",
      "source": [
        "# 오차 역전파법으로 기울기 구하는 법\n",
        "#grad = network.gradient(x_batch, t_batch)"
      ],
      "metadata": {
        "id": "1IORP2L-SxUX"
      },
      "execution_count": null,
      "outputs": []
    }
  ]
}