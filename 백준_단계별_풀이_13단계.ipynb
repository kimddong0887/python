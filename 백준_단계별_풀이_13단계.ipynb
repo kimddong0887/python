{
  "nbformat": 4,
  "nbformat_minor": 0,
  "metadata": {
    "colab": {
      "name": "백준 단계별 풀이 13단계.ipynb",
      "provenance": [],
      "collapsed_sections": [],
      "authorship_tag": "ABX9TyOHacm0ORypo/HrseUTKdTm",
      "include_colab_link": true
    },
    "kernelspec": {
      "name": "python3",
      "display_name": "Python 3"
    },
    "language_info": {
      "name": "python"
    }
  },
  "cells": [
    {
      "cell_type": "markdown",
      "metadata": {
        "id": "view-in-github",
        "colab_type": "text"
      },
      "source": [
        "<a href=\"https://colab.research.google.com/github/kimddong0887/python/blob/main/%EB%B0%B1%EC%A4%80_%EB%8B%A8%EA%B3%84%EB%B3%84_%ED%92%80%EC%9D%B4_13%EB%8B%A8%EA%B3%84.ipynb\" target=\"_parent\"><img src=\"https://colab.research.google.com/assets/colab-badge.svg\" alt=\"Open In Colab\"/></a>"
      ]
    },
    {
      "cell_type": "markdown",
      "source": [
        "#13단계 기하 1\n",
        "##1. 직사각형에서 탈출\n",
        "####한수는 지금 (x, y)에 있다. 직사각형은 각 변이 좌표축에 평행하고, 왼쪽 아래 꼭짓점은 (0, 0), 오른쪽 위 꼭짓점은 (w, h)에 있다. 직사각형의 경계선까지 가는 거리의 최솟값을 구하는 프로그램을 작성하시오."
      ],
      "metadata": {
        "id": "hSFt002Xztdi"
      }
    },
    {
      "cell_type": "code",
      "source": [
        "x, y ,w ,h = map(int,input().split())\n",
        "x_list = []\n",
        "y_list = []\n",
        "x_list.append(x)\n",
        "x_list.append(abs(w - x))\n",
        "y_list.append(y)\n",
        "y_list.append(abs(y - h))\n",
        "if min(x_list) < min(y_list):\n",
        "  print(min(x_list))\n",
        "else:\n",
        "  print(min(y_list))"
      ],
      "metadata": {
        "colab": {
          "base_uri": "https://localhost:8080/"
        },
        "id": "L3CFd7y_zzZR",
        "outputId": "0b40d60c-3e29-4b90-a456-216931bc3d16"
      },
      "execution_count": 1,
      "outputs": [
        {
          "output_type": "stream",
          "name": "stdout",
          "text": [
            "6 2 10 3\n",
            "1\n"
          ]
        }
      ]
    },
    {
      "cell_type": "markdown",
      "source": [
        "##3. 직각삼각형\n",
        "####과거 이집트인들은 각 변들의 길이가 3, 4, 5인 삼각형이 직각 삼각형인것을 알아냈다. 주어진 세변의 길이로 삼각형이 직각인지 아닌지 구분하시오."
      ],
      "metadata": {
        "id": "IVPtZ-pSz6kV"
      }
    },
    {
      "cell_type": "code",
      "source": [
        "count = 0\n",
        "while count < 1:\n",
        "  LIST = list(map(int,input().split()))\n",
        "  C = max(LIST)\n",
        "  LIST.remove(max(LIST))\n",
        "  if LIST.count(0) == 2:\n",
        "    count += 1\n",
        "  else:\n",
        "    if C**2 == LIST[0]**2 + LIST[1]**2:\n",
        "      print(\"right\")\n",
        "    else:\n",
        "      print(\"wrong\")"
      ],
      "metadata": {
        "colab": {
          "base_uri": "https://localhost:8080/"
        },
        "id": "2hPv_6Lrz8Vf",
        "outputId": "5c76bb47-3800-40a1-bc07-6be066b22e28"
      },
      "execution_count": 2,
      "outputs": [
        {
          "name": "stdout",
          "output_type": "stream",
          "text": [
            "6 8 10\n",
            "right\n",
            "25 52 60\n",
            "wrong\n",
            "5 12 13\n",
            "right\n",
            "0 0 0\n"
          ]
        }
      ]
    },
    {
      "cell_type": "markdown",
      "source": [
        "##6. 택시 기하학\n",
        "####19세기 독일 수학자 헤르만 민코프스키는 비유클리드 기하학 중 택시 기하학을 고안했다.\n",
        "\n",
        "####택시 기하학에서 두 점 T1(x1,y1), T2(x2,y2) 사이의 거리는 다음과 같이 구할 수 있다.\n",
        "\n",
        "####D(T1,T2) = |x1-x2| + |y1-y2|\n",
        "\n",
        "####두 점 사이의 거리를 제외한 나머지 정의는 유클리드 기하학에서의 정의와 같다.\n",
        "\n",
        "####따라서 택시 기하학에서 원의 정의는 유클리드 기하학에서 원의 정의와 같다.\n",
        "\n",
        "####원: 평면 상의 어떤 점에서 거리가 일정한 점들의 집합\n",
        "\n",
        "####반지름 R이 주어졌을 때, 유클리드 기하학에서 원의 넓이와, 택시 기하학에서 원의 넓이를 구하는 프로그램을 작성하시오."
      ],
      "metadata": {
        "id": "j5EFb6rJ0RxT"
      }
    },
    {
      "cell_type": "code",
      "source": [
        "from math import pi\n",
        "R = int(input())\n",
        "print(f\"{R**2 * pi:.6f}\")\n",
        "print(f\"{2 * R**2:.6f}\")"
      ],
      "metadata": {
        "colab": {
          "base_uri": "https://localhost:8080/"
        },
        "id": "LXPn4YVl0X4I",
        "outputId": "000e65a1-f5b4-4f2e-ef39-11957bd434d7"
      },
      "execution_count": 5,
      "outputs": [
        {
          "output_type": "stream",
          "name": "stdout",
          "text": [
            "21\n",
            "1385.442360\n",
            "882.000000\n"
          ]
        }
      ]
    }
  ]
}