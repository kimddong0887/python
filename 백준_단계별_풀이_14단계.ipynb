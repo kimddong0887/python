{
  "nbformat": 4,
  "nbformat_minor": 0,
  "metadata": {
    "colab": {
      "name": "백준 단계별 풀이 14단계.ipynb",
      "provenance": [],
      "collapsed_sections": [],
      "authorship_tag": "ABX9TyMkIDtfU78pbG3oCD37u/tj",
      "include_colab_link": true
    },
    "kernelspec": {
      "name": "python3",
      "display_name": "Python 3"
    },
    "language_info": {
      "name": "python"
    }
  },
  "cells": [
    {
      "cell_type": "markdown",
      "metadata": {
        "id": "view-in-github",
        "colab_type": "text"
      },
      "source": [
        "<a href=\"https://colab.research.google.com/github/kimddong0887/python/blob/main/%EB%B0%B1%EC%A4%80_%EB%8B%A8%EA%B3%84%EB%B3%84_%ED%92%80%EC%9D%B4_14%EB%8B%A8%EA%B3%84.ipynb\" target=\"_parent\"><img src=\"https://colab.research.google.com/assets/colab-badge.svg\" alt=\"Open In Colab\"/></a>"
      ]
    },
    {
      "cell_type": "markdown",
      "source": [
        "#14단계 정수론 및 조합론\n",
        "##1. 배수와 약수\n",
        "####4 × 3 = 12이다.\n",
        "\n",
        "이 식을 통해 다음과 같은 사실을 알 수 있다.\n",
        "\n",
        "3은 12의 약수이고, 12는 3의 배수이다.\n",
        "\n",
        "4도 12의 약수이고, 12는 4의 배수이다.\n",
        "\n",
        "두 수가 주어졌을 때, 다음 3가지 중 어떤 관계인지 구하는 프로그램을 작성하시오.\n",
        "\n",
        "첫 번째 숫자가 두 번째 숫자의 약수이다.\n",
        "첫 번째 숫자가 두 번째 숫자의 배수이다.\n",
        "첫 번째 숫자가 두 번째 숫자의 약수와 배수 모두 아니다."
      ],
      "metadata": {
        "id": "qk6UumGYOQeJ"
      }
    },
    {
      "cell_type": "code",
      "source": [
        "N, M = map(int, input().split())\n",
        "\n",
        "while N != 0 and M != 0:\n",
        "  if N % M == 0:\n",
        "    print(\"multiple\")\n",
        "  elif M % N == 0:\n",
        "    print(\"factor\")\n",
        "  else:\n",
        "    print(\"neither\")\n",
        "  N, M = map(int, input().split())"
      ],
      "metadata": {
        "id": "vYzI5TPvOdMg",
        "colab": {
          "base_uri": "https://localhost:8080/"
        },
        "outputId": "bed941cf-2dfd-455d-f6fe-e246dd6d13d6"
      },
      "execution_count": null,
      "outputs": [
        {
          "name": "stdout",
          "output_type": "stream",
          "text": [
            "18 9\n",
            "multiple\n",
            "9 18\n",
            "factor\n",
            "17 7\n",
            "neither\n",
            "0 0\n"
          ]
        }
      ]
    },
    {
      "cell_type": "markdown",
      "source": [
        "##2. 약수\n",
        "####양수 A가 N의 진짜 약수가 되려면, N이 A의 배수이고, A가 1과 N이 아니어야 한다. 어떤 수 N의 진짜 약수가 모두 주어질 때, N을 구하는 프로그램을 작성하시오."
      ],
      "metadata": {
        "id": "Xa5em8N6LZkR"
      }
    },
    {
      "cell_type": "code",
      "source": [
        "N = input()\n",
        "LIST = list(map(int, input().split()))\n",
        "for i in range(0,1):\n",
        "  MIN = min(LIST)\n",
        "  MAX = max(LIST)\n",
        "  print(MAX * MIN)"
      ],
      "metadata": {
        "colab": {
          "base_uri": "https://localhost:8080/"
        },
        "id": "7J6UdUHuLhHs",
        "outputId": "f52a71f8-b267-49fd-c22a-3cf8479e9c38"
      },
      "execution_count": null,
      "outputs": [
        {
          "output_type": "stream",
          "name": "stdout",
          "text": [
            "6\n",
            "3 4 2 12 6 8\n",
            "24\n"
          ]
        }
      ]
    },
    {
      "cell_type": "markdown",
      "source": [
        "##3. 최대공약수와 최소공배수\n",
        "####두 개의 자연수를 입력받아 최대 공약수와 최소 공배수를 출력하는 프로그램을 작성하시오."
      ],
      "metadata": {
        "id": "J3I6klivM-1L"
      }
    },
    {
      "cell_type": "code",
      "source": [
        "N, M = map(int, input().split())\n",
        "N_LIST = []\n",
        "M_LIST = []\n",
        "NM_LIST = []\n",
        "for i in range(1,N + 1):\n",
        "  if N % i == 0:\n",
        "    N_LIST.append(i)\n",
        "for t in range(1, M + 1):\n",
        "  if M % t == 0:\n",
        "    M_LIST.append(t)\n",
        "for a in N_LIST:\n",
        "  for b in M_LIST:\n",
        "    if a == b:\n",
        "      NM_LIST.append(b)\n",
        "num = N / max(NM_LIST) * M / max(NM_LIST)\n",
        "print(max(NM_LIST))\n",
        "print(int(num * max(NM_LIST)))"
      ],
      "metadata": {
        "id": "IbNsHfO9NDS_",
        "colab": {
          "base_uri": "https://localhost:8080/"
        },
        "outputId": "9c86704a-b01c-4e6b-a3ba-5ca0ebd62823"
      },
      "execution_count": null,
      "outputs": [
        {
          "output_type": "stream",
          "name": "stdout",
          "text": [
            "24 18\n",
            "6\n",
            "72\n"
          ]
        }
      ]
    },
    {
      "cell_type": "markdown",
      "source": [
        "##4. 최소공배수\n",
        "####두 자연수 A와 B에 대해서, A의 배수이면서 B의 배수인 자연수를 A와 B의 공배수라고 한다. 이런 공배수 중에서 가장 작은 수를 최소공배수라고 한다. 예를 들어, 6과 15의 공배수는 30, 60, 90등이 있으며, 최소 공배수는 30이다.\n",
        "\n",
        "####두 자연수 A와 B가 주어졌을 때, A와 B의 최소공배수를 구하는 프로그램을 작성하시오."
      ],
      "metadata": {
        "id": "jROwnNGY_08y"
      }
    },
    {
      "cell_type": "code",
      "source": [
        "import math\n",
        "\n",
        "T = int(input())\n",
        "for i in range(0, T):\n",
        "  A, B = map(int, input().split())  \n",
        "  print(int(A * B / math.gcd(A, B)))"
      ],
      "metadata": {
        "colab": {
          "base_uri": "https://localhost:8080/"
        },
        "id": "V95LMeck_4E-",
        "outputId": "9e7ffdf2-7b95-4cd7-9475-a04bab18184a"
      },
      "execution_count": null,
      "outputs": [
        {
          "output_type": "stream",
          "name": "stdout",
          "text": [
            "3\n",
            "1 45000\n",
            "45000\n",
            "6 10\n",
            "30\n",
            "13 17\n",
            "221\n"
          ]
        }
      ]
    },
    {
      "cell_type": "markdown",
      "source": [
        "##5. 검문\n",
        "####트럭을 타고 이동하던 상근이는 경찰의 검문을 받게 되었다. 경찰은 상근이가 운반하던 화물을 하나하나 모두 확인할 것이기 때문에, 검문하는데 엄청나게 오랜 시간이 걸린다.\n",
        "\n",
        "####상근이는 시간을 때우기 위해서 수학 게임을 하기로 했다.\n",
        "\n",
        "####먼저 근처에 보이는 숫자 N개를 종이에 적는다. 그 다음, 종이에 적은 수를 M으로 나누었을 때, 나머지가 모두 같게 되는 M을 모두 찾으려고 한다. M은 1보다 커야 한다.\n",
        "\n",
        "####N개의 수가 주어졌을 때, 가능한 M을 모두 찾는 프로그램을 작성하시오."
      ],
      "metadata": {
        "id": "9ITS1CFa_4g4"
      }
    },
    {
      "cell_type": "code",
      "source": [
        ""
      ],
      "metadata": {
        "id": "VHv9yiLR_-xD"
      },
      "execution_count": null,
      "outputs": []
    },
    {
      "cell_type": "markdown",
      "source": [
        "##6. 링\n",
        "####상근이는 창고에서 링 N개를 발견했다. 상근이는 각각의 링이 앞에 있는 링과 뒤에 있는 링과 접하도록 바닥에 내려놓았다. \n",
        "\n",
        "####상근이는 첫 번째 링을 돌리기 시작했고, 나머지 링도 같이 돌아간다는 사실을 발견했다. 나머지 링은 첫 번째 링 보다 빠르게 돌아가기도 했고, 느리게 돌아가기도 했다. 이렇게 링을 돌리다 보니 첫 번째 링을 한 바퀴 돌리면, 나머지 링은 몇 바퀴 도는지 궁금해졌다.\n",
        "\n",
        "####링의 반지름이 주어진다. 이때, 첫 번째 링을 한 바퀴 돌리면, 나머지 링은 몇 바퀴 돌아가는지 구하는 프로그램을 작성하시오."
      ],
      "metadata": {
        "id": "CS3-I9RcjF5J"
      }
    },
    {
      "cell_type": "code",
      "source": [
        "import math\n",
        "\n",
        "count = int(input())\n",
        "LIST = list(map(int, input().split()))\n",
        "for i in range(1, count):\n",
        "  A = int(LIST[0] * LIST[i] / math.gcd(LIST[0], LIST[i]))\n",
        "  print(f\"{int(A / LIST[i])}/{int(A/LIST[0])}\")"
      ],
      "metadata": {
        "colab": {
          "base_uri": "https://localhost:8080/"
        },
        "id": "idrqlYN7jKRg",
        "outputId": "cc1f501c-b58f-46bb-a539-4c0f924b749a"
      },
      "execution_count": null,
      "outputs": [
        {
          "output_type": "stream",
          "name": "stdout",
          "text": [
            "3\n",
            "8 4 2\n",
            "2/1\n",
            "4/1\n"
          ]
        }
      ]
    },
    {
      "cell_type": "markdown",
      "source": [
        "##7. 이항 계수 1\n",
        "####자연수 \\(N\\)과 정수 \\(K\\)가 주어졌을 때 이항 계수 \n",
        "####\\(\\binom{N}{K}\\)를 구하는 프로그램을 작성하시오."
      ],
      "metadata": {
        "id": "0_Z2Cocxw3HC"
      }
    },
    {
      "cell_type": "code",
      "source": [
        ""
      ],
      "metadata": {
        "id": "AKiepG5AxLok"
      },
      "execution_count": null,
      "outputs": []
    },
    {
      "cell_type": "markdown",
      "source": [
        "##9. 다리 놓기\n",
        "####재원이는 한 도시의 시장이 되었다. 이 도시에는 도시를 동쪽과 서쪽으로 나누는 큰 일직선 모양의 강이 흐르고 있다. 하지만 재원이는 다리가 없어서 시민들이 강을 건너는데 큰 불편을 겪고 있음을 알고 다리를 짓기로 결심하였다. 강 주변에서 다리를 짓기에 적합한 곳을 사이트라고 한다. 재원이는 강 주변을 면밀히 조사해 본 결과 강의 서쪽에는 N개의 사이트가 있고 동쪽에는 M개의 사이트가 있다는 것을 알았다. (N ≤ M)\n",
        "\n",
        "####재원이는 서쪽의 사이트와 동쪽의 사이트를 다리로 연결하려고 한다. (이때 한 사이트에는 최대 한 개의 다리만 연결될 수 있다.) 재원이는 다리를 최대한 많이 지으려고 하기 때문에 서쪽의 사이트 개수만큼 (N개) 다리를 지으려고 한다. 다리끼리는 서로 겹쳐질 수 없다고 할 때 다리를 지을 수 있는 경우의 수를 구하는 프로그램을 작성하라."
      ],
      "metadata": {
        "id": "2CgErhwmtG0t"
      }
    },
    {
      "cell_type": "code",
      "source": [
        "T = int(input())\n",
        "for i in range(0, T):\n",
        "  N, M = map(int, input().split())\n",
        "  M_factorial = 1\n",
        "  REST_factorial = 12\n",
        "  if M - N != 0:\n",
        "    for t in range(1, M + 1):\n",
        "      M_factorial = M_factorial * t\n",
        "    for q in range(1, M - N + 1):\n",
        "      REST_factorial = REST_factorial * q\n",
        "    print(M_factorial // REST_factorial)\n",
        "  else:\n",
        "    print(1)"
      ],
      "metadata": {
        "colab": {
          "base_uri": "https://localhost:8080/"
        },
        "id": "vwWu9g5JtJmV",
        "outputId": "ae3ac733-15a8-4a93-dad1-af449cd82c80"
      },
      "execution_count": 26,
      "outputs": [
        {
          "output_type": "stream",
          "name": "stdout",
          "text": [
            "3\n",
            "2 2\n",
            "1\n",
            "1 5\n",
            "0\n",
            "13 29\n",
            "35215834189536000\n"
          ]
        }
      ]
    }
  ]
}