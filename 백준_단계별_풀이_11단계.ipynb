{
  "nbformat": 4,
  "nbformat_minor": 0,
  "metadata": {
    "colab": {
      "name": "백준 단계별 풀이 11단계.ipynb",
      "provenance": [],
      "collapsed_sections": [],
      "authorship_tag": "ABX9TyMhfioESKRWkHRppGfvb55v",
      "include_colab_link": true
    },
    "kernelspec": {
      "name": "python3",
      "display_name": "Python 3"
    },
    "language_info": {
      "name": "python"
    }
  },
  "cells": [
    {
      "cell_type": "markdown",
      "metadata": {
        "id": "view-in-github",
        "colab_type": "text"
      },
      "source": [
        "<a href=\"https://colab.research.google.com/github/kimddong0887/python/blob/main/%EB%B0%B1%EC%A4%80_%EB%8B%A8%EA%B3%84%EB%B3%84_%ED%92%80%EC%9D%B4_11%EB%8B%A8%EA%B3%84.ipynb\" target=\"_parent\"><img src=\"https://colab.research.google.com/assets/colab-badge.svg\" alt=\"Open In Colab\"/></a>"
      ]
    },
    {
      "cell_type": "markdown",
      "source": [
        "#11단계 정렬\n",
        "##1. 수 정렬하기\n",
        "####N개의 수가 주어졌을 때, 이를 오름차순으로 정렬하는 프로그램을 작성하시오."
      ],
      "metadata": {
        "id": "PlF_0JApr0Zu"
      }
    },
    {
      "cell_type": "code",
      "source": [
        "x = int(input())\n",
        "num_list = []\n",
        "for i in range(x):\n",
        "    num_list.append(int(input()))\n",
        "num_list1 = sorted(num_list)\n",
        "for i in range(len(num_list)):\n",
        "    print(num_list1[i])"
      ],
      "metadata": {
        "colab": {
          "base_uri": "https://localhost:8080/"
        },
        "id": "2CyvIe8hsQaM",
        "outputId": "fb0b7be0-481e-4fa2-97eb-4aa8fa0ea235"
      },
      "execution_count": 1,
      "outputs": [
        {
          "output_type": "stream",
          "name": "stdout",
          "text": [
            "5\n",
            "5\n",
            "2\n",
            "3\n",
            "4\n",
            "1\n",
            "1\n",
            "2\n",
            "3\n",
            "4\n",
            "5\n"
          ]
        }
      ]
    },
    {
      "cell_type": "markdown",
      "source": [
        "##2. 수 정렬하기 2\n",
        "####N개의 수가 주어졌을 때, 이를 오름차순으로 정렬하는 프로그램을 작성하시오."
      ],
      "metadata": {
        "id": "l7ccnEygsWsr"
      }
    },
    {
      "cell_type": "code",
      "source": [
        "x = int(input())\n",
        "num_list = []\n",
        "for i in range(x):\n",
        "    num_list.append(int(input()))\n",
        "num_list1 = sorted(num_list)\n",
        "for i in range(len(num_list)):\n",
        "    print(num_list1[i])"
      ],
      "metadata": {
        "colab": {
          "base_uri": "https://localhost:8080/"
        },
        "id": "hoLPC8IwsbPc",
        "outputId": "2e404993-1e77-4f54-e562-828696a25c20"
      },
      "execution_count": 4,
      "outputs": [
        {
          "output_type": "stream",
          "name": "stdout",
          "text": [
            "5\n",
            "5\n",
            "4\n",
            "3\n",
            "2\n",
            "1\n",
            "1\n",
            "2\n",
            "3\n",
            "4\n",
            "5\n"
          ]
        }
      ]
    }
  ]
}