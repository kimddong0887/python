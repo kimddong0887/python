{
  "nbformat": 4,
  "nbformat_minor": 0,
  "metadata": {
    "colab": {
      "name": "파이썬 100제 71~80.ipynb",
      "provenance": [],
      "collapsed_sections": [],
      "authorship_tag": "ABX9TyM5qvytsCdmP5PK/W5nK/0D",
      "include_colab_link": true
    },
    "kernelspec": {
      "name": "python3",
      "display_name": "Python 3"
    },
    "language_info": {
      "name": "python"
    }
  },
  "cells": [
    {
      "cell_type": "markdown",
      "metadata": {
        "id": "view-in-github",
        "colab_type": "text"
      },
      "source": [
        "<a href=\"https://colab.research.google.com/github/kimddong0887/python/blob/main/%ED%8C%8C%EC%9D%B4%EC%8D%AC_100%EC%A0%9C_71~80.ipynb\" target=\"_parent\"><img src=\"https://colab.research.google.com/assets/colab-badge.svg\" alt=\"Open In Colab\"/></a>"
      ]
    },
    {
      "cell_type": "markdown",
      "metadata": {
        "id": "PJwtA8oHvSlB"
      },
      "source": [
        "##문제71 : 깊이 우선 탐색\n",
        "**깊이 우선 탐색**이란 목표한 노드를 찾기 위해 가장 우선순위가 높은 노드의 자식으로 깊이 들어 갔다가 목표 노드가 존재하지 않으면 처음 방문한 노드와 연결된 다른 노드부터 그 자식 노드로 파고드는 검색 방법을 말합니다.\n",
        "\n",
        "![https://s3-us-west-2.amazonaws.com/secure.notion-static.com/22aa2540-0fa0-4fc2-8953-4222bf62f824/Untitled.png](https://s3-us-west-2.amazonaws.com/secure.notion-static.com/22aa2540-0fa0-4fc2-8953-4222bf62f824/Untitled.png)\n",
        "\n",
        "다음과 같이 리스트 형태로 노드들의 연결 관계가 주어진다고 할 때 깊이 우선 탐색으로 이 노드들을 탐색했을 때의 순서를 공백으로 구분하여 출력하는 프로그램을 완성하세요.\n",
        "\n",
        "1. **빨간색으로 Pass라고 되어 있는 부분을 완성**해주세요.\n",
        "\n",
        "2. **깊이 우선 탐색을 오른쪽, 왼쪽 둘 다 구현**해보세요.\n",
        "\n",
        "3. **리스트**로도 구현해보세요.\n",
        "\n",
        "```python\n",
        "**1. 데이터**\n",
        "\n",
        "graph = {'E': set(['D', 'A']),\n",
        "         'F': set(['D']),\n",
        "         'A': set(['E', 'C', 'B']),\n",
        "         'B': set(['A']),\n",
        "         'C': set(['A']),\n",
        "         'D': set(['E','F'])}\n",
        "\n",
        "**2.** **출력\n",
        "['E', 'A', 'B', 'C', 'D', 'F']\n",
        "\n",
        "3. 코드**\n",
        "\n",
        "graph = {\n",
        "        'A': set(['B', 'C', 'E']),\n",
        "        'B': set(['A']),\n",
        "        'C': set(['A']),\n",
        "        'D': set(['E', 'F']),\n",
        "        'E': set(['A', 'D']),\n",
        "        'F': set(['D'])\n",
        "}\n",
        "\n",
        "def dfs(graph, start):\n",
        "    visited = []\n",
        "    stack = [start]\n",
        "\n",
        "    while stack:\n",
        "        n = stack.pop()\n",
        "        if n not in visited:\n",
        "            visited.append(n)\n",
        "            **pass**\n",
        "    return visited\n",
        "\n",
        "print(dfs(graph, 'E'))\n",
        "```"
      ]
    },
    {
      "cell_type": "code",
      "metadata": {
        "colab": {
          "base_uri": "https://localhost:8080/"
        },
        "id": "WAQDT2CevgVq",
        "outputId": "3cdb0feb-9025-4ae6-915d-179bf57f5a30"
      },
      "source": [
        "graph = {\n",
        "        'A': set(['B', 'C', 'E']),\n",
        "        'B': set(['A']),\n",
        "        'C': set(['A']),\n",
        "        'D': set(['E', 'F']),\n",
        "        'E': set(['A', 'D']),\n",
        "        'F': set(['D'])\n",
        "}\n",
        "\n",
        "def dfs(graph, start):\n",
        "    visited = []\n",
        "    stack = [start]\n",
        "\n",
        "    while stack:\n",
        "        n = stack.pop()\n",
        "        if n not in visited:\n",
        "            visited.append(n)\n",
        "            stack += graph[n] - set(visited)\n",
        "    return visited\n",
        "\n",
        "print(dfs(graph, 'E'))\n",
        "\n",
        "#tree 풀이\n",
        "\n",
        "tree = {\n",
        "        'A': ['B', 'C', 'E'],\n",
        "        'B': ['A'],\n",
        "        'C': ['A'],\n",
        "        'D': ['E', 'F'],\n",
        "        'E': ['A', 'D'],\n",
        "        'F': ['D']\n",
        "}\n",
        "\n",
        "def dfs(data, start):\n",
        "    visited = []\n",
        "    stack = [start]\n",
        "\n",
        "    pass\n",
        "\n",
        "    return visited\n",
        "\n",
        "print(dfs(tree, 'E'))"
      ],
      "execution_count": 1,
      "outputs": [
        {
          "output_type": "stream",
          "name": "stdout",
          "text": [
            "['E', 'A', 'B', 'C', 'D', 'F']\n",
            "[]\n"
          ]
        }
      ]
    },
    {
      "cell_type": "markdown",
      "metadata": {
        "id": "gcTGKSqGvjZX"
      },
      "source": [
        "##문제72 : 너비 우선 탐색\n",
        "**너비 우선 탐색**이란 어떤 노드를 방문하여 확인 한 후, 목표한 노드가 아니면 그 노드와 연결된 정점들 중에서 우선순위가 동일한 다른 노드를 찾고 그 순위에 없으면 그 다음 순위 노드를 차례대로 찾는 방법이다.\n",
        "\n",
        "![https://s3-us-west-2.amazonaws.com/secure.notion-static.com/b11e9de9-66f6-4691-8a08-4b84497e4fa6/Untitled.png](https://s3-us-west-2.amazonaws.com/secure.notion-static.com/b11e9de9-66f6-4691-8a08-4b84497e4fa6/Untitled.png)\n",
        "\n",
        "다음과 같이 입력이 주어질 때 **너비 우선 탐색을 한 순서대로 노드의 인덱스를 공백 구분으로 출력하는 프로그램을 완성해주세요.**\n",
        "\n",
        "```python\n",
        "**1. 데이터**\n",
        "\n",
        "graph = {'E': set(['D', 'A']),\n",
        "         'F': set(['D']),\n",
        "         'A': set(['E', 'C', 'B']),\n",
        "         'B': set(['A']),\n",
        "         'C': set(['A']),\n",
        "         'D': set(['E','F'])}\n",
        "\n",
        "**2. 출력**\n",
        "\n",
        "['E', 'D', 'A', 'F', 'C', 'B']\n",
        "\n",
        "**3. 코드**\n",
        "\n",
        "graph = {'E': set(['D', 'A']),\n",
        "         'F': set(['D']),\n",
        "         'A': set(['E', 'C', 'B']),\n",
        "         'B': set(['A']),\n",
        "         'C': set(['A']),\n",
        "         'D': set(['E','F'])}\n",
        "\n",
        "def bfs(graph, start):\n",
        "    visited = []\n",
        "    queue = [start]\n",
        "\n",
        "    while queue:\n",
        "        **pass**\n",
        "        if n not in visited:\n",
        "            visited.append(n)\n",
        "            queue += graph[n] - set(visited)\n",
        "    return visited\n",
        "\n",
        "print(bfs(graph, 'E'))\n",
        "```"
      ]
    },
    {
      "cell_type": "code",
      "metadata": {
        "colab": {
          "base_uri": "https://localhost:8080/"
        },
        "id": "fr2Ippe6vp9e",
        "outputId": "9f84145d-a7a8-483b-ff57-a936a7f54ba6"
      },
      "source": [
        "graph = {\n",
        "        'A': set(['B', 'C', 'E']),\n",
        "        'B': set(['A']),\n",
        "        'C': set(['A']),\n",
        "        'D': set(['E', 'F']),\n",
        "        'E': set(['A', 'D']),\n",
        "        'F': set(['D'])\n",
        "}\n",
        "\n",
        "def bfs(graph, start):\n",
        "    visited = []\n",
        "    queue = [start]\n",
        "\n",
        "    while queue:\n",
        "        n = queue.pop(0)\n",
        "        if n not in visited:\n",
        "            visited.append(n)\n",
        "            queue += graph[n] - set(visited)\n",
        "    return visited\n",
        "\n",
        "print(bfs(graph, 'E'))"
      ],
      "execution_count": 3,
      "outputs": [
        {
          "output_type": "stream",
          "name": "stdout",
          "text": [
            "['E', 'D', 'A', 'F', 'C', 'B']\n"
          ]
        }
      ]
    },
    {
      "cell_type": "markdown",
      "metadata": {
        "id": "mPJbgUnEvrkH"
      },
      "source": [
        "##문제73 : 최단 경로 찾기\n",
        "다음과 같이 노드의 연결 관계가 그래프 형태로 주어집니다. 그 다음 경로를 구할 두 정점이 공백으로 구분되어 주어질 것입니다. \n",
        "\n",
        "두 정점 사이를 이동할 수 있는 최단거리를 출력하는 프로그램을 작성해 주세요. \n",
        "\n",
        "이 때 최단 거리란, 정점의 중복 없이 한 정점에서 다른 정점까지 갈 수 있는 가장 적은 간선의 수를 의미합니다.\n",
        "\n",
        "```python\n",
        "**데이터**\n",
        "graph = {'A': set(['B', 'C']),\n",
        "         'B': set(['A', 'D', 'E']),\n",
        "         'C': set(['A', 'F']),\n",
        "         'D': set(['B']),\n",
        "         'E': set(['B', 'F']),\n",
        "         'F': set(['C', 'E'])}\n",
        "\n",
        "**입출력**\n",
        "\n",
        "입력 : A F\n",
        "출력 : 2\n",
        "```"
      ]
    },
    {
      "cell_type": "code",
      "metadata": {
        "colab": {
          "base_uri": "https://localhost:8080/"
        },
        "id": "I3d-HgFRvvDW",
        "outputId": "b997e1d9-49c3-480c-9a20-ac8a9235df2b"
      },
      "source": [
        "graph = {'A': set(['B', 'C']),\n",
        "         'B': set(['A', 'D', 'E']),\n",
        "         'C': set(['A', 'F']),\n",
        "         'D': set(['B']),\n",
        "         'E': set(['B', 'F']),\n",
        "         'F': set(['C', 'E'])}\n",
        "\n",
        "start, end = [i for i in input().split()]\n",
        "    \n",
        "queue = [start]\n",
        "visited = [start]\n",
        "    \n",
        "def solution():\n",
        "    count = -1\n",
        "\n",
        "    while len(queue)!=0:\n",
        "        count += 1\n",
        "        size = len(queue)\n",
        "\n",
        "        for i in range(size):\n",
        "            node = queue.pop(0)\n",
        "            if node == end:\n",
        "                return count\n",
        "\n",
        "            for next_node in graph[node]:\n",
        "                if next_node not in visited:\n",
        "                    visited.append(next_node)\n",
        "                    queue.append(next_node)\n",
        "\n",
        "print(solution())"
      ],
      "execution_count": 4,
      "outputs": [
        {
          "output_type": "stream",
          "name": "stdout",
          "text": [
            "A F\n",
            "2\n"
          ]
        }
      ]
    },
    {
      "cell_type": "markdown",
      "metadata": {
        "id": "OLpSGVQRvxcw"
      },
      "source": [
        "##문제74 : 최장 경로 찾기\n",
        "첫 줄에는 다음과 같은 집합 자료형 형태로 노드의 연결 관계가 주어집니다. \n",
        "두번째 줄에는 경로를 구할 두 정점의 번호가 공백으로 구분되어 주어집니다. **이 두 정점으로 가기 위한 최대 거리**를 구하고자 합니다. \n",
        "\n",
        "최대 거리란, 정점의 중복 없이 한 정점에서 다른 정점까지 경유할 수 있는 가장 많은 간선의 수를 뜻합니다.\n",
        "\n",
        "```python\n",
        "**데이터**\n",
        "graph = {1: [2, 3, 4],\n",
        "\t\t\t\t 2: [1, 3, 4, 5, 6],\n",
        "\t\t\t\t 3: [1, 2, 7],\n",
        "\t\t\t\t 4: [1, 2, 5, 6],\n",
        "\t\t\t\t 5: [2, 4, 6, 7],\n",
        "\t\t\t\t 6: [2, 4, 5, 7],\n",
        "\t\t\t\t 7: [3, 5, 6]}\n",
        "\n",
        "**입력**\n",
        "1 7\n",
        "\n",
        "**출력**\n",
        "6\n",
        "```"
      ]
    },
    {
      "cell_type": "code",
      "metadata": {
        "colab": {
          "base_uri": "https://localhost:8080/"
        },
        "id": "HxjJB5CZv5JN",
        "outputId": "c1634317-64dd-4691-b0ad-641da1e6470a"
      },
      "source": [
        "graph = {1: [2, 3, 4],\n",
        "\t\t\t\t 2: [1, 3, 4, 5, 6],\n",
        "\t\t\t\t 3: [1, 2, 7],\n",
        "\t\t\t\t 4: [1, 2, 5, 6],\n",
        "\t\t\t\t 5: [2, 4, 6, 7],\n",
        "\t\t\t\t 6: [2, 4, 5, 7],\n",
        "\t\t\t\t 7: [3, 5, 6]} \n",
        "\n",
        "start, end = [int(i) for i in input().split()]\n",
        "queue = [start]\n",
        "visited = []\n",
        "\n",
        "def sol(n, visited):\n",
        "\tif n[-1] == end:\n",
        "\t\treturn len(visited)\n",
        "\t\n",
        "\tif n[-1] in visited:\n",
        "\t\treturn len(visited)\n",
        "\t\n",
        "\tvisited.append(n[-1])\n",
        "\tlength = 0\n",
        "\t\n",
        "\tfor next_node in graph[n[-1]]:\n",
        "\t\tn.append(next_node)\n",
        "\t\tlength = max(length, sol(n, visited))\n",
        "\t\tqueue.pop(-1)\n",
        "\treturn length\n",
        "\n",
        "print(sol(queue, visited))"
      ],
      "execution_count": 5,
      "outputs": [
        {
          "output_type": "stream",
          "name": "stdout",
          "text": [
            "1 7\n",
            "6\n"
          ]
        }
      ]
    },
    {
      "cell_type": "markdown",
      "metadata": {
        "id": "iINsGDMiv600"
      },
      "source": [
        "##문제75 : 이상한 369\n",
        "369 게임을 하는데 조금 이상한 규칙이 있습니다. 3이나 6, 9 일 때만 박수를 쳐야합니다. 예를 들어 13, 16과 같이 3과 6, 9 만으로 된 숫자가 아닐 경우엔 박수를 치지 않습니다.\n",
        "수현이는 박수를 몇 번 쳤는지 확인하고 싶습니다. 36일 때 박수를 쳤다면 박수를 친 횟수는 5번입니다.\n",
        "\n",
        "n을 입력하면 박수를 몇 번 쳤는지 그 숫자를 출력해주세요.\n",
        "\n",
        "![https://s3-us-west-2.amazonaws.com/secure.notion-static.com/9287d7e8-16a9-43a1-bf51-e7a585b884bc/_2019-10-07__2.01.50.png](https://s3-us-west-2.amazonaws.com/secure.notion-static.com/9287d7e8-16a9-43a1-bf51-e7a585b884bc/_2019-10-07__2.01.50.png)\n",
        "\n",
        "```python\n",
        "**입력 - 문자로 입력받습니다.**\n",
        "'93'\n",
        "\n",
        "**출력**\n",
        "10\n",
        "```"
      ]
    },
    {
      "cell_type": "code",
      "metadata": {
        "id": "u9qC9TmAwADL"
      },
      "source": [
        "def sol(n):\n",
        "    n = list(str(n))\n",
        "    answer = 0\n",
        "    count = 1\n",
        "    d = {3 : 1, 6 : 2, 9 : 3}\n",
        "    \n",
        "    while n:\n",
        "        answer += d[int(n.pop())] * count\n",
        "        count *= 3\n",
        "        \n",
        "    return answer"
      ],
      "execution_count": 6,
      "outputs": []
    },
    {
      "cell_type": "markdown",
      "metadata": {
        "id": "XP8IB_gwwEgR"
      },
      "source": [
        "##문제76 : 안전한 땅\n",
        "전쟁이 끝난 후, A나라에서는 폐허가 된 도시를 재건하려고 합니다. 그런데 이 땅은 전쟁의 중심지였으므로 전쟁 중 매립된 지뢰가 아직도 많이 남아 있었습니다. 정부는 가장 먼저 지뢰를 제거하기 위해 수색반을 꾸렸습니다.\n",
        "\n",
        "수색반은 가장 효율적인 지뢰 제거를 하고 싶습니다. 수색반은 도시를 격자 무늬로 나눠놓고 자신들이 수색할 수 있는 범위 내에 가장 많은 지뢰가 매립된 지역을 가장 먼저 작업하고 싶습니다.\n",
        "\n",
        "가장 먼저 테스트 케이스의 수를 나타내는 1이상 100 이하의 자연수가 주어집니다.\n",
        "각 테스트 케이스의 첫 줄에는 수색할 도시의 크기 a와 수색반이 한번에 수색 가능한 범위 b가 주어집니다. (a와 b 모두 정사각형의 가로 또는 세로를 나타냅니다. 예를들어 10이 주어지면 10x10칸의 크기를 나타냅니다.)\n",
        "\n",
        "그 후 a줄에 걸쳐 도시 내 지뢰가 있는지의 여부가 나타납니다. \n",
        "0은 지뢰가 없음 1은 지뢰가 있음을 뜻합니다.\n",
        "\n",
        "각 테스트 케이스에 대해 수색 가능한 범위 bxb 내에서 찾아낼 수 있는 가장 큰 지뢰의 갯수를 구하세요.\n",
        "\n",
        "```python\n",
        "**입력**\n",
        "1\n",
        "5 3\n",
        "1 0 0 1 0\n",
        "0 1 0 0 1\n",
        "0 0 0 1 0\n",
        "0 0 0 0 0\n",
        "0 0 1 0 0\n",
        "\n",
        "**출력**\n",
        "3\n",
        "```"
      ]
    },
    {
      "cell_type": "code",
      "metadata": {
        "colab": {
          "base_uri": "https://localhost:8080/",
          "height": 248
        },
        "id": "HACb45TtwIM7",
        "outputId": "ae21a087-0f82-4bda-f3a1-87a03030365a"
      },
      "source": [
        "import numpy as np\n",
        "\n",
        "사각형 = 5\n",
        "탐색가능지역 = 3\n",
        "\n",
        "지뢰밭 = [[1, 0, 0, 1, 0],\n",
        "          [0, 1, 0, 0, 1],\n",
        "          [0, 0, 0, 1, 0],\n",
        "          [0, 0, 0, 0, 0],\n",
        "          [0, 0, 1, 0, 0]]\n",
        "\n",
        "s = 0\n",
        "for i in range(사각형 - 탐색가능지역 + 1):\n",
        "    for j in range(탐색가능지역):\n",
        "        if np.sum(지뢰밭[i:탐색가능지역+i, j:탐색가능지역+j]) > s: \n",
        "            s = np.sum(지뢰밭[i:탐색가능지역+i, j:탐색가능지역+j])\n",
        "print(s)"
      ],
      "execution_count": 7,
      "outputs": [
        {
          "output_type": "error",
          "ename": "TypeError",
          "evalue": "ignored",
          "traceback": [
            "\u001b[0;31m---------------------------------------------------------------------------\u001b[0m",
            "\u001b[0;31mTypeError\u001b[0m                                 Traceback (most recent call last)",
            "\u001b[0;32m<ipython-input-7-c164b8110b6a>\u001b[0m in \u001b[0;36m<module>\u001b[0;34m()\u001b[0m\n\u001b[1;32m     13\u001b[0m \u001b[0;32mfor\u001b[0m \u001b[0mi\u001b[0m \u001b[0;32min\u001b[0m \u001b[0mrange\u001b[0m\u001b[0;34m(\u001b[0m\u001b[0m사각형\u001b[0m \u001b[0;34m-\u001b[0m \u001b[0m탐색가능지역\u001b[0m \u001b[0;34m+\u001b[0m \u001b[0;36m1\u001b[0m\u001b[0;34m)\u001b[0m\u001b[0;34m:\u001b[0m\u001b[0;34m\u001b[0m\u001b[0;34m\u001b[0m\u001b[0m\n\u001b[1;32m     14\u001b[0m     \u001b[0;32mfor\u001b[0m \u001b[0mj\u001b[0m \u001b[0;32min\u001b[0m \u001b[0mrange\u001b[0m\u001b[0;34m(\u001b[0m\u001b[0m탐색가능지역\u001b[0m\u001b[0;34m)\u001b[0m\u001b[0;34m:\u001b[0m\u001b[0;34m\u001b[0m\u001b[0;34m\u001b[0m\u001b[0m\n\u001b[0;32m---> 15\u001b[0;31m         \u001b[0;32mif\u001b[0m \u001b[0mnp\u001b[0m\u001b[0;34m.\u001b[0m\u001b[0msum\u001b[0m\u001b[0;34m(\u001b[0m\u001b[0m지뢰밭\u001b[0m\u001b[0;34m[\u001b[0m\u001b[0mi\u001b[0m\u001b[0;34m:\u001b[0m\u001b[0m탐색가능지역\u001b[0m\u001b[0;34m+\u001b[0m\u001b[0mi\u001b[0m\u001b[0;34m,\u001b[0m \u001b[0mj\u001b[0m\u001b[0;34m:\u001b[0m\u001b[0m탐색가능지역\u001b[0m\u001b[0;34m+\u001b[0m\u001b[0mj\u001b[0m\u001b[0;34m]\u001b[0m\u001b[0;34m)\u001b[0m \u001b[0;34m>\u001b[0m \u001b[0ms\u001b[0m\u001b[0;34m:\u001b[0m\u001b[0;34m\u001b[0m\u001b[0;34m\u001b[0m\u001b[0m\n\u001b[0m\u001b[1;32m     16\u001b[0m             \u001b[0ms\u001b[0m \u001b[0;34m=\u001b[0m \u001b[0mnp\u001b[0m\u001b[0;34m.\u001b[0m\u001b[0msum\u001b[0m\u001b[0;34m(\u001b[0m\u001b[0m지뢰밭\u001b[0m\u001b[0;34m[\u001b[0m\u001b[0mi\u001b[0m\u001b[0;34m:\u001b[0m\u001b[0m탐색가능지역\u001b[0m\u001b[0;34m+\u001b[0m\u001b[0mi\u001b[0m\u001b[0;34m,\u001b[0m \u001b[0mj\u001b[0m\u001b[0;34m:\u001b[0m\u001b[0m탐색가능지역\u001b[0m\u001b[0;34m+\u001b[0m\u001b[0mj\u001b[0m\u001b[0;34m]\u001b[0m\u001b[0;34m)\u001b[0m\u001b[0;34m\u001b[0m\u001b[0;34m\u001b[0m\u001b[0m\n\u001b[1;32m     17\u001b[0m \u001b[0mprint\u001b[0m\u001b[0;34m(\u001b[0m\u001b[0ms\u001b[0m\u001b[0;34m)\u001b[0m\u001b[0;34m\u001b[0m\u001b[0;34m\u001b[0m\u001b[0m\n",
            "\u001b[0;31mTypeError\u001b[0m: list indices must be integers or slices, not tuple"
          ]
        }
      ]
    },
    {
      "cell_type": "markdown",
      "metadata": {
        "id": "5qcPubQywJ1X"
      },
      "source": [
        "##문제77 : 가장 긴 공통 부분 문자열\n",
        "**가장 긴 공통 부분 문자열(Longest Common Subsequence)**이란 A, B 두 문자열이 주어졌을 때\n",
        "두 열에 공통으로 들어 있는 요소로 만들 수 있는 가장 긴 부분열을 말합니다.\n",
        "여기서 부분열이란 다른 문자열에서 몇몇의 문자가 빠져 있어도 순서가 바뀌지 않은 열을 말합니다.\n",
        "\n",
        "예를 들어 S1 = ['T', 'H', 'E', 'S', 'T', 'R', 'I', 'N', 'G', 'S']  S2 = ['T', 'H', 'I', 'S', 'I', 'S']라는 두 문자열이 있을 때\n",
        "둘 사이의 부분 공통 문자열의 길이는 ['T', 'H', 'S', 'T', 'I', 'S'] 의 6개가 됩니다.\n",
        "\n",
        "이처럼 **두 문자열이 주어지면 가장 긴 부분 공통 문자열의 길이를 반환하는 프로그램**을 만들어 주세요.\n",
        "\n",
        "두 개의 문자열이 한 줄에 하나씩 주어집니다.\n",
        "문자열은 알파벳 대문자로만 구성되며 그 길이는 100글자가 넘어가지 않습니다.\n",
        "\n",
        "출력은 이 두 문자열의 가장 긴 부분 공통 문자열의 길이를 반환하면 됩니다.\n",
        "\n",
        "```python\n",
        "**- Test Case -**\n",
        "\n",
        "**입력**\n",
        "THISISSTRINGS\n",
        "THISIS\n",
        "\n",
        "**출력**\n",
        "6\n",
        "\n",
        "-\n",
        "\n",
        "**입력**\n",
        "THISISSTRINGS\n",
        "TATHISISKKQQAEW\n",
        "\n",
        "**출력**\n",
        "6\n",
        "\n",
        "-\n",
        "\n",
        "**입력**\n",
        "THISISSTRINGS\n",
        "KIOTHIKESSISKKQQAEW\n",
        "\n",
        "**출력**\n",
        "3\n",
        "\n",
        "-\n",
        "\n",
        "**입력**\n",
        "THISISSTRINGS\n",
        "TKHKIKSIS\n",
        "\n",
        "**출력**\n",
        "3\n",
        "```"
      ]
    },
    {
      "cell_type": "code",
      "metadata": {
        "colab": {
          "base_uri": "https://localhost:8080/"
        },
        "id": "ahnsQ66KwOWN",
        "outputId": "612aa7a6-ea95-4469-daa8-91affed24dbf"
      },
      "source": [
        "def sol(strings):\n",
        "    result = []\n",
        "    for i in range(1,len(strings)+1):\n",
        "        for j in range(i):\n",
        "            result.append(strings[j:j+len(strings)-i+1])\n",
        "    return result\n",
        "\n",
        "input1 = input()\n",
        "input2 = input()\n",
        "#문자열 나열될 수 있는 모든 경우의수 만들기\n",
        "list1 = set(sol(input1))\n",
        "list2 = set(sol(input2))\n",
        "#경우의 수 교집합\n",
        "answers = list1.intersection(list2)\n",
        "# 가장 긴 교집합\n",
        "answer = max(answers,key=len)\n",
        "print(len(answer))"
      ],
      "execution_count": 8,
      "outputs": [
        {
          "output_type": "stream",
          "name": "stdout",
          "text": [
            "THISISSTRINGS\n",
            "THISIS\n",
            "6\n"
          ]
        }
      ]
    },
    {
      "cell_type": "markdown",
      "metadata": {
        "id": "TQg_esBrwQNV"
      },
      "source": [
        "##문제78 : 원형테이블\n",
        "기린은 중국집에서 친구들과 만나기로 하고, 음식을 시켰습니다.\n",
        "음식이 나오고 한참을 기다렸지만 만나기로 한 친구 2명이 오지 않았어요.\n",
        "\n",
        "기린은 배가 너무 고파 혼자 음식을 먹기 시작합니다. 원형테이블에는 N개의 음식들이 있습니다.\n",
        "한개의 음식을 다 먹으면 그 음식의 시계방향으로 K번째 음식을 먹습니다.\n",
        "하지만 아직 오지 않은 친구들을 위해 2개의 접시를 남겨야 합니다.\n",
        "\n",
        "**마지막으로 남는 음식은 어떤 접시인가요?**\n",
        "\n",
        "![https://s3-us-west-2.amazonaws.com/secure.notion-static.com/d6e00516-f674-46ab-a9e7-2c82f3d8d2b7/Untitled.png](https://s3-us-west-2.amazonaws.com/secure.notion-static.com/d6e00516-f674-46ab-a9e7-2c82f3d8d2b7/Untitled.png)\n",
        "\n",
        "```python\n",
        "입력은 2개의 정수로 이루어지며 공백으로 구분되어 입력됩니다.\n",
        "첫번째 숫자가 음식의 개수 N, 두번째 숫자가 K입니다.\n",
        "첫번째 가져가는 음식이 K이며 나머지는 첫번째 음식으로부터 시계방향으로 가져갑니다.\n",
        "\n",
        "**입력**\n",
        "6 3\n",
        "\n",
        "****남은 음식들의 번호를 리스트 형태로 출력합니다.\n",
        "**출력**\n",
        "[3, 5]\n",
        "```"
      ]
    },
    {
      "cell_type": "code",
      "metadata": {
        "colab": {
          "base_uri": "https://localhost:8080/"
        },
        "id": "-SyAPFD7wafN",
        "outputId": "7ad00d0b-4424-47f6-fe02-b49ca66f965b"
      },
      "source": [
        "a = input().split(' ')\n",
        "n, k = a\n",
        "\n",
        "\n",
        "def sol(n, k):\n",
        "    i = 0\n",
        "    #q에 n만큼의 숫자를 넣어준다\n",
        "    q = [i for i in range(1,n+1)]\n",
        "\n",
        "    while len(q) > 2:\n",
        "        if i > len(q)-1:\n",
        "        #순환하다 i가 q의 길이보다 클 경우에 len(q)만큼 빼준다.\n",
        "        #[1,2,3,4,5,6] -> 1다음 4가 빠지고 그 다음은 4+3 = 7(index : 6)이 빠져야 하는데 \n",
        "        #i(현재 빠져야 할 index)가 len(q)보다 크므로 len(q)즉, 4를 빼준다. \n",
        "        #이걸 마지막 2개가 남을 때 까지 반복함\n",
        "            i -= len(q)\n",
        "        q.pop(i)\n",
        "        i += k\n",
        "        i -= 1\n",
        "    print(q)\n",
        "sol(int(n),int(k))"
      ],
      "execution_count": 9,
      "outputs": [
        {
          "output_type": "stream",
          "name": "stdout",
          "text": [
            "6 3\n",
            "[3, 5]\n"
          ]
        }
      ]
    },
    {
      "cell_type": "markdown",
      "metadata": {
        "id": "SP-HuTnowch_"
      },
      "source": [
        "##문제79 : 순회하는 리스트\n",
        "다음의 값이 주어졌을 때\n",
        "\n",
        "```\n",
        "l = [10, 20, 25, 27, 34, 35, 39]\n",
        "```\n",
        "\n",
        "n번 순회를 결정합니다. 예를 들어 2번 순회면\n",
        "\n",
        "```\n",
        "l = [35, 39, 10, 20, 25, 27, 34]\n",
        "```\n",
        "\n",
        "여기서 변하기 전 원소와 변한 후 원소의 값의 차가 가장 작은 값을 출력하는 프로그램을 작성하세요.\n",
        "\n",
        "예를 들어 2번 순회했을 때 변하기 전의 리스트와 변한 후의 리스트의 값은 아래와 같습니다.\n",
        "\n",
        "**순회전_리스트 = [10, 20, 25, 27, 34, 35, 39]\n",
        "순회후_리스트 = [35, 39, 10, 20, 25, 27, 34]\n",
        "리스트의_차 = [25, 19, 15, 7, 9, 8, 5]**\n",
        "\n",
        "39와 변한 후의 34 값의 차가 5이므로 리스트의 차 중 최솟값 입니다.\n",
        "따라서 39와 34의 인덱스인 6과 39와 34를 출력하는 프로그램을 만들어주세요.\n",
        "\n",
        "```python\n",
        "l = [10, 20, 25, 27, 34, 35, 39] #기존 입력 값\n",
        "n = int(input('순회 횟수는 :'))\n",
        "\n",
        "def rotate(inL, inN):\n",
        "    \n",
        "\t\t<빈칸을 채워주세요>\n",
        "\n",
        "rotate(l, n)\n",
        "```\n",
        "\n",
        "```python\n",
        "**입력**\n",
        "순회 횟수는 : 2\n",
        "\n",
        "**출력**\n",
        "index : 6\n",
        "value : 39, 34\n",
        "```"
      ]
    },
    {
      "cell_type": "code",
      "metadata": {
        "colab": {
          "base_uri": "https://localhost:8080/"
        },
        "id": "CK_UwaEzwgEN",
        "outputId": "86744e3c-9797-4dd0-b135-dc251554855e"
      },
      "source": [
        "l = [10, 20, 25, 27, 34, 35, 39] #기존 입력 값\n",
        "n = int(input('순회 횟수는 :'))\n",
        "\n",
        "def rotate(inL, inN):\n",
        "  def sol(a, t):\n",
        "    b = a.copy()\n",
        "    c = []\n",
        "    for i in range(t):\n",
        "        b.insert(0,b.pop())\n",
        "    for i,j in zip(a,b):\n",
        "        c.append(abs(i-j))\n",
        "    index = c.index(min(c))\n",
        "    print(\"index :\",index)\n",
        "    print(\"value :\",a[index],b[index])\n",
        "\n",
        "sol(l,n)\n",
        "rotate(l, n)"
      ],
      "execution_count": 13,
      "outputs": [
        {
          "output_type": "stream",
          "name": "stdout",
          "text": [
            "순회 횟수는 :2\n",
            "index : 6\n",
            "value : 39 34\n"
          ]
        }
      ]
    },
    {
      "cell_type": "markdown",
      "metadata": {
        "id": "7rvLr3n_whi3"
      },
      "source": [
        "##문제80 : 순열과 조합\n",
        "**조합**이란 원소들을 조합하여 만들 수 있는 경우의 수이며 원소의 순서는 신경쓰지 않습니다.\n",
        "**순열**이란 원소의 값이 같더라도 순서가 다르면 서로 다른 원소로 취급하는 선택법입니다.\n",
        "\n",
        "한글의 자모 24자 중 자음은 총 14개 입니다.\n",
        "이 중 입력받은 자음을 n개를 선택하여 나올 수 있는 모든 조합과, 조합의 수를 출력하고 싶습니다.\n",
        "\n",
        "‘한글 맞춤법’의 제2장 제4항에서는 한글의 기본 자모 24자 “ㄱ(기역), ㄴ(니은), ㄷ(디귿), ㄹ(리을), ㅁ(미음), ㅂ(비읍), ㅅ(시옷), ㅇ(이응), ㅈ(지읒), ㅊ(치읓), ㅋ(키읔), ㅌ(티읕), ㅍ(피읖), ㅎ(히읗), ㅏ(아), ㅑ(야), ㅓ(어), ㅕ(여), ㅗ(오), ㅛ(요), ㅜ(우), ㅠ(유), ㅡ(으), ㅣ(이)”를 제시\n",
        "\n",
        "나올 수 있는 모든 조합을 아래와 같이 출력해주세요.\n",
        "\n",
        "**<--요구조건-->**\n",
        "1. 첫 줄에 선택할 한글 자음이 주어집니다.\n",
        "2. 두번째 줄에 조합의 수가 주어집니다.\n",
        "3. 주어진 조합의 수에 따라 조합과 조합의 수를 출력해주세요.\n",
        "\n",
        "```python\n",
        "**입력**\n",
        "ㄱ,ㄴ,ㄷ,ㄹ\n",
        "3\n",
        "\n",
        "**출력**\n",
        "['ㄱㄴㄷ', 'ㄱㄴㄹ', 'ㄱㄷㄹ', 'ㄴㄷㄹ']\n",
        "4\n",
        "```"
      ]
    },
    {
      "cell_type": "code",
      "metadata": {
        "colab": {
          "base_uri": "https://localhost:8080/"
        },
        "id": "BbgxPdGYxN_J",
        "outputId": "90dbb305-5d38-4bae-a6a2-4f419de9294e"
      },
      "source": [
        "from itertools import permutations #이 문제에서는 안쓰지만 어떤 것인지 확인해보세요.\n",
        "from itertools import combinations\n",
        "\n",
        "import itertools\n",
        "\n",
        "user_input = input().split(',')\n",
        "user_input_int = int(input())\n",
        "\n",
        "#print(list(itertools.combinations(a, 3)))\n",
        "\n",
        "print(list(map(''.join, combinations(user_input, user_input_int))))\n",
        "print(len(list(map(''.join, combinations(user_input, user_input_int)))))"
      ],
      "execution_count": 15,
      "outputs": [
        {
          "output_type": "stream",
          "name": "stdout",
          "text": [
            "ㄱ,ㄴ,ㄷ,ㄹ\n",
            "3\n",
            "['ㄱㄴㄷ', 'ㄱㄴㄹ', 'ㄱㄷㄹ', 'ㄴㄷㄹ']\n",
            "4\n"
          ]
        }
      ]
    },
    {
      "cell_type": "code",
      "metadata": {
        "id": "HUQMp-vyxe0H"
      },
      "source": [
        ""
      ],
      "execution_count": null,
      "outputs": []
    }
  ]
}