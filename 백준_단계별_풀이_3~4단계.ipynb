{
  "nbformat": 4,
  "nbformat_minor": 0,
  "metadata": {
    "colab": {
      "name": "백준 단계별 풀이 3~4단계.ipynb",
      "provenance": [],
      "collapsed_sections": [],
      "authorship_tag": "ABX9TyOOxQvmZIPBwDni7o3+geQz",
      "include_colab_link": true
    },
    "kernelspec": {
      "name": "python3",
      "display_name": "Python 3"
    },
    "language_info": {
      "name": "python"
    }
  },
  "cells": [
    {
      "cell_type": "markdown",
      "metadata": {
        "id": "view-in-github",
        "colab_type": "text"
      },
      "source": [
        "<a href=\"https://colab.research.google.com/github/kimddong0887/python/blob/main/%EB%B0%B1%EC%A4%80_%EB%8B%A8%EA%B3%84%EB%B3%84_%ED%92%80%EC%9D%B4_3~4%EB%8B%A8%EA%B3%84.ipynb\" target=\"_parent\"><img src=\"https://colab.research.google.com/assets/colab-badge.svg\" alt=\"Open In Colab\"/></a>"
      ]
    },
    {
      "cell_type": "markdown",
      "metadata": {
        "id": "W7E4FLV5WnPl"
      },
      "source": [
        "#3단계 반복문\n",
        "##1. 구구단\n",
        "#### N을 입력받은 뒤, 구구단 N단을 출력하는 프로그램을 작성하시오. 출력 형식에 맞춰서 출력하면 된다."
      ]
    },
    {
      "cell_type": "code",
      "metadata": {
        "colab": {
          "base_uri": "https://localhost:8080/"
        },
        "id": "jGVohr-bWyLv",
        "outputId": "562d0662-04fb-49ae-8153-fa0a00ac4e6a"
      },
      "source": [
        "N = int(input())\n",
        "for i in range(1,10):\n",
        "  print(f\"{N} * {i} = {N * i}\")"
      ],
      "execution_count": null,
      "outputs": [
        {
          "output_type": "stream",
          "name": "stdout",
          "text": [
            "2\n",
            "2 * 1 = 2\n",
            "2 * 2 = 4\n",
            "2 * 3 = 6\n",
            "2 * 4 = 8\n",
            "2 * 5 = 10\n",
            "2 * 6 = 12\n",
            "2 * 7 = 14\n",
            "2 * 8 = 16\n",
            "2 * 9 = 18\n"
          ]
        }
      ]
    },
    {
      "cell_type": "markdown",
      "metadata": {
        "id": "6_QKnygjXKla"
      },
      "source": [
        "##2. A+B - 3\n",
        "####두 정수 A와 B를 입력받은 다음, A+B를 출력하는 프로그램을 작성하시오."
      ]
    },
    {
      "cell_type": "code",
      "metadata": {
        "colab": {
          "base_uri": "https://localhost:8080/"
        },
        "id": "26-pFtcfXdqB",
        "outputId": "860e0229-853d-4b83-be91-5d9d30c0feaf"
      },
      "source": [
        "T = int(input())\n",
        "for i in range(1,T+1):\n",
        "  A, B = map(int,input().split())\n",
        "  print(f\"{A + B}\")"
      ],
      "execution_count": null,
      "outputs": [
        {
          "output_type": "stream",
          "name": "stdout",
          "text": [
            "5\n",
            "1 1\n",
            "2\n",
            "2 3\n",
            "5\n",
            "4 5\n",
            "9\n",
            "7 6\n",
            "13\n",
            "1 5\n",
            "6\n"
          ]
        }
      ]
    },
    {
      "cell_type": "markdown",
      "metadata": {
        "id": "IRoDf8jBKn9f"
      },
      "source": [
        "##3. 합\n",
        "####n이 주어졌을 때, 1부터 n까지 합을 구하는 프로그램을 작성하시오."
      ]
    },
    {
      "cell_type": "code",
      "metadata": {
        "colab": {
          "base_uri": "https://localhost:8080/"
        },
        "id": "iaHyDayZLpU-",
        "outputId": "0194a3aa-7897-409a-ddc8-58e3e22f6767"
      },
      "source": [
        "n = int(input())\n",
        "x = 0\n",
        "for i in range(1,n + 1):\n",
        "  x += i\n",
        "print(x)\n"
      ],
      "execution_count": null,
      "outputs": [
        {
          "output_type": "stream",
          "name": "stdout",
          "text": [
            "n값 입력:3\n",
            "6\n"
          ]
        }
      ]
    },
    {
      "cell_type": "markdown",
      "metadata": {
        "id": "5PPN0DG7Uitr"
      },
      "source": [
        "##4. 빠른 A+B\n",
        "####본격적으로 for문 문제를 풀기 전에 주의해야 할 점이 있다. 입출력 방식이 느리면 여러 줄을 입력받거나 출력할 때 시간초과가 날 수 있다는 점이다.\n",
        "\n",
        "####C++을 사용하고 있고 cin/cout을 사용하고자 한다면, cin.tie(NULL)과 sync_with_stdio(false)를 둘 다 적용해 주고, endl 대신 개행문자(\\n)를 쓰자. 단, 이렇게 하면 더 이상 scanf/printf/puts/getchar/putchar 등 C의 입출력 방식을 사용하면 안 된다.\n",
        "\n",
        "####Java를 사용하고 있다면, Scanner와 System.out.println 대신 BufferedReader와 BufferedWriter를 사용할 수 있다. BufferedWriter.flush는 맨 마지막에 한 번만 하면 된다.\n",
        "\n",
        "####Python을 사용하고 있다면, input 대신 sys.stdin.readline을 사용할 수 있다. 단, 이때는 맨 끝의 개행문자까지 같이 입력받기 때문에 문자열을 저장하고 싶을 경우 .rstrip()을 추가로 해 주는 것이 좋다.\n",
        "\n",
        "####또한 입력과 출력 스트림은 별개이므로, 테스트케이스를 전부 입력받아서 저장한 뒤 전부 출력할 필요는 없다. 테스트케이스를 하나 받은 뒤 하나 출력해도 된다.\n",
        "\n",
        "####자세한 설명 및 다른 언어의 경우는 이 글에 설명되어 있다.\n",
        "\n",
        "####이 블로그 글에서 BOJ의 기타 여러 가지 팁을 볼 수 있다."
      ]
    },
    {
      "cell_type": "code",
      "metadata": {
        "id": "AI4M--aq6Av3"
      },
      "source": [
        "import sys\n",
        "T = int(input())\n",
        "for i in range(1,T+1):\n",
        "  A, B = map(int,sys.stdin.readline().split())\n",
        "  print(f\"{A + B}\")"
      ],
      "execution_count": null,
      "outputs": []
    },
    {
      "cell_type": "markdown",
      "metadata": {
        "id": "GU5YIiNy6UpZ"
      },
      "source": [
        "##5. N 찍기\n",
        "####자연수 N이 주어졌을 때, 1부터 N까지 한 줄에 하나씩 출력하는 프로그램을 작성하시오."
      ]
    },
    {
      "cell_type": "code",
      "metadata": {
        "colab": {
          "base_uri": "https://localhost:8080/"
        },
        "id": "A9Vqc_M76Yt3",
        "outputId": "4b97d347-d998-4a47-bdfd-1feeb8ac4d24"
      },
      "source": [
        "N = int(input())\n",
        "for i in range (1,N + 1):\n",
        "  print(i)"
      ],
      "execution_count": null,
      "outputs": [
        {
          "output_type": "stream",
          "name": "stdout",
          "text": [
            "자연수 입력:5\n",
            "1\n",
            "2\n",
            "3\n",
            "4\n",
            "5\n"
          ]
        }
      ]
    },
    {
      "cell_type": "markdown",
      "metadata": {
        "id": "J6eiwlML6ipu"
      },
      "source": [
        "##6. 기찍 N\n",
        "####자연수 N이 주어졌을 때, N부터 1까지 한 줄에 하나씩 출력하는 프로그램을 작성하시오."
      ]
    },
    {
      "cell_type": "code",
      "metadata": {
        "colab": {
          "base_uri": "https://localhost:8080/"
        },
        "id": "hlrlpTkq6oDY",
        "outputId": "0395fa6f-ebef-420c-889b-e992cbcb6160"
      },
      "source": [
        "N = int(input())\n",
        "for i in range(N):\n",
        "  print(N - i)"
      ],
      "execution_count": null,
      "outputs": [
        {
          "output_type": "stream",
          "name": "stdout",
          "text": [
            "자연수 입력:5\n",
            "5\n",
            "4\n",
            "3\n",
            "2\n",
            "1\n"
          ]
        }
      ]
    },
    {
      "cell_type": "markdown",
      "metadata": {
        "id": "5Rb6-jxL649d"
      },
      "source": [
        "##7. A+B - 7\n",
        "####두 정수 A와 B를 입력받은 다음, A+B를 출력하는 프로그램을 작성하시오."
      ]
    },
    {
      "cell_type": "code",
      "metadata": {
        "colab": {
          "base_uri": "https://localhost:8080/"
        },
        "id": "jHP5S51g7HGn",
        "outputId": "77918c10-6add-4fa8-a3e1-0b317b0b7ed5"
      },
      "source": [
        "T = int(input())\n",
        "x = 1\n",
        "for i in range(1,T+1):\n",
        "  A, B = map(int,input().split())\n",
        "  print(f\"Case #{x}: {A + B}\")\n",
        "  x += 1"
      ],
      "execution_count": null,
      "outputs": [
        {
          "output_type": "stream",
          "name": "stdout",
          "text": [
            "몇번 출력 입력:5\n",
            "변수 입력:1 1\n",
            "Case #1: 2\n",
            "변수 입력:2 3\n",
            "Case #2: 5\n",
            "변수 입력:3 4\n",
            "Case #3: 7\n",
            "변수 입력:9 8\n",
            "Case #4: 17\n",
            "변수 입력:5 2\n",
            "Case #5: 7\n"
          ]
        }
      ]
    },
    {
      "cell_type": "markdown",
      "metadata": {
        "id": "JrRCUu4v7YW_"
      },
      "source": [
        "##8. A+B - 8\n",
        "####두 정수 A와 B를 입력받은 다음, A+B를 출력하는 프로그램을 작성하시오."
      ]
    },
    {
      "cell_type": "code",
      "metadata": {
        "colab": {
          "base_uri": "https://localhost:8080/"
        },
        "id": "qYINaO0D8Bq7",
        "outputId": "e7823d1c-3b68-4444-d71a-4afaf2a081bc"
      },
      "source": [
        "T = int(input())\n",
        "x = 1\n",
        "for i in range(1,T+1):\n",
        "  A, B = map(int,input().split())\n",
        "  print(f\"Case #{x}: {A} + {B} = {A + B}\")\n",
        "  x += 1"
      ],
      "execution_count": null,
      "outputs": [
        {
          "output_type": "stream",
          "name": "stdout",
          "text": [
            "몇번 출력 입력:5\n",
            "변수 입력:1 1\n",
            "Case #1: 1 + 1 = 2\n",
            "변수 입력:2 3\n",
            "변수 입력:3 4\n",
            "Case #2: 2 + 3 = 5\n",
            "Case #3: 3 + 4 = 7\n",
            "변수 입력:9 8\n",
            "Case #4: 9 + 8 = 17\n",
            "변수 입력:5 2\n",
            "Case #5: 5 + 2 = 7\n"
          ]
        }
      ]
    },
    {
      "cell_type": "markdown",
      "metadata": {
        "id": "jGE6W5S28YW1"
      },
      "source": [
        "##9. 별 찍기 - 1\n",
        "####첫째 줄에는 별 1개, 둘째 줄에는 별 2개, N번째 줄에는 별 N개를 찍는 문제"
      ]
    },
    {
      "cell_type": "code",
      "metadata": {
        "colab": {
          "base_uri": "https://localhost:8080/"
        },
        "id": "3MX_WE9W853U",
        "outputId": "efb6fd71-4724-4091-ba88-e84f30c6502d"
      },
      "source": [
        "star = int(input())\n",
        "A = \"*\"\n",
        "for i in range(1, star + 1):\n",
        "  print(f\"{A * i}\")"
      ],
      "execution_count": null,
      "outputs": [
        {
          "output_type": "stream",
          "name": "stdout",
          "text": [
            "별 몇개:5\n",
            "*\n",
            "**\n",
            "***\n",
            "****\n",
            "*****\n"
          ]
        }
      ]
    },
    {
      "cell_type": "markdown",
      "metadata": {
        "id": "sDsUTYFi9Iak"
      },
      "source": [
        "##10. 별 찍기 - 2\n",
        "####첫째 줄에는 별 1개, 둘째 줄에는 별 2개, N번째 줄에는 별 N개를 찍는 문제\n",
        "\n",
        "####하지만, 오른쪽을 기준으로 정렬한 별(예제 참고)을 출력하시오."
      ]
    },
    {
      "cell_type": "code",
      "metadata": {
        "colab": {
          "base_uri": "https://localhost:8080/"
        },
        "id": "CE0deIF_9rZJ",
        "outputId": "e3dc1f8f-eec0-42a2-e6d9-3e4cb3b7e04e"
      },
      "source": [
        "star = int(input())\n",
        "A = \"*\"\n",
        "B = \" \"\n",
        "for i in range(1,star + 1):\n",
        "  print(f\"{B * (star - i)}{A * i}\")"
      ],
      "execution_count": null,
      "outputs": [
        {
          "output_type": "stream",
          "name": "stdout",
          "text": [
            "7\n",
            "      *\n",
            "     **\n",
            "    ***\n",
            "   ****\n",
            "  *****\n",
            " ******\n",
            "*******\n"
          ]
        }
      ]
    },
    {
      "cell_type": "markdown",
      "metadata": {
        "id": "6d-9cqao-mX6"
      },
      "source": [
        "##11. X보다 작은 수\n",
        "####정수 N개로 이루어진 수열 A와 정수 X가 주어진다. 이때, A에서 X보다 작은 수를 모두 출력하는 프로그램을 작성하시오."
      ]
    },
    {
      "cell_type": "code",
      "metadata": {
        "colab": {
          "base_uri": "https://localhost:8080/"
        },
        "id": "CiacOeop-wJX",
        "outputId": "8e8f2e97-30a7-48a6-eebf-f5d7591fabd3"
      },
      "source": [
        "LIST_1 = []\n",
        "N, X = map(int,input().split())\n",
        "A = list(map(int,input().split()))\n",
        "for B in range(N):\n",
        "  if A[B] < X:\n",
        "    LIST_1.append(str(A[B]))\n",
        "print(\" \".join(LIST_1))"
      ],
      "execution_count": null,
      "outputs": [
        {
          "output_type": "stream",
          "name": "stdout",
          "text": [
            "10 5\n",
            "1 10 4 9 2 3 8 5 7 6\n",
            "1 4 2 3 5\n"
          ]
        }
      ]
    },
    {
      "cell_type": "markdown",
      "metadata": {
        "id": "oVcCrCc7_T4R"
      },
      "source": [
        "##12. A+B - 5\n",
        "#### 두 정수 A와 B를 입력받은 다음, A+B를 출력하는 프로그램을 작성하시오."
      ]
    },
    {
      "cell_type": "code",
      "metadata": {
        "colab": {
          "base_uri": "https://localhost:8080/"
        },
        "id": "VIY50XY6rCcr",
        "outputId": "9d7069c9-ad58-4ea1-bae1-87b9dff536ab"
      },
      "source": [
        "x = 0\n",
        "while x <= 0:\n",
        "  A, B = map(int,input().split())\n",
        "  if 0 < A < 10 and 0 < B < 10: \n",
        "    print(f\"{A + B}\")\n",
        "  elif A == 0 and B == 0:\n",
        "    x += 1"
      ],
      "execution_count": null,
      "outputs": [
        {
          "name": "stdout",
          "output_type": "stream",
          "text": [
            "숫자 입력:5 4\n",
            "9\n",
            "숫자 입력:0 0\n"
          ]
        }
      ]
    },
    {
      "cell_type": "markdown",
      "metadata": {
        "id": "rZsPYBDJsIIM"
      },
      "source": [
        "##13. A+B - 4\n",
        "####두 정수 A와 B를 입력받은 다음, A+B를 출력하는 프로그램을 작성하시오."
      ]
    },
    {
      "cell_type": "code",
      "metadata": {
        "id": "_yxbA4l5tVG9"
      },
      "source": [
        "import sys\n",
        "\n",
        "lines = sys.stdin.readlines()\n",
        "for line in lines:\n",
        "    A, B = map(int, line.split())\n",
        "    print(A+B)"
      ],
      "execution_count": null,
      "outputs": []
    },
    {
      "cell_type": "code",
      "metadata": {
        "id": "i8J3TVVtMaii",
        "colab": {
          "base_uri": "https://localhost:8080/"
        },
        "outputId": "f82f6d70-38b3-4dd3-85e2-67dc2165fed8"
      },
      "source": [
        "while True:\n",
        "    try:\n",
        "        A, B = map(int, input().split())\n",
        "        print(A+B)\n",
        "    except:\n",
        "        break"
      ],
      "execution_count": null,
      "outputs": [
        {
          "name": "stdout",
          "output_type": "stream",
          "text": [
            "1 9\n",
            "10\n",
            "\n"
          ]
        }
      ]
    },
    {
      "cell_type": "markdown",
      "metadata": {
        "id": "2D-UjZL3uZb8"
      },
      "source": [
        "##14. 더하기 사이클\n",
        "####0보다 크거나 같고, 99보다 작거나 같은 정수가 주어질 때 다음과 같은 연산을 할 수 있다. 먼저 주어진 수가 10보다 작다면 앞에 0을 붙여 두 자리 수로 만들고, 각 자리의 숫자를 더한다. 그 다음, 주어진 수의 가장 오른쪽 자리 수와 앞에서 구한 합의 가장 오른쪽 자리 수를 이어 붙이면 새로운 수를 만들 수 있다. 다음 예를 보자.\n",
        "\n",
        "####26부터 시작한다. 2+6 = 8이다. 새로운 수는 68이다. 6+8 = 14이다. 새로운 수는 84이다. 8+4 = 12이다. 새로운 수는 42이다. 4+2 = 6이다. 새로운 수는 26이다.\n",
        "\n",
        "####위의 예는 4번만에 원래 수로 돌아올 수 있다. 따라서 26의 사이클의 길이는 4이다.\n",
        "\n",
        "####N이 주어졌을 때, N의 사이클의 길이를 구하는 프로그램을 작성하시오."
      ]
    },
    {
      "cell_type": "code",
      "metadata": {
        "colab": {
          "base_uri": "https://localhost:8080/"
        },
        "id": "oF9JRN8Ku56C",
        "outputId": "cc218c6c-746b-4814-b88a-145e61732cca"
      },
      "source": [
        "N = int(input())\n",
        "Y = N\n",
        "count = 0\n",
        "count_1 = 0\n",
        "\n",
        "while count_1 < 1:\n",
        "  if Y < 10:\n",
        "    X = str(Y)\n",
        "    Y = int(X + X)\n",
        "    count += 1\n",
        "    if Y == N:\n",
        "      count_1 += 1\n",
        "  else:\n",
        "    X = str(Y)\n",
        "    Y = int(X[0]) + int(X[1])\n",
        "    if Y < 10:\n",
        "      Y = X[1] + str(Y)\n",
        "      Y = int(Y)\n",
        "      count += 1\n",
        "      if N == int(Y):\n",
        "        count_1 += 1\n",
        "    else:\n",
        "      Y = X[1] + str(Y)[1]\n",
        "      Y = int(Y)\n",
        "      if N == int(Y):\n",
        "        count += 1\n",
        "        count_1 += 1\n",
        "      else:\n",
        "        count += 1\n",
        "    \n",
        "print(count)"
      ],
      "execution_count": null,
      "outputs": [
        {
          "output_type": "stream",
          "name": "stdout",
          "text": [
            "71\n",
            "12\n"
          ]
        }
      ]
    },
    {
      "cell_type": "markdown",
      "metadata": {
        "id": "Czyt8DIYwuq5"
      },
      "source": [
        "#4단계 1차원 배열\t\n",
        "##1. 최소, 최대\n",
        "#### N개의 정수가 주어진다. 이때, 최솟값과 최댓값을 구하는 프로그램을 작성하시오."
      ]
    },
    {
      "cell_type": "code",
      "metadata": {
        "colab": {
          "base_uri": "https://localhost:8080/",
          "height": 542
        },
        "id": "kFEeQ1NWzI-d",
        "outputId": "269a617a-584e-43af-b229-12a0aa2cc08e"
      },
      "source": [
        "N = int(input())\n",
        "LIST = list(map(int,input().split()))\n",
        "ANSWER = []\n",
        "LIST.sort()\n",
        "ANSWER.append(str(LIST[0])) \n",
        "ANSWER.append(str(LIST[N - 1]))\n",
        "print(\" \".join(ANSWER))"
      ],
      "execution_count": null,
      "outputs": [
        {
          "output_type": "error",
          "ename": "KeyboardInterrupt",
          "evalue": "ignored",
          "traceback": [
            "\u001b[0;31m---------------------------------------------------------------------------\u001b[0m",
            "\u001b[0;31mKeyboardInterrupt\u001b[0m                         Traceback (most recent call last)",
            "\u001b[0;32m/usr/local/lib/python3.7/dist-packages/ipykernel/kernelbase.py\u001b[0m in \u001b[0;36m_input_request\u001b[0;34m(self, prompt, ident, parent, password)\u001b[0m\n\u001b[1;32m    728\u001b[0m             \u001b[0;32mtry\u001b[0m\u001b[0;34m:\u001b[0m\u001b[0;34m\u001b[0m\u001b[0;34m\u001b[0m\u001b[0m\n\u001b[0;32m--> 729\u001b[0;31m                 \u001b[0mident\u001b[0m\u001b[0;34m,\u001b[0m \u001b[0mreply\u001b[0m \u001b[0;34m=\u001b[0m \u001b[0mself\u001b[0m\u001b[0;34m.\u001b[0m\u001b[0msession\u001b[0m\u001b[0;34m.\u001b[0m\u001b[0mrecv\u001b[0m\u001b[0;34m(\u001b[0m\u001b[0mself\u001b[0m\u001b[0;34m.\u001b[0m\u001b[0mstdin_socket\u001b[0m\u001b[0;34m,\u001b[0m \u001b[0;36m0\u001b[0m\u001b[0;34m)\u001b[0m\u001b[0;34m\u001b[0m\u001b[0;34m\u001b[0m\u001b[0m\n\u001b[0m\u001b[1;32m    730\u001b[0m             \u001b[0;32mexcept\u001b[0m \u001b[0mException\u001b[0m\u001b[0;34m:\u001b[0m\u001b[0;34m\u001b[0m\u001b[0;34m\u001b[0m\u001b[0m\n",
            "\u001b[0;32m/usr/local/lib/python3.7/dist-packages/jupyter_client/session.py\u001b[0m in \u001b[0;36mrecv\u001b[0;34m(self, socket, mode, content, copy)\u001b[0m\n\u001b[1;32m    802\u001b[0m         \u001b[0;32mtry\u001b[0m\u001b[0;34m:\u001b[0m\u001b[0;34m\u001b[0m\u001b[0;34m\u001b[0m\u001b[0m\n\u001b[0;32m--> 803\u001b[0;31m             \u001b[0mmsg_list\u001b[0m \u001b[0;34m=\u001b[0m \u001b[0msocket\u001b[0m\u001b[0;34m.\u001b[0m\u001b[0mrecv_multipart\u001b[0m\u001b[0;34m(\u001b[0m\u001b[0mmode\u001b[0m\u001b[0;34m,\u001b[0m \u001b[0mcopy\u001b[0m\u001b[0;34m=\u001b[0m\u001b[0mcopy\u001b[0m\u001b[0;34m)\u001b[0m\u001b[0;34m\u001b[0m\u001b[0;34m\u001b[0m\u001b[0m\n\u001b[0m\u001b[1;32m    804\u001b[0m         \u001b[0;32mexcept\u001b[0m \u001b[0mzmq\u001b[0m\u001b[0;34m.\u001b[0m\u001b[0mZMQError\u001b[0m \u001b[0;32mas\u001b[0m \u001b[0me\u001b[0m\u001b[0;34m:\u001b[0m\u001b[0;34m\u001b[0m\u001b[0;34m\u001b[0m\u001b[0m\n",
            "\u001b[0;32m/usr/local/lib/python3.7/dist-packages/zmq/sugar/socket.py\u001b[0m in \u001b[0;36mrecv_multipart\u001b[0;34m(self, flags, copy, track)\u001b[0m\n\u001b[1;32m    624\u001b[0m         \"\"\"\n\u001b[0;32m--> 625\u001b[0;31m         \u001b[0mparts\u001b[0m \u001b[0;34m=\u001b[0m \u001b[0;34m[\u001b[0m\u001b[0mself\u001b[0m\u001b[0;34m.\u001b[0m\u001b[0mrecv\u001b[0m\u001b[0;34m(\u001b[0m\u001b[0mflags\u001b[0m\u001b[0;34m,\u001b[0m \u001b[0mcopy\u001b[0m\u001b[0;34m=\u001b[0m\u001b[0mcopy\u001b[0m\u001b[0;34m,\u001b[0m \u001b[0mtrack\u001b[0m\u001b[0;34m=\u001b[0m\u001b[0mtrack\u001b[0m\u001b[0;34m)\u001b[0m\u001b[0;34m]\u001b[0m\u001b[0;34m\u001b[0m\u001b[0;34m\u001b[0m\u001b[0m\n\u001b[0m\u001b[1;32m    626\u001b[0m         \u001b[0;31m# have first part already, only loop while more to receive\u001b[0m\u001b[0;34m\u001b[0m\u001b[0;34m\u001b[0m\u001b[0;34m\u001b[0m\u001b[0m\n",
            "\u001b[0;32mzmq/backend/cython/socket.pyx\u001b[0m in \u001b[0;36mzmq.backend.cython.socket.Socket.recv\u001b[0;34m()\u001b[0m\n",
            "\u001b[0;32mzmq/backend/cython/socket.pyx\u001b[0m in \u001b[0;36mzmq.backend.cython.socket.Socket.recv\u001b[0;34m()\u001b[0m\n",
            "\u001b[0;32mzmq/backend/cython/socket.pyx\u001b[0m in \u001b[0;36mzmq.backend.cython.socket._recv_copy\u001b[0;34m()\u001b[0m\n",
            "\u001b[0;32m/usr/local/lib/python3.7/dist-packages/zmq/backend/cython/checkrc.pxd\u001b[0m in \u001b[0;36mzmq.backend.cython.checkrc._check_rc\u001b[0;34m()\u001b[0m\n",
            "\u001b[0;31mKeyboardInterrupt\u001b[0m: ",
            "\nDuring handling of the above exception, another exception occurred:\n",
            "\u001b[0;31mKeyboardInterrupt\u001b[0m                         Traceback (most recent call last)",
            "\u001b[0;32m<ipython-input-47-e56663bc151a>\u001b[0m in \u001b[0;36m<module>\u001b[0;34m()\u001b[0m\n\u001b[0;32m----> 1\u001b[0;31m \u001b[0mN\u001b[0m \u001b[0;34m=\u001b[0m \u001b[0mint\u001b[0m\u001b[0;34m(\u001b[0m\u001b[0minput\u001b[0m\u001b[0;34m(\u001b[0m\u001b[0;34m)\u001b[0m\u001b[0;34m)\u001b[0m\u001b[0;34m\u001b[0m\u001b[0;34m\u001b[0m\u001b[0m\n\u001b[0m\u001b[1;32m      2\u001b[0m \u001b[0mLIST\u001b[0m \u001b[0;34m=\u001b[0m \u001b[0mlist\u001b[0m\u001b[0;34m(\u001b[0m\u001b[0mmap\u001b[0m\u001b[0;34m(\u001b[0m\u001b[0mint\u001b[0m\u001b[0;34m,\u001b[0m\u001b[0minput\u001b[0m\u001b[0;34m(\u001b[0m\u001b[0;34m)\u001b[0m\u001b[0;34m.\u001b[0m\u001b[0msplit\u001b[0m\u001b[0;34m(\u001b[0m\u001b[0;34m)\u001b[0m\u001b[0;34m)\u001b[0m\u001b[0;34m)\u001b[0m\u001b[0;34m\u001b[0m\u001b[0;34m\u001b[0m\u001b[0m\n\u001b[1;32m      3\u001b[0m \u001b[0mANSWER\u001b[0m \u001b[0;34m=\u001b[0m \u001b[0;34m[\u001b[0m\u001b[0;34m]\u001b[0m\u001b[0;34m\u001b[0m\u001b[0;34m\u001b[0m\u001b[0m\n\u001b[1;32m      4\u001b[0m \u001b[0mLIST\u001b[0m\u001b[0;34m.\u001b[0m\u001b[0msort\u001b[0m\u001b[0;34m(\u001b[0m\u001b[0;34m)\u001b[0m\u001b[0;34m\u001b[0m\u001b[0;34m\u001b[0m\u001b[0m\n\u001b[1;32m      5\u001b[0m \u001b[0mANSWER\u001b[0m\u001b[0;34m.\u001b[0m\u001b[0mappend\u001b[0m\u001b[0;34m(\u001b[0m\u001b[0mstr\u001b[0m\u001b[0;34m(\u001b[0m\u001b[0mLIST\u001b[0m\u001b[0;34m[\u001b[0m\u001b[0;36m0\u001b[0m\u001b[0;34m]\u001b[0m\u001b[0;34m)\u001b[0m\u001b[0;34m)\u001b[0m\u001b[0;34m\u001b[0m\u001b[0;34m\u001b[0m\u001b[0m\n",
            "\u001b[0;32m/usr/local/lib/python3.7/dist-packages/ipykernel/kernelbase.py\u001b[0m in \u001b[0;36mraw_input\u001b[0;34m(self, prompt)\u001b[0m\n\u001b[1;32m    702\u001b[0m             \u001b[0mself\u001b[0m\u001b[0;34m.\u001b[0m\u001b[0m_parent_ident\u001b[0m\u001b[0;34m,\u001b[0m\u001b[0;34m\u001b[0m\u001b[0;34m\u001b[0m\u001b[0m\n\u001b[1;32m    703\u001b[0m             \u001b[0mself\u001b[0m\u001b[0;34m.\u001b[0m\u001b[0m_parent_header\u001b[0m\u001b[0;34m,\u001b[0m\u001b[0;34m\u001b[0m\u001b[0;34m\u001b[0m\u001b[0m\n\u001b[0;32m--> 704\u001b[0;31m             \u001b[0mpassword\u001b[0m\u001b[0;34m=\u001b[0m\u001b[0;32mFalse\u001b[0m\u001b[0;34m,\u001b[0m\u001b[0;34m\u001b[0m\u001b[0;34m\u001b[0m\u001b[0m\n\u001b[0m\u001b[1;32m    705\u001b[0m         )\n\u001b[1;32m    706\u001b[0m \u001b[0;34m\u001b[0m\u001b[0m\n",
            "\u001b[0;32m/usr/local/lib/python3.7/dist-packages/ipykernel/kernelbase.py\u001b[0m in \u001b[0;36m_input_request\u001b[0;34m(self, prompt, ident, parent, password)\u001b[0m\n\u001b[1;32m    732\u001b[0m             \u001b[0;32mexcept\u001b[0m \u001b[0mKeyboardInterrupt\u001b[0m\u001b[0;34m:\u001b[0m\u001b[0;34m\u001b[0m\u001b[0;34m\u001b[0m\u001b[0m\n\u001b[1;32m    733\u001b[0m                 \u001b[0;31m# re-raise KeyboardInterrupt, to truncate traceback\u001b[0m\u001b[0;34m\u001b[0m\u001b[0;34m\u001b[0m\u001b[0;34m\u001b[0m\u001b[0m\n\u001b[0;32m--> 734\u001b[0;31m                 \u001b[0;32mraise\u001b[0m \u001b[0mKeyboardInterrupt\u001b[0m\u001b[0;34m\u001b[0m\u001b[0;34m\u001b[0m\u001b[0m\n\u001b[0m\u001b[1;32m    735\u001b[0m             \u001b[0;32melse\u001b[0m\u001b[0;34m:\u001b[0m\u001b[0;34m\u001b[0m\u001b[0;34m\u001b[0m\u001b[0m\n\u001b[1;32m    736\u001b[0m                 \u001b[0;32mbreak\u001b[0m\u001b[0;34m\u001b[0m\u001b[0;34m\u001b[0m\u001b[0m\n",
            "\u001b[0;31mKeyboardInterrupt\u001b[0m: "
          ]
        }
      ]
    },
    {
      "cell_type": "code",
      "metadata": {
        "colab": {
          "base_uri": "https://localhost:8080/"
        },
        "id": "TLRywCm_Ov4D",
        "outputId": "a1d90352-4308-4d0b-ad9f-b1ec86a6306b"
      },
      "source": [
        "input()\n",
        "a = [int(s) for s in input().split()]\n",
        "print(min(a), max(a))"
      ],
      "execution_count": null,
      "outputs": [
        {
          "output_type": "stream",
          "name": "stdout",
          "text": [
            "5\n",
            "20 10 35 30 7\n",
            "7 35\n"
          ]
        }
      ]
    },
    {
      "cell_type": "markdown",
      "metadata": {
        "id": "cQz637To4tWg"
      },
      "source": [
        "##2.최댓값\n",
        "####9개의 서로 다른 자연수가 주어질 때, 이들 중 최댓값을 찾고 그 최댓값이 몇 번째 수인지를 구하는 프로그램을 작성하시오.\n",
        "\n",
        "####예를 들어, 서로 다른 9개의 자연수\n",
        "\n",
        "####3, 29, 38, 12, 57, 74, 40, 85, 61\n",
        "\n",
        "####이 주어지면, 이들 중 최댓값은 85이고, 이 값은 8번째 수이다.\n"
      ]
    },
    {
      "cell_type": "code",
      "metadata": {
        "colab": {
          "base_uri": "https://localhost:8080/"
        },
        "id": "XgnqFiicOdwg",
        "outputId": "261a1765-89d1-44df-d1e2-be8438d6a670"
      },
      "source": [
        "LIST = []\n",
        "for i in range(9):\n",
        "  N = int(input())\n",
        "  LIST.append(N)\n",
        "A = max(LIST)\n",
        "print(A)\n",
        "print(LIST.index(A) + 1)\n"
      ],
      "execution_count": null,
      "outputs": [
        {
          "output_type": "stream",
          "name": "stdout",
          "text": [
            "3\n",
            "29\n",
            "38\n",
            "12\n",
            "57\n",
            "74\n",
            "40\n",
            "85\n",
            "61\n",
            "85\n",
            "7\n"
          ]
        }
      ]
    },
    {
      "cell_type": "markdown",
      "metadata": {
        "id": "AfT2nyFsUSxQ"
      },
      "source": [
        "##3. 숫자의 개수\n",
        "####세 개의 자연수 A, B, C가 주어질 때 A × B × C를 계산한 결과에 0부터 9까지 각각의 숫자가 몇 번씩 쓰였는지를 구하는 프로그램을 작성하시오.\n",
        "\n",
        "####예를 들어 A = 150, B = 266, C = 427 이라면 A × B × C = 150 × 266 × 427 = 17037300 이 되고, 계산한 결과 17037300 에는 0이 3번, 1이 1번, 3이 2번, 7이 2번 쓰였다."
      ]
    },
    {
      "cell_type": "code",
      "metadata": {
        "colab": {
          "base_uri": "https://localhost:8080/"
        },
        "id": "37GWP5awXazI",
        "outputId": "d3d831c2-114f-4e96-e7db-922da741052d"
      },
      "source": [
        "A = int(input())\n",
        "B = int(input())\n",
        "C = int(input())\n",
        "D = A * B * C\n",
        "D = str(D)\n",
        "for i in range(10):\n",
        "  print(D.count(str(i)))"
      ],
      "execution_count": null,
      "outputs": [
        {
          "output_type": "stream",
          "name": "stdout",
          "text": [
            "150\n",
            "266\n",
            "427\n",
            "3\n",
            "1\n",
            "0\n",
            "2\n",
            "0\n",
            "0\n",
            "0\n",
            "2\n",
            "0\n"
          ]
        }
      ]
    },
    {
      "cell_type": "markdown",
      "metadata": {
        "id": "E-z6PFhDgL32"
      },
      "source": [
        "##4. \t나머지\n",
        "####두 자연수 A와 B가 있을 때, A%B는 A를 B로 나눈 나머지 이다. 예를 들어, 7, 14, 27, 38을 3으로 나눈 나머지는 1, 2, 0, 2이다. \n",
        "\n",
        "####수 10개를 입력받은 뒤, 이를 42로 나눈 나머지를 구한다. 그 다음 서로 다른 값이 몇 개 있는지 출력하는 프로그램을 작성하시오.\n"
      ]
    },
    {
      "cell_type": "code",
      "metadata": {
        "colab": {
          "base_uri": "https://localhost:8080/"
        },
        "id": "SWi2MgJYg2c3",
        "outputId": "75fb0b24-52f7-4cee-a474-29c8cac93f15"
      },
      "source": [
        "LIST = []\n",
        "for i in range(10):\n",
        "  A = int(input())\n",
        "  B = A % 42\n",
        "  if B in LIST:\n",
        "    continue\n",
        "  else:\n",
        "    LIST.append(B)\n",
        "print(len(LIST))"
      ],
      "execution_count": null,
      "outputs": [
        {
          "output_type": "stream",
          "name": "stdout",
          "text": [
            "1\n",
            "2\n",
            "3\n",
            "4\n",
            "5\n",
            "6\n",
            "7\n",
            "8\n",
            "9\n",
            "10\n",
            "10\n"
          ]
        }
      ]
    },
    {
      "cell_type": "markdown",
      "metadata": {
        "id": "EMt7Fr4ihgwm"
      },
      "source": [
        "##5. \t평균\n",
        "####세준이는 기말고사를 망쳤다. 세준이는 점수를 조작해서 집에 가져가기로 했다. 일단 세준이는 자기 점수 중에 최댓값을 골랐다. 이 값을 M이라고 한다. 그리고 나서 모든 점수를 점수/M*100으로 고쳤다.\n",
        "\n",
        "####예를 들어, 세준이의 최고점이 70이고, 수학점수가 50이었으면 수학점수는 50/70*100이 되어 71.43점이 된다.\n",
        "\n",
        "####세준이의 성적을 위의 방법대로 새로 계산했을 때, 새로운 평균을 구하는 프로그램을 작성하시오."
      ]
    },
    {
      "cell_type": "code",
      "metadata": {
        "colab": {
          "base_uri": "https://localhost:8080/"
        },
        "id": "UeCvrfGgiGSL",
        "outputId": "24732033-f1a5-4f43-e70e-774cf0be46b6"
      },
      "source": [
        "N = int(input())\n",
        "LIST = list(map(int,input().split()))\n",
        "A = max(LIST)\n",
        "result = 0\n",
        "for i in LIST:\n",
        "  result += i / A * 100\n",
        "print(result / N)"
      ],
      "execution_count": null,
      "outputs": [
        {
          "output_type": "stream",
          "name": "stdout",
          "text": [
            "3\n",
            "40 80 60\n",
            "75.0\n"
          ]
        }
      ]
    },
    {
      "cell_type": "markdown",
      "metadata": {
        "id": "DA-293G9jT0t"
      },
      "source": [
        "##6. OX퀴즈\n",
        "####\"OOXXOXXOOO\"와 같은 OX퀴즈의 결과가 있다. O는 문제를 맞은 것이고, X는 문제를 틀린 것이다. 문제를 맞은 경우 그 문제의 점수는 그 문제까지 연속된 O의 개수가 된다. 예를 들어, 10번 문제의 점수는 3이 된다.\n",
        "\n",
        "####\"OOXXOXXOOO\"의 점수는 1+2+0+0+1+0+0+1+2+3 = 10점이다.\n",
        "\n",
        "####OX퀴즈의 결과가 주어졌을 때, 점수를 구하는 프로그램을 작성하시오."
      ]
    },
    {
      "cell_type": "code",
      "metadata": {
        "colab": {
          "base_uri": "https://localhost:8080/"
        },
        "id": "Qb9NzaYYky2t",
        "outputId": "e156b37e-7671-4c0a-86b3-5c565bf37676"
      },
      "source": [
        "A = int(input())\n",
        "LIST = []\n",
        "count_1 = 1\n",
        "count = 0\n",
        "for U in range(A):\n",
        "  N = input()\n",
        "  LIST = []\n",
        "  count_1 = 1\n",
        "  count = 0\n",
        "  for i in N:\n",
        "    if i == \"O\":\n",
        "      if \"O\" in LIST:\n",
        "        count_1 += 1\n",
        "        count += count_1\n",
        "      else:\n",
        "        LIST.append(\"O\")\n",
        "        count += 1\n",
        "    else:\n",
        "      LIST = []\n",
        "      count_1 = 1\n",
        "  print(count)"
      ],
      "execution_count": null,
      "outputs": [
        {
          "output_type": "stream",
          "name": "stdout",
          "text": [
            "2\n",
            "OOXXOOXXOOO\n",
            "7\n",
            "OOXXOXXOOO\n",
            "13\n"
          ]
        }
      ]
    },
    {
      "cell_type": "markdown",
      "metadata": {
        "id": "msidveminZOU"
      },
      "source": [
        "##7. 평균은 넘겠지\n",
        "####대학생 새내기들의 90%는 자신이 반에서 평균은 넘는다고 생각한다. 당신은 그들에게 슬픈 진실을 알려줘야 한다."
      ]
    },
    {
      "cell_type": "code",
      "metadata": {
        "colab": {
          "base_uri": "https://localhost:8080/"
        },
        "id": "RHUH5Fkzng7F",
        "outputId": "a321858d-dcfc-4c18-b765-71c33c7e61f9"
      },
      "source": [
        "c = int(input()) \n",
        "for i in range(c):\n",
        "    count = 0\n",
        "    n = list(map(int,input().split()))\n",
        "    A = (sum(n) - n[0]) / n[0]\n",
        "    for k in range(len(n)):\n",
        "      if n[k] > A:\n",
        "        count += 1\n",
        "    print('{0:.3f}%'.format(count/n[0]*100))"
      ],
      "execution_count": null,
      "outputs": [
        {
          "output_type": "stream",
          "name": "stdout",
          "text": [
            "1\n",
            "3 2 0 0\n",
            "66.667%\n"
          ]
        }
      ]
    },
    {
      "cell_type": "markdown",
      "metadata": {
        "id": "WaoZwfwkGrHn"
      },
      "source": [
        "##수정본"
      ]
    },
    {
      "cell_type": "code",
      "metadata": {
        "colab": {
          "base_uri": "https://localhost:8080/"
        },
        "id": "uGJyI672F39u",
        "outputId": "da3c9044-c9a9-439b-9e17-06a543dfb2dd"
      },
      "source": [
        "c = int(input()) \n",
        "for i in range(c):\n",
        "    count = 0\n",
        "    n = list(map(int,input().split()))\n",
        "    A = sum(n[1:]) / n[0]\n",
        "    for k in range(1,len(n)):\n",
        "      if n[k] > A:\n",
        "        count += 1\n",
        "    print('{0:.3f}%'.format(count/n[0]*100))"
      ],
      "execution_count": null,
      "outputs": [
        {
          "output_type": "stream",
          "name": "stdout",
          "text": [
            "1\n",
            "3 2 0 0\n",
            "33.333%\n"
          ]
        }
      ]
    }
  ]
}