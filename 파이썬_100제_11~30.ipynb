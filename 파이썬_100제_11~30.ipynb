{
  "nbformat": 4,
  "nbformat_minor": 0,
  "metadata": {
    "colab": {
      "name": "파이썬 100제 11~30.ipynb",
      "provenance": [],
      "collapsed_sections": [],
      "authorship_tag": "ABX9TyNfySL8EthczCXzzfrTHyRX",
      "include_colab_link": true
    },
    "kernelspec": {
      "name": "python3",
      "display_name": "Python 3"
    },
    "language_info": {
      "name": "python"
    }
  },
  "cells": [
    {
      "cell_type": "markdown",
      "metadata": {
        "id": "view-in-github",
        "colab_type": "text"
      },
      "source": [
        "<a href=\"https://colab.research.google.com/github/kimddong0887/python/blob/main/%ED%8C%8C%EC%9D%B4%EC%8D%AC_100%EC%A0%9C_11~30.ipynb\" target=\"_parent\"><img src=\"https://colab.research.google.com/assets/colab-badge.svg\" alt=\"Open In Colab\"/></a>"
      ]
    },
    {
      "cell_type": "markdown",
      "metadata": {
        "id": "ed8PdZPRqe0r"
      },
      "source": [
        "##문제11 : for를 이용한 기본 활용\n",
        "1부터 100까지 모두 더하는 Code를 <pass> 부분에 완성하세요. for를 사용해야 합니다.\n",
        "\n",
        "```python\n",
        "s = 0\n",
        "\n",
        "<pass>\n",
        "\n",
        "print(s)\n",
        "```"
      ]
    },
    {
      "cell_type": "code",
      "metadata": {
        "colab": {
          "base_uri": "https://localhost:8080/"
        },
        "id": "NElGfuR2rDb5",
        "outputId": "3a7ff287-e786-460a-d0ec-e81b35fbb449"
      },
      "source": [
        "s = 0\n",
        "for i in range(1,101):\n",
        "  s += i\n",
        "\n",
        "print(s)"
      ],
      "execution_count": null,
      "outputs": [
        {
          "output_type": "stream",
          "name": "stdout",
          "text": [
            "5050\n"
          ]
        }
      ]
    },
    {
      "cell_type": "markdown",
      "metadata": {
        "id": "7CDmoOBvrZlQ"
      },
      "source": [
        "##문제12 : 게임 캐릭터 클래스 만들기\n",
        "다음 소스코드에서 클래스를 작성하여 게임 캐릭터의 능력치와 '파이어볼'이 출력되게 만드시오.\n",
        "\n",
        "**주어진 소스 코드를 수정해선 안됩니다.**\n",
        "\n",
        "```python\n",
        "<여기에 class를 작성하세요.>\n",
        "\n",
        "x = Wizard(health = 545, mana = 210, armor = 10)\n",
        "print(x.health, x.mana, x.armor)\n",
        "x.attack()\n",
        "```\n",
        "\n",
        ">> 출력예시\n",
        "\n",
        "```python\n",
        "545 210 10\n",
        "파이어볼\n",
        "```"
      ]
    },
    {
      "cell_type": "markdown",
      "metadata": {
        "id": "rs61G53qua3P"
      },
      "source": [
        "##문제13 : 몇 번째 행성인가요?\n",
        "우리 태양계를 이루고 있는 행성은 수성, 금성, 지구, 화성, 목성, 토성, 천왕성, 해왕성으로 총 8개 입니다. 저희는 우리 태양계의 n번째 행성이 무엇인지 알고 싶습니다.\n",
        "\n",
        "입력으로 행성의 순서를 나타내는 숫자 n이 입력됩니다. 예를들어 수성은 첫번째 행성입니다.\n",
        "\n",
        "```python\n",
        "1\n",
        "```\n",
        "\n",
        "출력으로 그 순서에 해당하는 행성의 이름을 출력해 주세요.\n",
        "\n",
        "```python\n",
        "수성\n",
        "```"
      ]
    },
    {
      "cell_type": "code",
      "metadata": {
        "id": "MgwUIfBQf_D8",
        "colab": {
          "base_uri": "https://localhost:8080/"
        },
        "outputId": "2c92975c-eae7-4800-ee4c-cf855d82a48a"
      },
      "source": [
        "planets = [\"\",'수성', '금성', '지구', '화성', '목성', '토성', '천왕성', '해왕성']\n",
        "\n",
        "n = int(input(\"숫자를 입력하시오:\"))\n",
        "print(planets[n])"
      ],
      "execution_count": null,
      "outputs": [
        {
          "output_type": "stream",
          "name": "stdout",
          "text": [
            "숫자를 입력하시오:1\n",
            "수성\n"
          ]
        }
      ]
    },
    {
      "cell_type": "markdown",
      "metadata": {
        "id": "fAJOirVVk0NV"
      },
      "source": [
        "##문제14 : 3의 배수 인가요?\n",
        "영희는 친구와 게임을 하고 있습니다. 서로 돌아가며 랜덤으로 숫자를 하나 말하고 그게 3의 배수이면 박수를 치고 아니면 그 숫자를 그대로 말하는 게임입니다.\n",
        "\n",
        "입력으로 랜덤한 숫자 n이 주어집니다.\n",
        "\n",
        "만약 그 수가 **3의 배수라면 '짝'이라는 글자를, 3의 배수가 아니라면 n을 그대로 출력**해 주세요.\n",
        "\n",
        ">> 입력\n",
        "\n",
        "```python\n",
        "3\n",
        "```\n",
        "\n",
        ">> 출력\n",
        "\n",
        "```python\n",
        "짝\n",
        "```\n",
        "\n",
        ">> 입력\n",
        "\n",
        "```python\n",
        "2\n",
        "```\n",
        "\n",
        ">> 출력\n",
        "\n",
        "```python\n",
        "2\n",
        "```"
      ]
    },
    {
      "cell_type": "code",
      "metadata": {
        "colab": {
          "base_uri": "https://localhost:8080/"
        },
        "id": "cB6LjpKElK3c",
        "outputId": "57b5fbb6-69b1-42dd-d6c8-871e72ed6018"
      },
      "source": [
        "num = int(input(\"숫자 입력:\"))\n",
        "if num % 3 == 0:\n",
        "  print(\"짝\")\n",
        "else:\n",
        "  print(num)"
      ],
      "execution_count": null,
      "outputs": [
        {
          "output_type": "stream",
          "name": "stdout",
          "text": [
            "숫자 입력:3\n",
            "짝\n"
          ]
        }
      ]
    },
    {
      "cell_type": "markdown",
      "metadata": {
        "id": "BTSUd1sKlhuN"
      },
      "source": [
        "##문제15 : 자기소개\n",
        "신학기가 시작되고, 아이들이 돌아가면서 자기소개를 하기로 했습니다.\n",
        "\n",
        "만약 입력으로 `김다정`이라는 이름이 주어지면\n",
        "\n",
        "```python\n",
        "안녕하세요. 저는 김다정입니다.\n",
        "```\n",
        "\n",
        "라고 출력하게 해주세요."
      ]
    },
    {
      "cell_type": "code",
      "metadata": {
        "colab": {
          "base_uri": "https://localhost:8080/"
        },
        "id": "U4Q_yrrnluac",
        "outputId": "d2d82559-246a-4a52-b21f-a74568f4107e"
      },
      "source": [
        "name = input(\"이름 입력:\")\n",
        "print(f\"안녕하세요. 저는 {name}입니다.\")"
      ],
      "execution_count": null,
      "outputs": [
        {
          "output_type": "stream",
          "name": "stdout",
          "text": [
            "이름 입력:김다정\n",
            "안녕하세요. 저는 김다정입니다.\n"
          ]
        }
      ]
    },
    {
      "cell_type": "markdown",
      "metadata": {
        "id": "RmXsGT7Pl4M9"
      },
      "source": [
        "##문제16 : 로꾸거\n",
        "문장이 입력되면 거꾸로 출력하는 프로그램을 만들어 봅시다.\n",
        "\n",
        ">> 입력\n",
        "\n",
        "```python\n",
        "거꾸로\n",
        "```\n",
        "\n",
        ">> 출력\n",
        "\n",
        "```python\n",
        "로꾸거\n",
        "```"
      ]
    },
    {
      "cell_type": "code",
      "metadata": {
        "colab": {
          "base_uri": "https://localhost:8080/"
        },
        "id": "zFUnH7P2nO8N",
        "outputId": "89d07d14-1904-451d-a3cd-043667bd1f84"
      },
      "source": [
        "sentence = input(\"문장 입력:\")\n",
        "print(sentence[::-1])"
      ],
      "execution_count": null,
      "outputs": [
        {
          "output_type": "stream",
          "name": "stdout",
          "text": [
            "문장 입력:거꾸로\n",
            "로꾸거\n"
          ]
        }
      ]
    },
    {
      "cell_type": "markdown",
      "metadata": {
        "id": "kqFG4qN5nYqt"
      },
      "source": [
        "##문제17 : 놀이기구 키 제한\n",
        "유주는 놀이공원 아르바이트 중입니다. 그런데 놀이기구마다 키 제한이 있습니다.\n",
        "유주가 담당하는 놀이기구는 키가 150 이상만 탈 수 있습니다.\n",
        "\n",
        "입력으로 키가 주어지면\n",
        "키가 150이 이상이면 **YES**를 틀리면 **NO**를 출력하는 프로그램을 작성하세요."
      ]
    },
    {
      "cell_type": "code",
      "metadata": {
        "colab": {
          "base_uri": "https://localhost:8080/"
        },
        "id": "fKuze4CEoFXW",
        "outputId": "f282ac89-a751-4a64-893f-eb2b8fdf6efb"
      },
      "source": [
        "hight = int(input())\n",
        "if hight >= 150:\n",
        "  print(\"YES\")\n",
        "else:\n",
        "  print(\"NO\")"
      ],
      "execution_count": null,
      "outputs": [
        {
          "output_type": "stream",
          "name": "stdout",
          "text": [
            "150\n",
            "YES\n"
          ]
        }
      ]
    },
    {
      "cell_type": "markdown",
      "metadata": {
        "id": "tBu94jsroOJF"
      },
      "source": [
        "##문제18 : 평균 점수\n",
        "영하네 반은 국어, 수학, 영어 시험을 보았습니다. 영하는 친구들의 평균 점수를 구해주기로 했습니다.\n",
        "\n",
        "공백으로 구분하여 세 과목의 점수가 주어지면\n",
        "**전체 평균 점수**를 구하는 프로그램을 작성하세요. **단, 소숫점 자리는 모두 버립니다.**\n",
        "\n",
        ">> 입력\n",
        "\n",
        "```python\n",
        "20 30 40\n",
        "```\n",
        "\n",
        ">> 출력\n",
        "\n",
        "```python\n",
        "30\n",
        "```"
      ]
    },
    {
      "cell_type": "code",
      "metadata": {
        "colab": {
          "base_uri": "https://localhost:8080/"
        },
        "id": "dhlNtXjzoax9",
        "outputId": "bac696f9-f486-42e9-ba76-d4e279281f81"
      },
      "source": [
        "a, b, c = map(int,input().split())\n",
        "average = (a + b + c) / 3\n",
        "print(int(average))"
      ],
      "execution_count": null,
      "outputs": [
        {
          "output_type": "stream",
          "name": "stdout",
          "text": [
            "20 30 68\n",
            "39\n"
          ]
        }
      ]
    },
    {
      "cell_type": "markdown",
      "metadata": {
        "id": "qXlOBCQloifl"
      },
      "source": [
        "##문제19 : 제곱을 구하자\n",
        "공백으로 구분하여 두 숫자 a와 b가 주어지면, **a의 b승**을 구하는 프로그램을 작성하세요."
      ]
    },
    {
      "cell_type": "code",
      "metadata": {
        "colab": {
          "base_uri": "https://localhost:8080/"
        },
        "id": "VG6VR1rBrMul",
        "outputId": "8f0ca427-6c74-445f-dcd6-84322032eaf1"
      },
      "source": [
        "a, b = map(int,input().split())\n",
        "print(a**b)"
      ],
      "execution_count": null,
      "outputs": [
        {
          "output_type": "stream",
          "name": "stdout",
          "text": [
            "5 4\n",
            "625\n"
          ]
        }
      ]
    },
    {
      "cell_type": "markdown",
      "metadata": {
        "id": "WVxj9Qk2rUi1"
      },
      "source": [
        "##문제20 : 몫과 나머지\n",
        "공백으로 구분하여 두 숫자가 주어집니다.\n",
        "첫번째 숫자로 두번째 숫자를 나누었을 때 **그 몫과 나머지를 공백으로 구분하여 출력하세요.**\n",
        "\n",
        ">> 입력\n",
        "\n",
        "```python\n",
        "10 2\n",
        "```\n",
        "\n",
        ">> 출력\n",
        "\n",
        "```python\n",
        "5 0\n",
        "```"
      ]
    },
    {
      "cell_type": "code",
      "metadata": {
        "colab": {
          "base_uri": "https://localhost:8080/"
        },
        "id": "2VlORMXurhIl",
        "outputId": "839574a2-2cd4-4046-d738-33b607d4e551"
      },
      "source": [
        "a, b = map(int, input().split())\n",
        "print(int(a/b), a%b)"
      ],
      "execution_count": null,
      "outputs": [
        {
          "output_type": "stream",
          "name": "stdout",
          "text": [
            "80 7\n",
            "11 3\n"
          ]
        }
      ]
    },
    {
      "cell_type": "markdown",
      "metadata": {
        "id": "F-Nh1D0trrFN"
      },
      "source": [
        "##문제21 : set은 어떻게 만드나요?\n",
        "다음 중 set을 만드는 방법이 아닌 것?\n",
        "\n",
        "1)  x = {1, 2, 3, 5, 6, 7}\n",
        "\n",
        "2)  x = {}\n",
        "\n",
        "3)  x = set('python')\n",
        "\n",
        "4)  x = set(range(5))\n",
        "\n",
        "5)  x = set()"
      ]
    },
    {
      "cell_type": "markdown",
      "metadata": {
        "id": "izmclKHetOj-"
      },
      "source": [
        "####답: 2번"
      ]
    },
    {
      "cell_type": "markdown",
      "metadata": {
        "id": "_oRtXLFFueDW"
      },
      "source": [
        "##문제22 : 배수인지 확인하기\n",
        "다음 중 변수 i가 6의 배수인지 확인하는 방법으로 올바른 것은?\n",
        "\n",
        "1)  i / 6 == 0\n",
        "\n",
        "2)  i % 6 == 0\n",
        "\n",
        "3)  i & 6 == 0\n",
        "\n",
        "4)  i | 6 == 0\n",
        "\n",
        "5)  i // 6 == 0"
      ]
    },
    {
      "cell_type": "markdown",
      "metadata": {
        "id": "kAWsaXTeuiV9"
      },
      "source": [
        "###답: 2번"
      ]
    },
    {
      "cell_type": "markdown",
      "metadata": {
        "id": "muc2QLEAuynF"
      },
      "source": [
        "##문제23 : OX문제\n",
        "print(10/2)의 출력 결과는 **5**이다."
      ]
    },
    {
      "cell_type": "markdown",
      "metadata": {
        "id": "kNPYdR5mu3G_"
      },
      "source": [
        "####답: X, 5.0이다"
      ]
    },
    {
      "cell_type": "markdown",
      "metadata": {
        "id": "9ZP4K7emu7BG"
      },
      "source": [
        "##문제24 : 대문자로 바꿔주세요!\n",
        "민지는 국제 포럼에서 아르바이트를 하게 되었습니다. 민지는 각 국에서 온 참가자들의 명단을 엑셀로 정리하고 있는데 참가자들 이름이 어떤 이는 전부 소문자, 어떤 이는 전부 대문자로 써져 있는 등 형식이 제각각이었습니다.\n",
        "\n",
        "민지를 위해 **이름이 입력되면 전부 대문자로 출력되는 프로그램**을 만들어주세요.\n",
        "\n",
        ">> 입력\n",
        "\n",
        "```python\n",
        "mary\n",
        "```\n",
        "\n",
        ">> 출력\n",
        "\n",
        "```python\n",
        "MARY\n",
        "```"
      ]
    },
    {
      "cell_type": "code",
      "metadata": {
        "colab": {
          "base_uri": "https://localhost:8080/"
        },
        "id": "gl3FbjJovHZO",
        "outputId": "2a6bc7a7-df47-41d7-abe4-92353c2b6443"
      },
      "source": [
        "name = input(\"Write your name:\")\n",
        "print(name.upper())"
      ],
      "execution_count": null,
      "outputs": [
        {
          "output_type": "stream",
          "name": "stdout",
          "text": [
            "Write your name:mary\n",
            "MARY\n"
          ]
        }
      ]
    },
    {
      "cell_type": "markdown",
      "metadata": {
        "id": "e-fXBlakvOE-"
      },
      "source": [
        "##문제25 : 원의 넓이를 구하세요\n",
        "원의 넓이는 `반지름의 길이 x 반지름의 길이 x 3.14`로 구할 수 있습니다.\n",
        "함수를 사용하여 원의 넓이를 구하는 코드를 작성해봅시다.\n",
        "\n",
        "**입력을 반지름의 길이로 정수 n이 주어지면 원의 넓이를 반환하는 함수**를 만들어 주세요.\n",
        "(입력을 해야하기 때문에 input을 반드시 사용해야합니다)"
      ]
    },
    {
      "cell_type": "code",
      "metadata": {
        "colab": {
          "base_uri": "https://localhost:8080/"
        },
        "id": "7_3G_EeBvwxG",
        "outputId": "f68e1206-13d8-4fcc-dba1-3d3932ab78df"
      },
      "source": [
        "def circle(radius):\n",
        "  return radius**2 * 3.14\n",
        "\n",
        "print(circle(int(input())))"
      ],
      "execution_count": null,
      "outputs": [
        {
          "output_type": "stream",
          "name": "stdout",
          "text": [
            "4\n",
            "50.24\n"
          ]
        }
      ]
    },
    {
      "cell_type": "markdown",
      "metadata": {
        "id": "CQWZTymMwMuW"
      },
      "source": [
        "##문제26 : 행성 문제2\n",
        "우리 태양계를 이루는 행성은 수성, 금성, 지구, 화성, 목성, 토성, 천왕성, 해왕성이 있습니다.\n",
        "이 행성들의 영어 이름은 Mercury, Venus, Earth, Mars, Jupiter, Saturn, Uranus, Neptune입니다.\n",
        "\n",
        "**행성의 한글 이름을 입력하면 영어 이름을 반환하는 프로그램**을 만들어 주세요."
      ]
    },
    {
      "cell_type": "code",
      "metadata": {
        "colab": {
          "base_uri": "https://localhost:8080/"
        },
        "id": "8JG5a_uJw87u",
        "outputId": "efb905f1-3eb3-4c7c-c010-377460f38258"
      },
      "source": [
        "planet_korean = ['수성', '금성', '지구', '화성', '목성', '토성', '천왕성', '해왕성']\n",
        "planet_english = ['Mercury', 'Venus', 'Earth', 'Mars', 'Jupiter', 'Saturn', 'Uranus', 'Neptune']\n",
        "\n",
        "result = input(\"행성 이름 입력:\")\n",
        "num = planet_korean.index(result)\n",
        "print(planet_english[num])\n"
      ],
      "execution_count": null,
      "outputs": [
        {
          "output_type": "stream",
          "name": "stdout",
          "text": [
            "행성 이름 입력:지구\n",
            "Earth\n"
          ]
        }
      ]
    },
    {
      "cell_type": "markdown",
      "metadata": {
        "id": "TmktuhEwxXyF"
      },
      "source": [
        "#### 다른 방법"
      ]
    },
    {
      "cell_type": "code",
      "metadata": {
        "colab": {
          "base_uri": "https://localhost:8080/"
        },
        "id": "SekR5GBnyg4G",
        "outputId": "995d7ca9-a4aa-4897-d627-e2a21531b552"
      },
      "source": [
        "planets = {\n",
        "\t'수성' : 'Mercury',\n",
        "\t'금성' : 'Venus',\n",
        "\t'지구' : 'Earth',\n",
        "\t'화성' : 'Mars',\n",
        "\t'목성' : 'Jupiter',\n",
        "\t'토성' : 'Saturn',\n",
        "\t'천왕성' : 'Uranus',\n",
        "\t'해왕성' : 'Neptune',\n",
        "}\n",
        "\n",
        "name = input()\n",
        "print(planets[name])"
      ],
      "execution_count": null,
      "outputs": [
        {
          "output_type": "stream",
          "name": "stdout",
          "text": [
            "수성\n",
            "Mercury\n"
          ]
        }
      ]
    },
    {
      "cell_type": "markdown",
      "metadata": {
        "id": "He8rGh9hyhYl"
      },
      "source": [
        "##문제27 : 딕셔너리 만들기\n",
        "첫 줄에는 학생의 이름이 공백으로 구분되어 입력되고, 두번째 줄에는 그 학생의 수학 점수가 공백으로 구분되어 주어집니다.\n",
        "\n",
        "두 개를 합쳐 **학생의 이름이 key**이고 **value가 수학 점수**인 딕셔너리를 출력해주세요.\n",
        "\n",
        ">> 입력\n",
        "\n",
        "```python\n",
        "Yujin Hyewon\n",
        "70 100\n",
        "```\n",
        "\n",
        ">> 출력\n",
        "\n",
        "```python\n",
        "{'Yujin': 70, 'Hyewon': 100}\n",
        "```"
      ]
    },
    {
      "cell_type": "code",
      "metadata": {
        "colab": {
          "base_uri": "https://localhost:8080/"
        },
        "id": "NQyE4ffeyzd2",
        "outputId": "754c552e-d8a7-442e-d593-27cd105b7b6f"
      },
      "source": [
        "name_1, name_2 = input(\"이름 입력:\").split()\n",
        "score_1, score_2 = input(\"점수 입력:\").split()\n",
        "dic ={name_1:score_1, name_2:score_2}\n",
        "dic"
      ],
      "execution_count": null,
      "outputs": [
        {
          "name": "stdout",
          "output_type": "stream",
          "text": [
            "이름 입력:Yujin Hyewon\n",
            "점수 입력:70 100\n"
          ]
        },
        {
          "output_type": "execute_result",
          "data": {
            "text/plain": [
              "{'Hyewon': '100', 'Yujin': '70'}"
            ]
          },
          "metadata": {},
          "execution_count": 84
        }
      ]
    },
    {
      "cell_type": "markdown",
      "metadata": {
        "id": "Brg687gs5eHn"
      },
      "source": [
        "####다른 방법"
      ]
    },
    {
      "cell_type": "code",
      "metadata": {
        "colab": {
          "base_uri": "https://localhost:8080/"
        },
        "id": "hRKXuvS3zVoc",
        "outputId": "36ddb393-20dc-42e0-d07e-286c80224b8a"
      },
      "source": [
        "keys = input().split()\n",
        "values = map(int, input().split())\n",
        "\n",
        "result = dict(zip(keys, values))\n",
        "print(result)\n"
      ],
      "execution_count": null,
      "outputs": [
        {
          "output_type": "stream",
          "name": "stdout",
          "text": [
            "Yujin Hyewon\n",
            "70 100\n",
            "{'Yujin': 70, 'Hyewon': 100}\n"
          ]
        }
      ]
    },
    {
      "cell_type": "markdown",
      "metadata": {
        "id": "J9_l5upI5uQl"
      },
      "source": [
        "##문제28 : 2-gram\n",
        "**2-gram**이란 문자열에서 2개의 연속된 요소를 출력하는 방법입니다. \n",
        "예를 들어 '**Python**'을 2-gram으로 반복해 본다면 다음과 같은 결과가 나옵니다.\n",
        "\n",
        "```python\n",
        "Py\n",
        "yt\n",
        "th\n",
        "ho\n",
        "on\n",
        "```\n",
        "\n",
        "입력으로 문자열이 주어지면 **2-gram**으로 출력하는 프로그램을 작성해 주세요."
      ]
    },
    {
      "cell_type": "code",
      "metadata": {
        "colab": {
          "base_uri": "https://localhost:8080/"
        },
        "id": "CbpxpCX451re",
        "outputId": "70c4c296-ef44-4b12-9537-67de723fa2e3"
      },
      "source": [
        "list = input()\n",
        "n = 0\n",
        "for i in list:\n",
        "  if n < len(list)-1:\n",
        "    print(list[n]+ list[n+1])\n",
        "    n += 1\n",
        "  else:\n",
        "    exit\n"
      ],
      "execution_count": 5,
      "outputs": [
        {
          "output_type": "stream",
          "name": "stdout",
          "text": [
            "Python\n",
            "Py\n",
            "yt\n",
            "th\n",
            "ho\n",
            "on\n"
          ]
        }
      ]
    },
    {
      "cell_type": "markdown",
      "metadata": {
        "id": "jx6aQVzdBWRu"
      },
      "source": [
        "####다른 방법"
      ]
    },
    {
      "cell_type": "code",
      "metadata": {
        "id": "APFOMJEoF48v",
        "colab": {
          "base_uri": "https://localhost:8080/"
        },
        "outputId": "34e1fd84-5622-4f8c-ee33-7e140c624d0a"
      },
      "source": [
        "data = input()\n",
        "\n",
        "for i in range(len(data) - 1):\n",
        "\tprint(data[i], data[i+1], sep = '')"
      ],
      "execution_count": 6,
      "outputs": [
        {
          "output_type": "stream",
          "name": "stdout",
          "text": [
            "Python\n",
            "Py\n",
            "yt\n",
            "th\n",
            "ho\n",
            "on\n"
          ]
        }
      ]
    },
    {
      "cell_type": "markdown",
      "metadata": {
        "id": "aoXU0W1z6Rih"
      },
      "source": [
        "##문제29 : 대문자만 지나가세요\n",
        "진구는 영어 학원 아르바이트를 하고 있습니다. 반 아이들은 알파벳을 공부하는 학생들인데 오늘은 대문자 쓰기 시험을 봤습니다.\n",
        "\n",
        "**알파벳 하나만을 입력하고 그 알파벳이 대문자이면 YES를 아니면 NO를 출력하는 프로그램**을 만들어 주세요.\n",
        "\n",
        "→ 알파벳 여러개를 입력하고 여러개 입력한 것 중 대문자만 출력해주는 프로그램도 만들어보세요.ㅡ"
      ]
    },
    {
      "cell_type": "code",
      "metadata": {
        "colab": {
          "base_uri": "https://localhost:8080/"
        },
        "id": "A9OVsc5y6e8y",
        "outputId": "5c0942b4-4918-4a2c-c00d-9c7b2becfb7d"
      },
      "source": [
        "##알파벳 대문자 소문자 판별 프로그램\n",
        "alphabet = input(\"알파벳 입력:\")\n",
        "if alphabet.isupper() == True:\n",
        "  print(\"YES\")\n",
        "else:\n",
        "  print(\"NO\")"
      ],
      "execution_count": 9,
      "outputs": [
        {
          "output_type": "stream",
          "name": "stdout",
          "text": [
            "알파벳 입력:b\n",
            "NO\n"
          ]
        }
      ]
    },
    {
      "cell_type": "code",
      "metadata": {
        "colab": {
          "base_uri": "https://localhost:8080/"
        },
        "id": "nx9Lnbnd7JBC",
        "outputId": "8d323895-a79a-45f1-a7b8-23f52e7bf4fa"
      },
      "source": [
        "##알파벳 여러개 판별 프로그램\n",
        "alphabet = input(\"알파벳 입력:\").split()\n",
        "\n",
        "for i in alphabet:\n",
        "  if i.isupper() == True:\n",
        "    print(i)"
      ],
      "execution_count": 12,
      "outputs": [
        {
          "output_type": "stream",
          "name": "stdout",
          "text": [
            "알파벳 입력:A e C d\n",
            "A\n",
            "C\n"
          ]
        }
      ]
    },
    {
      "cell_type": "markdown",
      "metadata": {
        "id": "8qMIpfI-7v1y"
      },
      "source": [
        "##문제30 : 문자열 속 문자 찾기\n",
        "문자 pineapple에는 apple이라는 문자가 숨어 있습니다. 원범이는 이렇듯 문자열 속에 숨어있는 문자를 찾아보려고 합니다.\n",
        "\n",
        "입력으로 첫 줄에 문자열이 주어지고 둘째 줄에 찾을 문자가 주어지면 \n",
        "**그 문자가 시작하는 index를 반환하는 프로그램**을 만들어 주세요\n",
        "\n",
        "```python\n",
        "**입력**\n",
        "\n",
        "pineapple is yummy\n",
        "apple\n",
        "\n",
        "**출력**\n",
        "4\n",
        "```"
      ]
    },
    {
      "cell_type": "code",
      "metadata": {
        "colab": {
          "base_uri": "https://localhost:8080/"
        },
        "id": "dCoybwlU8Cmp",
        "outputId": "274045c6-bc85-470e-8d88-e8d1c6dee0fd"
      },
      "source": [
        "sentence = input(\"문장 입력:\")\n",
        "word = input(\"찾을 단어 입력:\")\n",
        "sentence.find(word)"
      ],
      "execution_count": 16,
      "outputs": [
        {
          "name": "stdout",
          "output_type": "stream",
          "text": [
            "문장 입력:pineapple is yummy\n",
            "찾을 단어 입력:is\n"
          ]
        },
        {
          "output_type": "execute_result",
          "data": {
            "text/plain": [
              "10"
            ]
          },
          "metadata": {},
          "execution_count": 16
        }
      ]
    }
  ]
}