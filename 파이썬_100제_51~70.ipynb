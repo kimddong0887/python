{
  "nbformat": 4,
  "nbformat_minor": 0,
  "metadata": {
    "colab": {
      "name": "파이썬 100제 51~70.ipynb",
      "provenance": [],
      "collapsed_sections": [],
      "authorship_tag": "ABX9TyPcmTVUyFxGbBQo0rr/Jc3D",
      "include_colab_link": true
    },
    "kernelspec": {
      "name": "python3",
      "display_name": "Python 3"
    },
    "language_info": {
      "name": "python"
    }
  },
  "cells": [
    {
      "cell_type": "markdown",
      "metadata": {
        "id": "view-in-github",
        "colab_type": "text"
      },
      "source": [
        "<a href=\"https://colab.research.google.com/github/kimddong0887/python/blob/main/%ED%8C%8C%EC%9D%B4%EC%8D%AC_100%EC%A0%9C_51~70.ipynb\" target=\"_parent\"><img src=\"https://colab.research.google.com/assets/colab-badge.svg\" alt=\"Open In Colab\"/></a>"
      ]
    },
    {
      "cell_type": "markdown",
      "metadata": {
        "id": "fth3po_QIsuU"
      },
      "source": [
        "##문제51 : merge sort를 만들어보자\n",
        "병합정렬(merge sort)은 대표적인 정렬 알고리즘 중 하나로 다음과 같이 동작합니다.\n",
        "\n",
        "> 1. 리스트의 길이가 0 또는 1이면 이미 정렬된 것으로 본다. 그렇지 않은 경우에는\n",
        "\n",
        "2. 정렬되지 않은 리스트를 절반으로 잘라 비슷한 크기의 두 부분 리스트로 나눈다.\n",
        "\n",
        "3. 각 부분 리스트를 재귀적으로 합병 정렬을 이용해 정렬한다.\n",
        "\n",
        "4. 두 부분 리스트를 다시 하나의 정렬된 리스트로 합병한다.\n",
        "> \n",
        "\n",
        "(출처 : 위키피디아)\n",
        "\n",
        "다음 코드의 빈칸을 채워 병합정렬을 완성해 봅시다.\n",
        "\n",
        "```python\n",
        "#병합 정렬\n",
        "def 병합정렬(입력리스트):\n",
        "    입력리스트길이 = len(입력리스트)\n",
        "    if 입력리스트길이 <= 1:\n",
        "        return 입력리스트\n",
        "    중간값 = 입력리스트길이 // 2\n",
        "    그룹_하나 = 병합정렬(입력리스트[:중간값])\n",
        "    그룹_둘 = 병합정렬(입력리스트[중간값:])\n",
        "    결과값 = []\n",
        "\n",
        "    while (#빈칸을 채워주세요) and (#빈칸을 채워주세요) :\n",
        "        if (#빈칸을 채워주세요):\n",
        "            결과값.append(그룹_하나.pop(0))\n",
        "        else:\n",
        "            결과값.append(그룹_둘.pop(0))\n",
        "\n",
        "    while 그룹_하나:\n",
        "        결과값.append(그룹_하나.pop(0))\n",
        "    while 그룹_둘:\n",
        "        결과값.append(그룹_둘.pop(0))\n",
        "    return 결과값\n",
        "\n",
        "주어진리스트 = [180, 145, 165, 45, 170, 175, 173, 171]\n",
        "#빈칸을 채워주세요\n",
        "\n",
        "print(병합정렬(주어진리스트))\n",
        "```"
      ]
    },
    {
      "cell_type": "code",
      "metadata": {
        "colab": {
          "base_uri": "https://localhost:8080/"
        },
        "id": "JCWUqqKKIwr9",
        "outputId": "d6757756-f529-487c-be36-b3ea21dbaf5a"
      },
      "source": [
        "def 병합정렬(입력리스트):\n",
        "    입력리스트길이 = len(입력리스트)\n",
        "    if 입력리스트길이 <= 1:\n",
        "        return 입력리스트\n",
        "    중간값 = 입력리스트길이 // 2\n",
        "    그룹_하나 = 병합정렬(입력리스트[:중간값])\n",
        "    그룹_둘 = 병합정렬(입력리스트[중간값:])\n",
        "    결과값 = []\n",
        "\n",
        "    while 그룹_하나 and 그룹_둘:\n",
        "        if 그룹_하나[0] < 그룹_둘[0]:\n",
        "            결과값.append(그룹_하나.pop(0))\n",
        "        else:\n",
        "            결과값.append(그룹_둘.pop(0))\n",
        "\n",
        "    while 그룹_하나:\n",
        "        결과값.append(그룹_하나.pop(0))\n",
        "    while 그룹_둘:\n",
        "        결과값.append(그룹_둘.pop(0))\n",
        "    return 결과값\n",
        "\n",
        "주어진리스트 = input().split(' ')\n",
        "주어진리스트 = [int(i) for i in 주어진리스트]\n",
        "\n",
        "print(병합정렬(주어진리스트))"
      ],
      "execution_count": 11,
      "outputs": [
        {
          "output_type": "stream",
          "name": "stdout",
          "text": [
            "1 9 5 3 97 112 56\n",
            "[1]\n"
          ]
        }
      ]
    },
    {
      "cell_type": "markdown",
      "metadata": {
        "id": "rSE8xi3LMlec"
      },
      "source": [
        "##문제52 : quick sort\n",
        "다음 빈 칸을 채워 퀵 정렬을 완성해주세요.\n",
        "\n",
        "```python\n",
        "def 퀵정렬(입력리스트):\n",
        "    입력리스트의길이 = len(입력리스트)\n",
        "    if 입력리스트의길이 <= 1:\n",
        "        return 입력리스트\n",
        "    기준값 = 입력리스트.pop(입력리스트의길이//2)\n",
        "    그룹_하나 = []\n",
        "    그룹_둘 = []\n",
        "    \n",
        "    for i in range(입력리스트의길이-1):\n",
        "        if #내용을 채워주세요:\n",
        "            그룹_하나.append(입력리스트[i])\n",
        "        else:\n",
        "            그룹_둘.append(입력리스트[i])\n",
        "    return #내용을 채워주세요\n",
        "\n",
        "주어진리스트 = input().split(' ')\n",
        "#내용을 채워주세요.\n",
        "\n",
        "print(퀵정렬(주어진리스트))\n",
        "```"
      ]
    },
    {
      "cell_type": "code",
      "metadata": {
        "id": "0AViEhb4MlR7"
      },
      "source": [
        "def 퀵정렬(입력리스트):\n",
        "    입력리스트의길이 = len(입력리스트)\n",
        "    if 입력리스트의길이 <= 1:\n",
        "        return 입력리스트\n",
        "    기준값 = 입력리스트.pop(입력리스트의길이//2)\n",
        "    그룹_하나 = []\n",
        "    그룹_둘 = []\n",
        "    \n",
        "    for i in range(입력리스트의길이-1):\n",
        "        if 입력리스트[i] < 기준값:\n",
        "            그룹_하나.append(입력리스트[i])\n",
        "        else:\n",
        "            그룹_둘.append(입력리스트[i])\n",
        "    return 퀵정렬(그룹_하나) + [기준값] + 퀵정렬(그룹_둘)\n",
        "\n",
        "주어진리스트 = input().split(' ')\n",
        "주어진리스트 = [int(i) for i in 주어진리스트]\n",
        "\n",
        "print(퀵정렬(주어진리스트))"
      ],
      "execution_count": null,
      "outputs": []
    },
    {
      "cell_type": "markdown",
      "metadata": {
        "id": "-vguUbooNNCb"
      },
      "source": [
        "##문제53 : 괄호 문자열\n",
        "괄호 문자열이란 괄호 기호인 '{', '}', '[', ']', '(', ')' 와 같은 것을 말한다. 그 중 괄호의 모양이 바르게 구성 된 문자열을 **바른 문자열**, 그렇지 않은 문자열을 **바르지 않은 문자열**이라 부르도록 하자. \n",
        "\n",
        "(())와 같은 문자열은 바른 문자열이지만 ()()) 와 같은 문자열은 바르지 않은 문자열이다.(해당 문제에서는 소괄호만 판별하지만, 실력이 되시는 분들은 중괄호와 대괄호까지 판별해보세요.)\n",
        "\n",
        "**입력으로 주어진 괄호 문자열이 바른 문자열인지 바르지 않은 문자열인지 \"YES\"와 \"NO\"로 구분된 문자열을 출력해보자.**"
      ]
    },
    {
      "cell_type": "code",
      "metadata": {
        "colab": {
          "base_uri": "https://localhost:8080/"
        },
        "id": "18OV5cFoNMsZ",
        "outputId": "9a0c90c3-0102-4bef-93e2-6373da90ee53"
      },
      "source": [
        "def math(e):\n",
        "    if e.count('(') != e.count(')'):\n",
        "        return False\n",
        "    괄호 = []\n",
        "    for i in e:\n",
        "        if i == '(':\n",
        "            괄호.append('(')\n",
        "        if i == ')':\n",
        "            if len(괄호) == 0:\n",
        "                return False\n",
        "            괄호.pop()\n",
        "    return True\n",
        "\n",
        "n = input()\n",
        "if math(n) == True:\n",
        "\tprint(\"YES\")\n",
        "else:\n",
        "\tprint(\"NO\")"
      ],
      "execution_count": 23,
      "outputs": [
        {
          "output_type": "stream",
          "name": "stdout",
          "text": [
            "())()()(\n",
            "NO\n"
          ]
        }
      ]
    },
    {
      "cell_type": "markdown",
      "metadata": {
        "id": "AnKkIj_fsuqv"
      },
      "source": [
        "##문제54 : 연속되는 수\n",
        "은주는 놀이공원 아르바이트를 하고 있습니다. 은주가 일하는 놀이공원에서는 현재 놀이공원 곳곳에 숨겨진 숫자 스탬프를 모아 오면 선물을 주는 이벤트를 하고 있습니다. 숫자 스탬프는 매일 그 수와 스탬프에 적힌 숫자가 바뀌지만 그 숫자는 항상 연속됩니다. \n",
        "그런데 요즘 다른 날에 찍은 스탬프를 가지고 와 선물을 달라고 하는 손님이 늘었습니다.\n",
        "\n",
        "스탬프에 적힌 숫자가 공백으로 구분되어 주어지면 이 숫자가 연속수인지 아닌지 \"YES\"와 \"NO\"로 판별하는 프로그램을 작성하세요.\n",
        "\n",
        "```python\n",
        "**입력1**\n",
        "1 2 4 3 5\n",
        "\n",
        "**출력1**\n",
        "YES\n",
        "\n",
        "**입력2**\n",
        "1 4 2 6 3\n",
        "\n",
        "**출력2**\n",
        "NO\n",
        "```"
      ]
    },
    {
      "cell_type": "code",
      "metadata": {
        "colab": {
          "base_uri": "https://localhost:8080/"
        },
        "id": "4ERL6qetsxFP",
        "outputId": "2c174a2f-36b8-459f-d9ec-3d8c44cc65df"
      },
      "source": [
        "숫자_리스트 = input(\"숫자 입력:\").split()\n",
        "숫자_리스트.sort()\n",
        "n = 0\n",
        "for i in range(len(숫자_리스트)-1):\n",
        "  if int(숫자_리스트[i]) == int(숫자_리스트[i + 1]) - 1:\n",
        "    n += 1\n",
        "if n == 4:\n",
        "  print(\"YES\")\n",
        "else:\n",
        "  print(\"NO\")"
      ],
      "execution_count": 12,
      "outputs": [
        {
          "output_type": "stream",
          "name": "stdout",
          "text": [
            "숫자 입력:1 5 7 9 6\n",
            "NO\n"
          ]
        }
      ]
    },
    {
      "cell_type": "markdown",
      "metadata": {
        "id": "T1h_i7i0NFaK"
      },
      "source": [
        "##다른 방법"
      ]
    },
    {
      "cell_type": "code",
      "metadata": {
        "colab": {
          "base_uri": "https://localhost:8080/"
        },
        "id": "l684-u8LM-qx",
        "outputId": "69685ea0-465c-46f5-e5e6-b6a67430dedb"
      },
      "source": [
        "user_input = input().split(' ')\n",
        "user_input = [int(i) for i in user_input]\n",
        "\n",
        "def sol(l):\n",
        "    l = sorted(l)\n",
        "    for i in range(len(l) - 1):\n",
        "        if l[i]+1 != l[i+1]:\n",
        "            return 'NO'\n",
        "    return 'YES'\n",
        "\n",
        "print(sol(user_input))"
      ],
      "execution_count": 33,
      "outputs": [
        {
          "output_type": "stream",
          "name": "stdout",
          "text": [
            "1 2 3 4 5\n",
            "YES\n"
          ]
        }
      ]
    },
    {
      "cell_type": "markdown",
      "metadata": {
        "id": "oo2I7tA0RmbX"
      },
      "source": [
        "##문제55 : 하노이의 탑\n",
        "하노이의 탑은 프랑스 수학자 에두아르드가 처음으로 발표한 게임입니다. 하노이의 탑은 A, B, C 3개의 기둥과 기둥에 꽂을 수 있는 N개의 원판으로 이루어져 있습니다. 이 게임에서 다음의 규칙을 만족해야 합니다.\n",
        "\n",
        "> 1. 처음에 모든 원판은 A기둥에 꽂혀 있다.\n",
        "2. 모든 원판의 지름은 다르다.\n",
        "3. 이 원반은 세 개의 기둥 중 하나에 반드시 꽂혀야 한다.\n",
        "4. 작은 원반 위에 큰 원반을 놓을 수 없다.\n",
        "5. 한 번에 하나의 원판(가장 위에 있는 원판) 만을 옮길 수 있다.\n",
        "> \n",
        "\n",
        "이 규칙을 만족하며 A기둥에 있는 원반 N개를 모두 C 원반으로 옮기고 싶습니다.\n",
        "모든 원반을 옮기기 위해 실행되어야 할 최소 원반 이동 횟수를 계산하는 프로그램을 완성해주세요.\n",
        "\n",
        "```python\n",
        "원판의이동경로 = []\n",
        "def 하노이(원반의수, 시작기둥, 목표기둥, 보조기둥):\n",
        "    #원판이 한개일 때에는 옮기면 됩니다.\n",
        "    if 원반의수 == 1:\n",
        "        원판의이동경로.append([시작기둥, 목표기둥]) \n",
        "        return None\n",
        "    #원반의 n-1개를 경유기둥으로 옮기고\n",
        "    하노이(#내용을 채워주세요.)\n",
        "    #가장 큰 원반은 목표기둥으로\n",
        "    원판의이동경로.append(#내용을 채워주세요.) \n",
        "    #경유기둥과 시작기둥을 바꿉니다!\n",
        "    하노이(#내용을 채워주세요.)\n",
        "\n",
        "user_input = int(input())\n",
        "하노이(user_input,'A','C','B')\n",
        "\n",
        "print(len(원판의이동경로))\n",
        "```"
      ]
    },
    {
      "cell_type": "code",
      "metadata": {
        "colab": {
          "base_uri": "https://localhost:8080/"
        },
        "id": "OLmnoO7ORpCJ",
        "outputId": "e4e80578-99a0-453d-b20c-e16e0c390364"
      },
      "source": [
        "원판의이동경로 = []\n",
        "def 하노이(원반의수, 시작기둥, 목표기둥, 보조기둥):\n",
        "    #원판이 한개일 때에는 옮기면 됩니다.\n",
        "    if 원반의수 == 1:\n",
        "        원판의이동경로.append([시작기둥, 목표기둥]) \n",
        "        return None\n",
        "\n",
        "    #원반의 n-1개를 경유기둥으로 옮기고\n",
        "    하노이(원반의수-1, 시작기둥, 보조기둥, 목표기둥)\n",
        "    #가장 큰 원반은 목표기둥으로\n",
        "    원판의이동경로.append([시작기둥, 목표기둥]) \n",
        "    #경유기둥과 시작기둥을 바꿉니다!\n",
        "    하노이(원반의수-1, 보조기둥, 목표기둥, 시작기둥)\n",
        "\n",
        "하노이(2,'A','C','B')\n",
        "print(원판의이동경로)\n",
        "print(len(원판의이동경로))"
      ],
      "execution_count": 26,
      "outputs": [
        {
          "output_type": "stream",
          "name": "stdout",
          "text": [
            "[['A', 'B'], ['A', 'C'], ['B', 'C']]\n",
            "3\n"
          ]
        }
      ]
    },
    {
      "cell_type": "markdown",
      "metadata": {
        "id": "mY3ek4dQNV8n"
      },
      "source": [
        "##문제56 : 리스트의 함수 응용\n",
        "다음의 딕셔너리가 주어졌을 때 한국의 면적과 가장 비슷한 국가와 그 차이를 출력하세요.\n",
        "\n",
        "```python\n",
        "**데이터**\n",
        "nationWidth = {\n",
        "     'korea': 220877,\n",
        "     'Rusia': 17098242,\n",
        "     'China': 9596961,\n",
        "     'France': 543965,\n",
        "     'Japan': 377915,\n",
        "     'England' : 242900 }\n",
        "\n",
        "**출력**\n",
        "England 22023\n",
        "```\n"
      ]
    },
    {
      "cell_type": "code",
      "metadata": {
        "colab": {
          "base_uri": "https://localhost:8080/"
        },
        "id": "ufpxlT6f9RBV",
        "outputId": "2bb24982-c9fe-4de4-8745-8d0fdfa178f6"
      },
      "source": [
        "nationWidth = {\n",
        "\t'korea': 220877, \n",
        "\t'Rusia': 17098242, \n",
        "\t'China': 9596961, \n",
        "\t'France': 543965, \n",
        "\t'Japan': 377915,\n",
        "\t'England' : 242900,\n",
        "}\n",
        "\n",
        "w = nationWidth['korea']\n",
        "nationWidth.pop('korea')\n",
        "l = list(nationWidth.items())\n",
        "gap = max(nationWidth.values())\n",
        "item = 0\n",
        "\n",
        "for i in l:\n",
        "    if gap > abs(i[1] - w):\n",
        "        gap = abs(i[1] - w)\n",
        "        item = i\n",
        "print(item[0],item[1]-220877)"
      ],
      "execution_count": 27,
      "outputs": [
        {
          "output_type": "stream",
          "name": "stdout",
          "text": [
            "England 22023\n"
          ]
        }
      ]
    },
    {
      "cell_type": "markdown",
      "metadata": {
        "id": "iunB-FUETv0v"
      },
      "source": [
        "##문제57 : 내장함수 응용하기\n",
        "**0부터 1000까지 1의 개수를 세는 프로그램**을 만들려고 합니다. 예를 들어 0부터 20까지 1의 개수를 세어본다면 1, 10 11, 12, 13, 14, 15, 16, 17, 18, 19 에 각각 1이 들어가므로 12개의 1이 있게 됩니다. 11은 1이 2번 들어간 셈이죠.\n",
        "\n",
        "그렇다면 0부터 1000까지 수에서 1은 몇번이나 들어갔을까요? 출력해주세요!"
      ]
    },
    {
      "cell_type": "code",
      "metadata": {
        "colab": {
          "base_uri": "https://localhost:8080/"
        },
        "id": "S75xrgRxk5Tz",
        "outputId": "c7205cf6-636c-48ad-8100-69faa7807024"
      },
      "source": [
        "n = 0\n",
        "for i in range(1001):\n",
        "  if str(1) in str(i):\n",
        "    n += str(i).count('1')\n",
        "\n",
        "  \n",
        "print(n)"
      ],
      "execution_count": 35,
      "outputs": [
        {
          "output_type": "stream",
          "name": "stdout",
          "text": [
            "301\n"
          ]
        }
      ]
    },
    {
      "cell_type": "markdown",
      "metadata": {
        "id": "al3hoW9vmRxP"
      },
      "source": [
        "##다른 방법"
      ]
    },
    {
      "cell_type": "code",
      "metadata": {
        "colab": {
          "base_uri": "https://localhost:8080/"
        },
        "id": "67sIPUr7mTM7",
        "outputId": "9af489c7-dbfb-488f-c9a7-03f0faf709db"
      },
      "source": [
        "def count(n):\n",
        "\tcountN = str(list(range(n+1))).count('1')\n",
        "\treturn countN\n",
        "\n",
        "print(count(1000))"
      ],
      "execution_count": 36,
      "outputs": [
        {
          "output_type": "stream",
          "name": "stdout",
          "text": [
            "301\n"
          ]
        }
      ]
    },
    {
      "cell_type": "markdown",
      "metadata": {
        "id": "ztyXGlUrmUQx"
      },
      "source": [
        "##문제58 : 콤마 찍기\n",
        "원범이는 편의점 아르바이트가 끝난 후 정산을 하고자 합니다.\n",
        "정산을 빨리하고 집에가고 싶은 원범이는 프로그램을 만들려고 합니다.\n",
        "\n",
        "**숫자를 입력 받고 천단위로 콤마(,)를 찍어주세요.**\n",
        "\n",
        "예를들어, 123456789를 입력받았으면 123,456,789 를 출력해야합니다."
      ]
    },
    {
      "cell_type": "code",
      "metadata": {
        "colab": {
          "base_uri": "https://localhost:8080/"
        },
        "id": "535nH3PbmYQ_",
        "outputId": "b87b23fd-070f-4371-87ef-d7f21afa31d2"
      },
      "source": [
        "n = int(input())\n",
        "\n",
        "result = format(n, ',')\n",
        "print(result)"
      ],
      "execution_count": 38,
      "outputs": [
        {
          "output_type": "stream",
          "name": "stdout",
          "text": [
            "123456789\n",
            "123,456,789\n"
          ]
        }
      ]
    },
    {
      "cell_type": "markdown",
      "metadata": {
        "id": "X4M3Wmz5oTFn"
      },
      "source": [
        "##문제59 : 빈칸채우기\n",
        "총 문자열의 길이는 50으로 제한하고 사용자가 문자열을 입력하면 그 문자열을 가운데 정렬을 해주고, 나머지 빈 부분에는 '='을 채워넣어주세요\n",
        "\n",
        "**입출력예시** \n",
        "\n",
        "```python\n",
        "**입력**\n",
        "hi\n",
        "\n",
        "**출력**\n",
        "========================hi========================\n",
        "```"
      ]
    },
    {
      "cell_type": "code",
      "metadata": {
        "colab": {
          "base_uri": "https://localhost:8080/"
        },
        "id": "R_UIKpeaohUY",
        "outputId": "50aa41e8-c2aa-4eda-c86f-f5bd68ff1da3"
      },
      "source": [
        "user_input = input()\n",
        "print(\"{0:=^50}\".format(user_input))"
      ],
      "execution_count": 42,
      "outputs": [
        {
          "output_type": "stream",
          "name": "stdout",
          "text": [
            "hi\n",
            "========================hi========================\n"
          ]
        }
      ]
    },
    {
      "cell_type": "markdown",
      "metadata": {
        "id": "c1oDd5i7qHSr"
      },
      "source": [
        "##문제60 : enumerate\n",
        "새학기가 되어 **이름을 가나다 순서대로 배정하고 번호를 매기려고 합니다**.\n",
        "코드에 입력된 이름을 아래와 같이 출력해주세요.\n",
        "\n",
        "```python\n",
        "**데이터**\n",
        "student = ['강은지','김유정','박현서','최성훈','홍유진','박지호','권윤일','김채리','한지호','김진이','김민호','강채연']\n",
        "\n",
        "**출력**\n",
        "번호: 1, 이름: 강은지\n",
        "번호: 2, 이름: 강채연\n",
        "번호: 3, 이름: 권윤일\n",
        "번호: 4, 이름: 김민호\n",
        "번호: 5, 이름: 김유정\n",
        "번호: 6, 이름: 김진이\n",
        "번호: 7, 이름: 김채리\n",
        "번호: 8, 이름: 박지호\n",
        "번호: 9, 이름: 박현서\n",
        "번호: 10, 이름: 최성훈\n",
        "번호: 11, 이름: 한지호\n",
        "번호: 12, 이름: 홍유진\n",
        "```"
      ]
    },
    {
      "cell_type": "code",
      "metadata": {
        "colab": {
          "base_uri": "https://localhost:8080/"
        },
        "id": "cQwqH0HdqL4N",
        "outputId": "46c131b7-ee88-489e-b827-a432cac242c6"
      },
      "source": [
        "student = ['강은지','김유정','박현서','최성훈','홍유진','박지호','권윤일','김채리','한지호','김진이','김민호','강채연']\n",
        "student.sort()\n",
        "n = 1\n",
        "for i in student:\n",
        "  print(f\"번호: {n}, 이름: {i}\")\n",
        "  n += 1"
      ],
      "execution_count": 55,
      "outputs": [
        {
          "output_type": "stream",
          "name": "stdout",
          "text": [
            "번호: 1, 이름: 강은지\n",
            "번호: 2, 이름: 강채연\n",
            "번호: 3, 이름: 권윤일\n",
            "번호: 4, 이름: 김민호\n",
            "번호: 5, 이름: 김유정\n",
            "번호: 6, 이름: 김진이\n",
            "번호: 7, 이름: 김채리\n",
            "번호: 8, 이름: 박지호\n",
            "번호: 9, 이름: 박현서\n",
            "번호: 10, 이름: 최성훈\n",
            "번호: 11, 이름: 한지호\n",
            "번호: 12, 이름: 홍유진\n"
          ]
        }
      ]
    },
    {
      "cell_type": "markdown",
      "metadata": {
        "id": "8IK3xGzKrvW5"
      },
      "source": [
        "##다른 방법"
      ]
    },
    {
      "cell_type": "code",
      "metadata": {
        "colab": {
          "base_uri": "https://localhost:8080/"
        },
        "id": "iLP2I9f_ru_3",
        "outputId": "a977578b-cd46-41af-9755-da29973499bd"
      },
      "source": [
        "students = ['강은지','김유정','박현서','최성훈','홍유진','박지호','권윤일','김채리','한지호','김진이','김민호','강채연']\n",
        "students = sorted(students)\n",
        "\n",
        "for number, name in enumerate(students):\n",
        "    print(\"번호: {}, 이름: {}\".format(number+1, name))"
      ],
      "execution_count": 54,
      "outputs": [
        {
          "output_type": "stream",
          "name": "stdout",
          "text": [
            "번호: 1, 이름: 강은지\n",
            "번호: 2, 이름: 강채연\n",
            "번호: 3, 이름: 권윤일\n",
            "번호: 4, 이름: 김민호\n",
            "번호: 5, 이름: 김유정\n",
            "번호: 6, 이름: 김진이\n",
            "번호: 7, 이름: 김채리\n",
            "번호: 8, 이름: 박지호\n",
            "번호: 9, 이름: 박현서\n",
            "번호: 10, 이름: 최성훈\n",
            "번호: 11, 이름: 한지호\n",
            "번호: 12, 이름: 홍유진\n"
          ]
        }
      ]
    },
    {
      "cell_type": "markdown",
      "metadata": {
        "id": "Ygtc9E5ur7BV"
      },
      "source": [
        "##문제61 : 문자열 압축하기\n",
        "문자열을 입력받고 연속되는 문자열을 압축해서 표현하고싶습니다.\n",
        "\n",
        "```python\n",
        "**입력**\n",
        "aaabbbbcdddd\n",
        "\n",
        "**출력**\n",
        "a3b4c1d4\n",
        "```"
      ]
    },
    {
      "cell_type": "code",
      "metadata": {
        "colab": {
          "base_uri": "https://localhost:8080/"
        },
        "id": "ax8sYidxr_bf",
        "outputId": "9ded9264-e130-4241-abee-62b9ef431df4"
      },
      "source": [
        "문자열 = input(\"문자열 입력:\")\n",
        "result = \"\"\n",
        "문자열_중복제거 = sorted(set(문자열))\n",
        "for i in range(len(문자열_중복제거)):\n",
        "  result = result + 문자열_중복제거[i] + str(문자열.count(문자열_중복제거[i]))\n",
        "print(result)"
      ],
      "execution_count": 82,
      "outputs": [
        {
          "output_type": "stream",
          "name": "stdout",
          "text": [
            "문자열 입력:aaabbbbcdddd\n",
            "a3b4c1d4\n"
          ]
        }
      ]
    },
    {
      "cell_type": "markdown",
      "metadata": {
        "id": "y3xQIJm9yvQw"
      },
      "source": [
        "##다른 방법"
      ]
    },
    {
      "cell_type": "code",
      "metadata": {
        "id": "O9K0jvTiuWVB"
      },
      "source": [
        "user_input = input()\n",
        "s = ''\n",
        "storeString = user_input[0]\n",
        "count = 0\n",
        "for i in user_input:\n",
        "    if i == storeString:\n",
        "        count += 1\n",
        "    else:\n",
        "        s += storeString + str(count)\n",
        "        storeString = i\n",
        "        count = 1\n",
        "s += storeString + str(count)\n",
        "print(s)"
      ],
      "execution_count": null,
      "outputs": []
    },
    {
      "cell_type": "markdown",
      "metadata": {
        "id": "p6m-aY-308s5"
      },
      "source": [
        "##문제62 : 20190923출력하기\n",
        "`20190923`을 출력합니다.  아래 기준만 만족하면 됩니다.\n",
        "\n",
        "1. 코드 내에 숫자가 없어야 합니다.\n",
        "    - 예) print(20190923)이라고 하시면 안됩니다.\n",
        "2. 파일 이름이나 경로를 사용해서는 안됩니다.\n",
        "3. 시간, 날짜 함수를 사용해서는 안됩니다.\n",
        "4. 에러 번호 출력을 이용해서는 안됩니다.\n",
        "5. input을 이용해서는 안됩니다."
      ]
    },
    {
      "cell_type": "code",
      "metadata": {
        "colab": {
          "base_uri": "https://localhost:8080/"
        },
        "id": "nXqhSGf11NZP",
        "outputId": "6eed81ff-8ed8-4ec9-eef4-382b312457e0"
      },
      "source": [
        "문자열 = \"aacdddddddddfffffffffgghhh\"\n",
        "result = \"\"\n",
        "문자열_1 = \"abcdefgh\"\n",
        "for i in range(len(문자열_1)):\n",
        "  result = result + str(문자열.count(문자열_1[i]))\n",
        "print(result)"
      ],
      "execution_count": 86,
      "outputs": [
        {
          "output_type": "stream",
          "name": "stdout",
          "text": [
            "20190923\n"
          ]
        }
      ]
    },
    {
      "cell_type": "markdown",
      "metadata": {
        "id": "pv3UHax82M0H"
      },
      "source": [
        "##다른 방법"
      ]
    },
    {
      "cell_type": "code",
      "metadata": {
        "colab": {
          "base_uri": "https://localhost:8080/"
        },
        "id": "nJph8a912PQi",
        "outputId": "85ffc96c-8d9a-4d6d-90b2-ded80270ba23"
      },
      "source": [
        "string='aacddddddddd'\n",
        "a=string.count('a') #2\n",
        "b=string.count('b') #0\n",
        "c=string.count('c') #1\n",
        "d=string.count('d') #9\n",
        "print(int(str(a)+str(b)+str(c)+str(d)+str(b)+str(d)+str(a)+str(a+1)))"
      ],
      "execution_count": 88,
      "outputs": [
        {
          "output_type": "stream",
          "name": "stdout",
          "text": [
            "20190923\n"
          ]
        }
      ]
    },
    {
      "cell_type": "markdown",
      "metadata": {
        "id": "ivkrgtZW2Svu"
      },
      "source": [
        "##문제63 : 친해지고 싶어\n",
        "한국대학교의 김한국교수님은 학생들과 친해지기 위해서 딸에게 줄임말을 배우기로 했습니다.\n",
        "딸은 '복잡한 세상 편하게 살자' 라는 문장을 '복세편살'로 줄여 말합니다.\n",
        "\n",
        "교수님이 줄임말을 배우기 위해 위와 같이 어떤 입력이 주어지면 앞 글자만 줄여 출력하도록 해주세요.\n",
        "\n",
        "```python\n",
        "**입력 - 입력은 한글 혹은 영어로 입력됩니다.**\n",
        "복잡한 세상 편하게 살자\n",
        "\n",
        "**출력 - 띄어쓰기를 기준으로 하여 짧은 형태로 출력합니다.**\n",
        "복세편살\n",
        "```"
      ]
    },
    {
      "cell_type": "code",
      "metadata": {
        "colab": {
          "base_uri": "https://localhost:8080/"
        },
        "id": "oPrMwxEW2UR3",
        "outputId": "8ae497da-c69e-4822-e679-033f4853b452"
      },
      "source": [
        "문장 = input(\"문장 입력:\").split()\n",
        "결과 = \"\"\n",
        "for i in 문장:\n",
        "  첫글자 = i[0]\n",
        "  결과 = 결과 + 첫글자\n",
        "\n",
        "print(결과)"
      ],
      "execution_count": 92,
      "outputs": [
        {
          "output_type": "stream",
          "name": "stdout",
          "text": [
            "문장 입력:복잡한 세상 편하게 살자\n",
            "복세편살\n"
          ]
        }
      ]
    },
    {
      "cell_type": "markdown",
      "metadata": {
        "id": "LmYX0T8K3Ctg"
      },
      "source": [
        "##다른 방법"
      ]
    },
    {
      "cell_type": "code",
      "metadata": {
        "colab": {
          "base_uri": "https://localhost:8080/"
        },
        "id": "7ihc7b6Q3EDu",
        "outputId": "3939051b-4c4f-49b7-b2de-86b5ca3e72ab"
      },
      "source": [
        "user_input = input().split(' ')\n",
        "#print(user_input)\n",
        "result = ''\n",
        "\n",
        "for s in user_input:\n",
        "    result += s[0]\n",
        "\n",
        "print(result)"
      ],
      "execution_count": 93,
      "outputs": [
        {
          "output_type": "stream",
          "name": "stdout",
          "text": [
            "복잡한 세상 편하게 살자\n",
            "복세편살\n"
          ]
        }
      ]
    },
    {
      "cell_type": "markdown",
      "metadata": {
        "id": "MfprB-Qa3K-L"
      },
      "source": [
        "##문제64 : 이상한 엘레베이터\n",
        "정량 N에 정확히 맞춰야만 움직이는 화물용 엘레베이터가 있습니다.\n",
        "화물은 7kg, 3kg 두 가지이며 팔이 아픈 은후는 가장 적게 화물을 옮기고 싶습니다.\n",
        "\n",
        "예를 들어 정량이 24kg이라면 3kg 8개를 옮기는 것 보다는\n",
        "7kg 3개, 3kg 1개 즉 4개로 더 적게 옮길 수 있습니다.\n",
        "\n",
        "**입력**\n",
        "정량 N이 입력됩니다.\n",
        "\n",
        "**출력**\n",
        "가장 적게 옮길 수 있는 횟수를 출력합니다.\n",
        "만약 어떻게 해도 정량이 N이 되지 않는다면 -1을 출력합니다."
      ]
    },
    {
      "cell_type": "code",
      "metadata": {
        "colab": {
          "base_uri": "https://localhost:8080/"
        },
        "id": "yFpTfy0p3M0F",
        "outputId": "e7ceb55e-3383-4c0f-b01c-1e9d611baf63"
      },
      "source": [
        "정량 = int(input(\"정량 입력:\"))\n",
        "a = 정량 % 7\n",
        "b = a % 3\n",
        "c = 정량 // 7\n",
        "d = a // 3 \n",
        "if b == 0:\n",
        "  print(c + d)\n",
        "else:\n",
        "  print(-1)"
      ],
      "execution_count": 102,
      "outputs": [
        {
          "output_type": "stream",
          "name": "stdout",
          "text": [
            "정량 입력:24\n",
            "4\n"
          ]
        }
      ]
    },
    {
      "cell_type": "markdown",
      "metadata": {
        "id": "0N48lPmX55P7"
      },
      "source": [
        "##다른 방법"
      ]
    },
    {
      "cell_type": "code",
      "metadata": {
        "colab": {
          "base_uri": "https://localhost:8080/"
        },
        "id": "jFT0rIEV56Uv",
        "outputId": "331000d3-5072-4019-ed53-fc49746067b6"
      },
      "source": [
        "N = int(input())\n",
        "result = 0\n",
        "\n",
        "while True:\n",
        "    if N%7 ==0:\n",
        "        result += N//7\n",
        "        print(result)\n",
        "        break\n",
        "    N -= 3\n",
        "    result += 1\n",
        "    if N < 0:\n",
        "        print(-1)\n",
        "        break"
      ],
      "execution_count": 103,
      "outputs": [
        {
          "output_type": "stream",
          "name": "stdout",
          "text": [
            "24\n",
            "4\n"
          ]
        }
      ]
    },
    {
      "cell_type": "markdown",
      "metadata": {
        "id": "F5_zNqF16C8N"
      },
      "source": [
        "##문제65 : 변형된 리스트\n",
        "a = [1,2,3,4]\n",
        "b = [a,b,c,d]\n",
        "이런 리스트가 있을 때 [[1,a],[b,2],[3,c],[d,4]] 이런식으로 a,b리스트가 번갈아가면서 출력되게 해주세요."
      ]
    },
    {
      "cell_type": "code",
      "metadata": {
        "colab": {
          "base_uri": "https://localhost:8080/"
        },
        "id": "dfyCrMzf6J0Z",
        "outputId": "f84d6443-a0da-414d-d5a1-fdf6d8905e6d"
      },
      "source": [
        "a = input().split(' ')\n",
        "b = input().split(' ')\n",
        "\n",
        "c = []\n",
        "count = 0\n",
        "\n",
        "for i, j in zip(a, b):\n",
        "\tif count % 2 == 0:\n",
        "\t\tc.append([i, j])\n",
        "\telse:\n",
        "\t\tc.append([j, i])\n",
        "\tcount += 1\n",
        "\n",
        "print(c)"
      ],
      "execution_count": 111,
      "outputs": [
        {
          "output_type": "stream",
          "name": "stdout",
          "text": [
            "1 2 3 4\n",
            "a b c d\n",
            "[['1', 'a'], ['b', '2'], ['3', 'c'], ['d', '4']]\n"
          ]
        }
      ]
    },
    {
      "cell_type": "markdown",
      "metadata": {
        "id": "NLgXBcNUBfbq"
      },
      "source": [
        "##문제66 : 블럭탑쌓기\n",
        "탑을 쌓기 위해 각 크기별로 준비된 블럭들을 정해진 순서에 맞게 쌓아햐 합니다.\n",
        "순서에 맞게 쌓지 않으면 무너질 수 있습니다.\n",
        "예를 들면 정해진 순서가 BAC 라면 A 다음 C가 쌓아져야 합니다.\n",
        "선행으로 쌓아야 하는 블럭이 만족된 경우라면 탑이 무너지지 않습니다.\n",
        "\n",
        "- B를 쌓지 않아도 A와 C를 쌓을 수 있습니다.\n",
        "- B 다음 블럭이 C가 될 수 있습니다.\n",
        "\n",
        "쌓아져 있는 블럭 탑이 순서에 맞게 쌓아져 있는지 확인하세요.\n",
        "\n",
        "1. 블럭은 알파벳 대문자로 표기합니다.\n",
        "2. 규칙에 없는 블럭이 사용될 수 있습니다.\n",
        "3. 중복된 블럭은 존재하지 않습니다.\n",
        "\n",
        "```python\n",
        "**입력**\n",
        "탑 = [\"ABCDEF\", \"BCAD\", \"ADEFQRX\", \"BEDFG\"]\n",
        "규칙 = \"ABD\"\n",
        "\n",
        "**출력**\n",
        "[\"가능\",\"불가능\",\"가능\",\"가능\"]\n",
        "```"
      ]
    },
    {
      "cell_type": "code",
      "metadata": {
        "colab": {
          "base_uri": "https://localhost:8080/"
        },
        "id": "FaEseDrkGOu6",
        "outputId": "7fb4502c-7ad6-42f1-fa6f-a11d351f94a1"
      },
      "source": [
        "def solution(전체블록, 규칙):\n",
        "    answer = []\n",
        "    for 부분블록 in 전체블록:\n",
        "        answer.append(블록순서체크(부분블록, 규칙))\n",
        "    return answer\n",
        "\n",
        "def 블록순서체크(부분블록, 규칙):\n",
        "    임시변수 = 규칙.index(규칙[0])\n",
        "    for 문자 in 부분블록:\n",
        "        if 문자 in 규칙:\n",
        "            if 임시변수 > 규칙.index(문자):\n",
        "                return '불가능'\n",
        "            임시변수 = 규칙.index(문자)\n",
        "    return '가능'\n",
        "\n",
        "전체블록 = ['ABCDEF', 'BCAD', 'ADEFQRX', 'BEDFG', 'AEBFDGCH']\n",
        "규칙 = 'ABCD'\n",
        "\n",
        "print(solution(전체블록, 규칙))"
      ],
      "execution_count": 112,
      "outputs": [
        {
          "output_type": "stream",
          "name": "stdout",
          "text": [
            "['가능', '불가능', '가능', '가능', '불가능']\n"
          ]
        }
      ]
    },
    {
      "cell_type": "markdown",
      "metadata": {
        "id": "3AvZWKTmDJK4"
      },
      "source": [
        "##문제67 : 민규의 악수\n",
        "광장에서 모인 사람들과 악수를 하는 행사가 열렸다.\n",
        "참가자인 민규는 몇명의 사람들과 악수를 한 후 중간에 일이 생겨 집으로 갔다.\n",
        "이 행사에서 진행된 악수는 총 n번이라고 했을때.\n",
        "\n",
        "민규는 몇번의 악수를 하고 집으로 돌아갔을까?\n",
        "이때 민규를 포함한 행사 참가자는 몇명일까?\n",
        "\n",
        "- 악수는 모두 1대 1로 진행이 된다.\n",
        "- 민규를 제외한 모든 참가자는 자신을 제외한 참가자와 모두 한번씩 악수를 한다.\n",
        "- 같은 상대와 중복된 악수는 카운트 하지 않는다.\n",
        "- 민규를 제외한 참가자는 행사를 모두 마쳤다.\n",
        "\n",
        "input : n (행사에서 진행된 악수 횟수)\n",
        "output : [ 민규의 악수횟수 , 행사참가자]\n",
        "\n",
        "설명)\n",
        "59회의 악수가 행사에서 진행되었다.\n",
        "이때 민규는 4번의 악수를 하였고 민규를 포함한 참가자는 12명이다."
      ]
    },
    {
      "cell_type": "code",
      "metadata": {
        "id": "kEBIcKCqDZ2A"
      },
      "source": [
        "def solution(n):\n",
        "    people = 0\n",
        "    total = 0\n",
        "    while(True):\n",
        "        total = people*(people-1)/2\n",
        "        if n<total:\n",
        "            break\n",
        "        people+=1\n",
        "    times = int(people-(total-n)-1)\n",
        "    return [times,people]"
      ],
      "execution_count": 113,
      "outputs": []
    },
    {
      "cell_type": "markdown",
      "metadata": {
        "id": "Xt2o3FVXD4pX"
      },
      "source": [
        "##문제68 : 버스 시간표\n",
        "학교가 끝난 지원이는 집에 가려고 합니다. 학교 앞에 있는 버스 시간표는 너무 복잡해서 버스 도착시간이 몇 분 남았는지 알려주는 프로그램을 만들고 싶습니다.\n",
        "버스시간표와 현재 시간이 주어졌을 때 버스 도착 시간이 얼마나 남았는지 알려주는 프로그램을 만들어주세요.\n",
        "\n",
        "- 버스 시간표와 현재시간이 입력으루 주어집니다.\n",
        "- 출력 포맷은 \"00시00분\"입니다.\n",
        "   만약 1시간 3분이 남았다면 \"01시간03분\"으로 출력해야 합니다.\n",
        "- 버스 시간표에 현재 시간보다 이전인 버스가 있다면 \"지나갔습니다.\"라고 출력합니다.\n",
        "\n",
        "```python\n",
        "**입력**\n",
        "[\"12:30\", \"13:20\", \"14:13\"]\n",
        "\"12:40\"\n",
        "\n",
        "**출력**\n",
        "['지나갔습니다', '00시간 40분', '01시간 33분']\n",
        "```"
      ]
    },
    {
      "cell_type": "code",
      "metadata": {
        "colab": {
          "base_uri": "https://localhost:8080/"
        },
        "id": "OtoGBIE5ExtW",
        "outputId": "66294fca-252c-4e94-822b-08225f48f0aa"
      },
      "source": [
        "버스_시간표 = input(\"버스 시간표 입력:\").split()\n",
        "현재_시간 = input(\"현재 시간 입력:\")\n",
        "현재_시분 = 현재_시간.split(\":\")\n",
        "현재_시분 = list(map(int, 현재_시분))\n",
        "출력 = []\n",
        "for i in range(len(버스_시간표)):\n",
        "  버스_시분 = 버스_시간표[i].split(\":\")\n",
        "  버스_시분 = list(map(int, 버스_시분))\n",
        "  if 버스_시분[0] <= 현재_시분[0] and 버스_시분[1] <= 현재_시분[1]:\n",
        "    출력.append('지나갔습니다')\n",
        "  else:\n",
        "    if 버스_시분[0] - 현재_시분[0] == 1:\n",
        "      출력.append(f'00시간 {현재_시분[1]}')\n",
        "print(출력)    \n",
        "  \n",
        "print(버스_시분)\n",
        "print(현재_시분)"
      ],
      "execution_count": 143,
      "outputs": [
        {
          "output_type": "stream",
          "name": "stdout",
          "text": [
            "버스 시간표 입력:12:30 13:20 14:13\n",
            "현재 시간 입력:12:40\n",
            "['지나갔습니다.']\n",
            "[14, 13]\n",
            "[12, 40]\n"
          ]
        }
      ]
    },
    {
      "cell_type": "code",
      "metadata": {
        "colab": {
          "base_uri": "https://localhost:8080/"
        },
        "id": "ib2cOh2ZD7mn",
        "outputId": "b815b853-72f8-4dd6-eccf-dd1a75c5a681"
      },
      "source": [
        "1def sol(tb, rt):\n",
        "    answer = []\n",
        "    rt = rt.split(':')\n",
        "    for i in range(len(tb)):\n",
        "        time = tb[i].split(':')\n",
        "        time_to_min = ((int(time[0])*60 + int(time[1])) - (int(rt[0])*60+int(rt[1])))\n",
        "        if time_to_min < 0:\n",
        "            answer.append(\"지나갔습니다\")\n",
        "        else:\n",
        "            a = (time_to_min) // 60\n",
        "            b = (time_to_min) % 60\n",
        "            answer.append(str(a).zfill(2)+'시간 '+str(b).zfill(2)+'분')\n",
        "    return answer\n",
        "\n",
        "sol([\"12:30\", \"13:20\", \"14:13\"], \"12:40\")"
      ],
      "execution_count": 115,
      "outputs": [
        {
          "output_type": "execute_result",
          "data": {
            "text/plain": [
              "['지나갔습니다', '00시간 40분', '01시간 33분']"
            ]
          },
          "metadata": {},
          "execution_count": 115
        }
      ]
    },
    {
      "cell_type": "markdown",
      "metadata": {
        "id": "XTOb871kD_EX"
      },
      "source": [
        "##문제69 : 골드바흐의 추측\n",
        "골드바흐의 추측(Goldbach's conjecture)은 오래전부터 알려진 정수론의 미해결 문제로, 2보다 큰 모든 짝수는 두 개의 소수(Prime number)의 합으로 표시할 수 있다는 것이다. 이때 하나의 소수를 두 번 사용하는 것은 허용한다. - 위키백과\n",
        "\n",
        "위 설명에서 2보다 큰 모든 짝수를 두 소수의 합으로 나타낸 것을 골드바흐 파티션이라고 합니다.\n",
        "\n",
        "예)\n",
        "100 == 47 + 53\n",
        "56 == 19 + 37\n",
        "\n",
        "**2보다 큰 짝수 n이 주어졌을 때, 골드바흐 파티션을 출력하는 코드를** 작성하세요. \n",
        "\n",
        "* 해당 문제의 출력 형식은 자유롭습니다. 가능하시다면 골드바흐 파티션 모두를 출력하거나, 그 차가 작은 것을 출력하거나 그 차가 큰 것 모두 출력해보세요."
      ]
    },
    {
      "cell_type": "code",
      "metadata": {
        "colab": {
          "base_uri": "https://localhost:8080/"
        },
        "id": "I8tIGHx-ECzg",
        "outputId": "17fe9e1e-6f8e-4d8a-8b55-a864d7360255"
      },
      "source": [
        "def cal():\n",
        "    n=10000*2\n",
        "    primes=[]    \n",
        "    a = [False,False] + [True]*(n-1)\n",
        "\n",
        "    for i in range(2,n+1):\n",
        "      if a[i]:\n",
        "        primes.append(i)\n",
        "        for j in range(2*i, n+1, i):\n",
        "            a[j] = False\n",
        "            \n",
        "    return primes\n",
        "\n",
        "\n",
        "a = cal()\n",
        "\n",
        "#골드바흐파티션\n",
        "n = int(input())\n",
        "l = []\n",
        "k = []\t\n",
        "\n",
        "for i in range(2, n//2+1):    \n",
        "    if i in a and n-i in a:\n",
        "        l.append(i)\n",
        "        l.append(n-i)\n",
        "\n",
        "for i in range(0,len(l)-1,2):\n",
        "    k.append(l[i+1]-l[i])\n",
        "    \n",
        "index = k.index(min(k))*2\n",
        "print(l[index], l[index+1])"
      ],
      "execution_count": 116,
      "outputs": [
        {
          "output_type": "stream",
          "name": "stdout",
          "text": [
            "80\n",
            "37 43\n"
          ]
        }
      ]
    },
    {
      "cell_type": "markdown",
      "metadata": {
        "id": "DhlVcu-4EEk4"
      },
      "source": [
        "##문제70 : 행렬 곱하기\n",
        "행렬 2개가 주어졌을 때 곱할 수 있는 행렬인지 확인하고 곱할 수 있다면 그 결과를, 곱할 수 없다면 -1을 출력하는 프로그램을 만들어주세요.\n",
        "\n",
        "* 라이브러리는 사용을 금지합니다.\n",
        "\n",
        "```python\n",
        "**입력**\n",
        "a = ([1, 2],\n",
        "     [2, 4])\n",
        "b = ([1, 0],\n",
        "     [0, 3])\n",
        "\n",
        "**출력**\n",
        "([1,6], [2,12])\n",
        "```"
      ]
    },
    {
      "cell_type": "code",
      "metadata": {
        "colab": {
          "base_uri": "https://localhost:8080/"
        },
        "id": "jqQ6UyXyEP_Y",
        "outputId": "9d557323-9ef5-48de-9907-00beb2b346a2"
      },
      "source": [
        "a = ([1, 2], [2, 4])\n",
        "b = ([1, 0], [0, 3])\n",
        "\n",
        "def sol(a, b):\n",
        "    c = []\n",
        "    if len(a) == len(b[0]):\n",
        "        for i in range(len(a)):\n",
        "            c.append([0]*len(b[0]))\n",
        "        for i in range(len(c)):\n",
        "            for j in range(len(c[i])):\n",
        "                for k in range(len(a[i])):\n",
        "                    c[i][j] += a[i][k] * b[k][j]\n",
        "        return c\n",
        "    else:\n",
        "        return -1\n",
        "print(sol(a, b))"
      ],
      "execution_count": 119,
      "outputs": [
        {
          "output_type": "stream",
          "name": "stdout",
          "text": [
            "[[1, 6], [2, 12]]\n"
          ]
        }
      ]
    }
  ]
}