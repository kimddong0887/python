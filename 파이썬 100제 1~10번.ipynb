{
  "nbformat": 4,
  "nbformat_minor": 0,
  "metadata": {
    "colab": {
      "name": "python_100_1~10.ipynb",
      "provenance": [],
      "authorship_tag": "ABX9TyMexWgSftsfY/RVOZSuxXCA",
      "include_colab_link": true
    },
    "kernelspec": {
      "name": "python3",
      "display_name": "Python 3"
    },
    "language_info": {
      "name": "python"
    }
  },
  "cells": [
    {
      "cell_type": "markdown",
      "metadata": {
        "id": "view-in-github",
        "colab_type": "text"
      },
      "source": [
        "<a href=\"https://colab.research.google.com/github/kimddong0887/python/blob/main/%ED%8C%8C%EC%9D%B4%EC%8D%AC%20100%EC%A0%9C%201~10%EB%B2%88.ipynb\" target=\"_parent\"><img src=\"https://colab.research.google.com/assets/colab-badge.svg\" alt=\"Open In Colab\"/></a>"
      ]
    },
    {
      "cell_type": "markdown",
      "metadata": {
        "id": "bS4a2DOZN9XN"
      },
      "source": [
        "##문제1 : 리스트의 삭제\n",
        "다음 리스트에서 400, 500를 삭제하는 code를 입력하세요.\n",
        "\n",
        "```python\n",
        "nums = [100, 200, 300, 400, 500]\n",
        "```"
      ]
    },
    {
      "cell_type": "code",
      "metadata": {
        "colab": {
          "base_uri": "https://localhost:8080/"
        },
        "id": "YLJVrqfMM8W_",
        "outputId": "720b884b-ff25-4574-fdf4-59a5e9b7d2e5"
      },
      "source": [
        "nums = [100, 200, 300, 400, 500]\n",
        "nums.pop()\n",
        "nums.pop()\n",
        "print(nums)"
      ],
      "execution_count": 5,
      "outputs": [
        {
          "output_type": "stream",
          "name": "stdout",
          "text": [
            "[100, 200, 300]\n"
          ]
        }
      ]
    },
    {
      "cell_type": "markdown",
      "metadata": {
        "id": "wVF4jmj3O6yG"
      },
      "source": [
        "##문제2 : 리스트의 내장함수\n",
        "```python\n",
        "l = [200, 100, 300]\n",
        "<pass>\n",
        "print(l)\n",
        "```\n",
        "\n",
        "pass 부분에 리스트 내장함수를 insert를 이용하여 코드를 입력하고 다음과 같이 출력되게 하세요.\n",
        "\n",
        "```python\n",
        "[200, 100, 10000, 300]\n",
        "```"
      ]
    },
    {
      "cell_type": "code",
      "metadata": {
        "colab": {
          "base_uri": "https://localhost:8080/"
        },
        "id": "HLZvtSX9OwTY",
        "outputId": "96a8a473-bbe6-455c-8e3b-345e67869de2"
      },
      "source": [
        "l = [200, 100, 300]\n",
        "l.insert(2,10000)\n",
        "print(l)\n"
      ],
      "execution_count": 7,
      "outputs": [
        {
          "output_type": "stream",
          "name": "stdout",
          "text": [
            "[200, 100, 10000, 300]\n"
          ]
        }
      ]
    },
    {
      "cell_type": "markdown",
      "metadata": {
        "id": "yDS7cLRPPro9"
      },
      "source": [
        "##문제3 : 변수의 타입\n",
        "- 다음 출력 값으로 올바른 것은?\n",
        "\n",
        "```python\n",
        "l = [100, 200, 300]\n",
        "print(type(l))\n",
        "```\n",
        "\n",
        "1)  class 'str'\n",
        "\n",
        "2)  class 'int'\n",
        "\n",
        "3)  class 'list'\n",
        "\n",
        "4)  class 'tuple'\n"
      ]
    },
    {
      "cell_type": "code",
      "metadata": {
        "colab": {
          "base_uri": "https://localhost:8080/"
        },
        "id": "2Lbdgp7OP72b",
        "outputId": "3c68b519-b76b-4305-b86e-1d5c401ff036"
      },
      "source": [
        "l = [100, 200, 300]\n",
        "print(type(l))"
      ],
      "execution_count": 8,
      "outputs": [
        {
          "output_type": "stream",
          "name": "stdout",
          "text": [
            "<class 'list'>\n"
          ]
        }
      ]
    },
    {
      "cell_type": "markdown",
      "metadata": {
        "id": "PqhKhnSiQAql"
      },
      "source": [
        "####답: 3번"
      ]
    },
    {
      "cell_type": "markdown",
      "metadata": {
        "id": "lOOmmbL4QDN-"
      },
      "source": [
        "##문제4 : 변수의 타입2\n",
        "다음 변수 a를 print(type(a))로 넣었을 때 출력될 값과의 연결이 알맞지 않은 것은?\n",
        "\n",
        "1)  입력 : a =1,   출력 : class 'int'\n",
        "\n",
        "2)  입력 : a = 2.22,   출력 : class 'float'\n",
        "\n",
        "3)  입력 : a = 'p',   출력 : class 'char'\n",
        "\n",
        "4)  입력 : a = [1, 2, 3],   출력 : class 'list'"
      ]
    },
    {
      "cell_type": "markdown",
      "metadata": {
        "id": "MbDXqdBcQMxq"
      },
      "source": [
        "####답: 3번"
      ]
    },
    {
      "cell_type": "markdown",
      "metadata": {
        "id": "I769PBgHQgRg"
      },
      "source": [
        "##문제5 : for문 계산\n",
        "- 다음 코드의 출력 값으로 알맞은 것은?\n",
        "\n",
        "```python\n",
        "a = 10\n",
        "b = 2\n",
        "for i in range(1, 5, 2):\n",
        "    a += i\n",
        "\n",
        "print(a+b)\n",
        "```\n",
        "\n",
        "1)  10\n",
        "\n",
        "2)  12\n",
        "\n",
        "3)  14\n",
        "\n",
        "4)  16"
      ]
    },
    {
      "cell_type": "markdown",
      "metadata": {
        "id": "N5scofOSQjHo"
      },
      "source": [
        "####답: 4"
      ]
    },
    {
      "cell_type": "markdown",
      "metadata": {
        "id": "SUsjlpy1Q53M"
      },
      "source": [
        "##문제6 : False\n",
        "다음은 파이썬 문법 중에서 False로 취급하는 것들 입니다.\n",
        "앗, False로 취급하지 않는 것이 하나 있네요! **True를 찾아주세요.**\n",
        "\n",
        "1)  None\n",
        "\n",
        "2)  1\n",
        "\n",
        "3)  \"\"\n",
        "\n",
        "4)  0\n",
        "\n",
        "5)  bool(0)"
      ]
    },
    {
      "cell_type": "markdown",
      "metadata": {
        "id": "cteoLUnhRVkO"
      },
      "source": [
        "####답: 2번"
      ]
    },
    {
      "cell_type": "markdown",
      "metadata": {
        "id": "twZzAiKvRhJ0"
      },
      "source": [
        "##문제7 : 변수명\n",
        "다음 중 변수명으로 사용할 수 없는 것 2개를 고르시오.\n",
        "\n",
        "1)  age\n",
        "\n",
        "2)  a\n",
        "\n",
        "3)  as\n",
        "\n",
        "4)  _age\n",
        "\n",
        "5)  1age"
      ]
    },
    {
      "cell_type": "markdown",
      "metadata": {
        "id": "scIR7QmVRtNc"
      },
      "source": [
        "####답: 2,3번"
      ]
    },
    {
      "cell_type": "markdown",
      "metadata": {
        "id": "-PzXKMLmR1FS"
      },
      "source": [
        "##문제8 : 딕셔너리 키 이름 중복\n",
        "딕셔너리를 다음과 같이 만들었다. \n",
        "출력값을 입력하시오. (출력값은 공백을 넣지 않습니다. )\n",
        "\n",
        "```python\n",
        "d = {'height':180,'weight':78,'weight':84,'temparture':36,'eyesight':1}\n",
        "print(d['weight'])\n",
        "```"
      ]
    },
    {
      "cell_type": "code",
      "metadata": {
        "colab": {
          "base_uri": "https://localhost:8080/"
        },
        "id": "kWOw04f_R5Sq",
        "outputId": "6c6d1cbf-8e3a-4774-cb1e-425c78daa3ac"
      },
      "source": [
        "d = {'height':180,'weight':78,'weight':84,'temparture':36,'eyesight':1}\n",
        "print(d['weight'])"
      ],
      "execution_count": 14,
      "outputs": [
        {
          "output_type": "stream",
          "name": "stdout",
          "text": [
            "84\n"
          ]
        }
      ]
    },
    {
      "cell_type": "markdown",
      "metadata": {
        "id": "C6fEblkbR9-n"
      },
      "source": [
        "####답: 84"
      ]
    },
    {
      "cell_type": "markdown",
      "metadata": {
        "id": "ykGrdD_BSjJL"
      },
      "source": [
        "##문제9 : sep과 end를활용한 출력방법\n",
        "다음 소스 코드를 완성하여 날짜와 시간을 출력하시오.\n",
        "\n",
        "```python\n",
        "year = '2019'\n",
        "month = '04'\n",
        "day = '26'\n",
        "hour = '11'\n",
        "minute = '34'\n",
        "second = '27'\n",
        "\n",
        "print(year, month, day, )\n",
        "print(hour, minute, second, )\n",
        "```\n",
        "\n",
        "\n",
        "```python\n",
        "2019/04/26 11:34:27\n",
        "```"
      ]
    },
    {
      "cell_type": "code",
      "metadata": {
        "colab": {
          "base_uri": "https://localhost:8080/"
        },
        "id": "oztDJPQBS97G",
        "outputId": "5208d8fb-0936-4578-9c21-71eff9374f32"
      },
      "source": [
        "year = '2019'\n",
        "month = '04'\n",
        "day = '26'\n",
        "hour = '11'\n",
        "minute = '34'\n",
        "second = '27'\n",
        "\n",
        "print(year, month, day, sep = '/', end = ' ')\n",
        "print(hour, minute, second, sep = ':')"
      ],
      "execution_count": 17,
      "outputs": [
        {
          "output_type": "stream",
          "name": "stdout",
          "text": [
            "2019/04/26 11:34:27\n"
          ]
        }
      ]
    },
    {
      "cell_type": "markdown",
      "metadata": {
        "id": "r8oEtjtiTJJd"
      },
      "source": [
        "##문제10 : 별 찍기\n",
        "크리스마스 날, 은비는 친구들과 함께 파티를 하기로 했습니다. 그런데, 크리스마스 트리를 사는 것을 깜빡하고 말았습니다. 온 가게를 돌아다녀 봤지만 크리스마스 트리는 모두 품절이었습니다. \n",
        "하는 수 없이 은비는 프로그래밍으로 트리를 만들기로 합니다. \n",
        "\n",
        "**은비를 위해 프로그램을 작성해 주세요.**\n",
        "\n",
        "### 입출력 예시\n",
        "\n",
        ">> 입력\n",
        "\n",
        "```python\n",
        "5\n",
        "```\n",
        "\n",
        ">> 출력\n",
        "\n",
        "```python\n",
        "    *\n",
        "   ***\n",
        "  *****\n",
        " *******\n",
        "*********\n",
        "```"
      ]
    },
    {
      "cell_type": "code",
      "metadata": {
        "colab": {
          "base_uri": "https://localhost:8080/"
        },
        "id": "FIdvcLhcTnYH",
        "outputId": "2b3e1b57-a564-4766-9f70-687c9c86c204"
      },
      "source": [
        "n = int(input())\n",
        "for i in range(1,n+1):\n",
        "\tprint(\" \"*(n-i)+(\"*\"*(2*i-1)))\n"
      ],
      "execution_count": 20,
      "outputs": [
        {
          "output_type": "stream",
          "name": "stdout",
          "text": [
            "8\n",
            "       *\n",
            "      ***\n",
            "     *****\n",
            "    *******\n",
            "   *********\n",
            "  ***********\n",
            " *************\n",
            "***************\n"
          ]
        }
      ]
    },
    {
      "cell_type": "code",
      "metadata": {
        "id": "ceu-TL47avpe"
      },
      "source": [
        ""
      ],
    }
  ]
}
