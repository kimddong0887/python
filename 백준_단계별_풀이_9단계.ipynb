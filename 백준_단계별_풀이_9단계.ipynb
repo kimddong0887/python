{
  "nbformat": 4,
  "nbformat_minor": 0,
  "metadata": {
    "colab": {
      "name": "백준 단계별 풀이 9단계.ipynb",
      "provenance": [],
      "collapsed_sections": [],
      "authorship_tag": "ABX9TyNq0+1ylyL0i9RkBR7i9abR",
      "include_colab_link": true
    },
    "kernelspec": {
      "name": "python3",
      "display_name": "Python 3"
    },
    "language_info": {
      "name": "python"
    }
  },
  "cells": [
    {
      "cell_type": "markdown",
      "metadata": {
        "id": "view-in-github",
        "colab_type": "text"
      },
      "source": [
        "<a href=\"https://colab.research.google.com/github/kimddong0887/python/blob/main/%EB%B0%B1%EC%A4%80_%EB%8B%A8%EA%B3%84%EB%B3%84_%ED%92%80%EC%9D%B4_9%EB%8B%A8%EA%B3%84.ipynb\" target=\"_parent\"><img src=\"https://colab.research.google.com/assets/colab-badge.svg\" alt=\"Open In Colab\"/></a>"
      ]
    },
    {
      "cell_type": "markdown",
      "source": [
        "#9단계 기본 수학 2\n",
        "##1. 소수 찾기\n",
        "####주어진 수 N개 중에서 소수가 몇 개인지 찾아서 출력하는 프로그램을 작성하시오."
      ],
      "metadata": {
        "id": "tGPdcVm-qmvz"
      }
    },
    {
      "cell_type": "code",
      "source": [
        "N = int(input())\n",
        "num = map(int,input().split())\n",
        "count = 0\n",
        "count_result = 0\n",
        "for i in num:\n",
        "  if i == 1:\n",
        "    count_result -= 1\n",
        "  for t in range(2,i):\n",
        "    if i % t == 0 or i % 2 == 0:\n",
        "      count += 1\n",
        "  if count == 0:  \n",
        "    count_result += 1\n",
        "  else:\n",
        "    count = 0\n",
        "print(count_result)"
      ],
      "metadata": {
        "colab": {
          "base_uri": "https://localhost:8080/"
        },
        "id": "-vqabC5xGYgg",
        "outputId": "0a562a98-d419-4cf2-8dc0-449ba3c42b73"
      },
      "execution_count": null,
      "outputs": [
        {
          "output_type": "stream",
          "name": "stdout",
          "text": [
            "1\n",
            "1\n",
            "0\n"
          ]
        }
      ]
    },
    {
      "cell_type": "markdown",
      "source": [
        "##2. 소수\n",
        "####자연수 M과 N이 주어질 때 M이상 N이하의 자연수 중 소수인 것을 모두 골라 이들 소수의 합과 최솟값을 찾는 프로그램을 작성하시오.\n",
        "\n",
        "####예를 들어 M=60, N=100인 경우 60이상 100이하의 자연수 중 소수는 61, 67, 71, 73, 79, 83, 89, 97 총 8개가 있으므로, 이들 소수의 합은 620이고, 최솟값은 61이 된다."
      ],
      "metadata": {
        "id": "khVIwX5VKMiM"
      }
    },
    {
      "cell_type": "code",
      "source": [
        "M = int(input())\n",
        "N = int(input())\n",
        "LIST = []\n",
        "count_result = 0\n",
        "count = 0\n",
        "for i in range(M,N):\n",
        "  if i == 1:\n",
        "    count_result -= 1\n",
        "  for t in range(2,i):\n",
        "    if i % t == 0 or i % 2 == 0:\n",
        "      count += 1\n",
        "  if i != 1 and count == 0:  \n",
        "    count_result += 1\n",
        "    LIST.append(i)\n",
        "  else:\n",
        "    count = 0\n",
        "if count_result == 0:\n",
        "  print(-1)\n",
        "else:\n",
        "  print(sum(LIST))\n",
        "  print(min(LIST))"
      ],
      "metadata": {
        "colab": {
          "base_uri": "https://localhost:8080/"
        },
        "id": "1y7EJXXqMmut",
        "outputId": "dbb54c49-1445-4837-f785-8c6cb422ec5c"
      },
      "execution_count": null,
      "outputs": [
        {
          "output_type": "stream",
          "name": "stdout",
          "text": [
            "1\n",
            "1\n",
            "-1\n"
          ]
        }
      ]
    },
    {
      "cell_type": "markdown",
      "source": [
        "##3. 소인수분해\n",
        "####정수 N이 주어졌을 때, 소인수분해하는 프로그램을 작성하시오."
      ],
      "metadata": {
        "id": "8kQXi9mFO0XZ"
      }
    },
    {
      "cell_type": "code",
      "source": [
        "N = int(input())\n",
        "x = 2\n",
        "while x <= N:\n",
        "   if N % x == 0:\n",
        "     print(int(x))\n",
        "     N = N / x\n",
        "   else:\n",
        "     x += 1"
      ],
      "metadata": {
        "id": "FGhaiJiDO6W4",
        "colab": {
          "base_uri": "https://localhost:8080/"
        },
        "outputId": "64fa44a4-1cb3-46c1-cd66-5eae5d7b5810"
      },
      "execution_count": null,
      "outputs": [
        {
          "output_type": "stream",
          "name": "stdout",
          "text": [
            "12\n",
            "2\n",
            "2\n",
            "3\n"
          ]
        }
      ]
    },
    {
      "cell_type": "markdown",
      "source": [
        "##4. 소수 구하기\n",
        "####M이상 N이하의 소수를 모두 출력하는 프로그램을 작성하시오."
      ],
      "metadata": {
        "id": "l9XIWF0xiVbC"
      }
    },
    {
      "cell_type": "code",
      "source": [
        "M, N = map(int,input().split())\n",
        "count_result = 0\n",
        "count = 0\n",
        "for i in range(M,N):\n",
        "  if i == 1:\n",
        "    count_result -= 1\n",
        "  for t in range(2,i):\n",
        "    if i % t == 0 or i % 2 == 0:\n",
        "      count += 1\n",
        "  if i != 1 and count == 0:  \n",
        "    count_result += 1\n",
        "    print(i)\n",
        "  else:\n",
        "    count = 0"
      ],
      "metadata": {
        "colab": {
          "base_uri": "https://localhost:8080/"
        },
        "id": "Tv0ykH55jw5d",
        "outputId": "348cda49-ce93-4da3-9b8e-d59dd78a5e17"
      },
      "execution_count": null,
      "outputs": [
        {
          "output_type": "stream",
          "name": "stdout",
          "text": [
            "3 16\n",
            "3\n",
            "5\n",
            "7\n",
            "11\n",
            "13\n"
          ]
        }
      ]
    },
    {
      "cell_type": "markdown",
      "source": [
        "##5. 베르트랑 공준\n",
        "####베르트랑 공준은 임의의 자연수 n에 대하여, n보다 크고, 2n보다 작거나 같은 소수는 적어도 하나 존재한다는 내용을 담고 있다.\n",
        "\n",
        "####이 명제는 조제프 베르트랑이 1845년에 추측했고, 파프누티 체비쇼프가 1850년에 증명했다.\n",
        "\n",
        "####예를 들어, 10보다 크고, 20보다 작거나 같은 소수는 4개가 있다. (11, 13, 17, 19) 또, 14보다 크고, 28보다 작거나 같은 소수는 3개가 있다. (17,19, 23)\n",
        "\n",
        "####자연수 n이 주어졌을 때, n보다 크고, 2n보다 작거나 같은 소수의 개수를 구하는 프로그램을 작성하시오. "
      ],
      "metadata": {
        "id": "4rjBWKjDkXcQ"
      }
    },
    {
      "cell_type": "code",
      "source": [
        "M = int(input())\n",
        "N = 2 * M\n",
        "count_result = 0\n",
        "count = 0\n",
        "\n",
        "for i in range(M,N):\n",
        "  for t in range(2,i):\n",
        "    if  i % 2 == 0:\n",
        "      count += 1\n",
        "    elif i % t == 0:\n",
        "      count += 1\n",
        "  if count == 0:  \n",
        "    count_result += 1\n",
        "  else:\n",
        "    count = 0\n",
        "\n",
        "if i == 1:\n",
        "    count_result += 1\n",
        "print(count_result)"
      ],
      "metadata": {
        "colab": {
          "base_uri": "https://localhost:8080/"
        },
        "id": "uw1LV02SkdaW",
        "outputId": "a8a2db1a-92e9-4d1e-8542-288e34661afd"
      },
      "execution_count": null,
      "outputs": [
        {
          "output_type": "stream",
          "name": "stdout",
          "text": [
            "10000\n",
            "1033\n"
          ]
        }
      ]
    },
    {
      "cell_type": "markdown",
      "source": [
        "##6. 골드바흐의 추측\n",
        "####1보다 큰 자연수 중에서  1과 자기 자신을 제외한 약수가 없는 자연수를 소수라고 한다. 예를 들어, 5는 1과 5를 제외한 약수가 없기 때문에 소수이다. 하지만, 6은 6 = 2 × 3 이기 때문에 소수가 아니다.\n",
        "\n",
        "####골드바흐의 추측은 유명한 정수론의 미해결 문제로, 2보다 큰 모든 짝수는 두 소수의 합으로 나타낼 수 있다는 것이다. 이러한 수를 골드바흐 수라고 한다. 또, 짝수를 두 소수의 합으로 나타내는 표현을 그 수의 골드바흐 파티션이라고 한다. 예를 들면, 4 = 2 + 2, 6 = 3 + 3, 8 = 3 + 5, 10 = 5 + 5, 12 = 5 + 7, 14 = 3 + 11, 14 = 7 + 7이다. 10000보다 작거나 같은 모든 짝수 n에 대한 골드바흐 파티션은 존재한다.\n",
        "\n",
        "####2보다 큰 짝수 n이 주어졌을 때, n의 골드바흐 파티션을 출력하는 프로그램을 작성하시오. 만약 가능한 n의 골드바흐 파티션이 여러 가지인 경우에는 두 소수의 차이가 가장 작은 것을 출력한다."
      ],
      "metadata": {
        "id": "6OtsGRRDoZjN"
      }
    },
    {
      "cell_type": "code",
      "source": [
        "T = int(input())\n",
        "for _ in range(T):\n",
        "  n = int(input())\n",
        "  "
      ],
      "metadata": {
        "id": "LJvGQsjFodkP"
      },
      "execution_count": null,
      "outputs": []
    },
    {
      "cell_type": "markdown",
      "source": [
        "##7. 직사각형에서 탈출\n",
        "####한수는 지금 (x, y)에 있다. 직사각형은 각 변이 좌표축에 평행하고, 왼쪽 아래 꼭짓점은 (0, 0), 오른쪽 위 꼭짓점은 (w, h)에 있다. 직사각형의 경계선까지 가는 거리의 최솟값을 구하는 프로그램을 작성하시오."
      ],
      "metadata": {
        "id": "Zk8uvBSZpzXu"
      }
    },
    {
      "cell_type": "code",
      "source": [
        "x, y ,w ,h = map(int,input().split())\n",
        "x_list = []\n",
        "y_list = []\n",
        "x_list.append(x)\n",
        "x_list.append(abs(w - x))\n",
        "y_list.append(y)\n",
        "y_list.append(abs(y - h))\n",
        "if min(x_list) < min(y_list):\n",
        "  print(min(x_list))\n",
        "else:\n",
        "  print(min(y_list))"
      ],
      "metadata": {
        "colab": {
          "base_uri": "https://localhost:8080/"
        },
        "id": "2o9m1UPhp3E5",
        "outputId": "db295ae3-3f20-4f05-e064-ae2b7471d330"
      },
      "execution_count": null,
      "outputs": [
        {
          "output_type": "stream",
          "name": "stdout",
          "text": [
            "1 1 5 5\n",
            "1\n"
          ]
        }
      ]
    },
    {
      "cell_type": "markdown",
      "source": [
        "##8. 네 번째 점\n",
        "####세 점이 주어졌을 때, 축에 평행한 직사각형을 만들기 위해서 필요한 네 번째 점을 찾는 프로그램을 작성하시오."
      ],
      "metadata": {
        "id": "IWCD0xibsLvK"
      }
    },
    {
      "cell_type": "code",
      "source": [
        "location_1 = list(map(int,input().split()))\n",
        "location_2 = list(map(int,input().split()))\n",
        "location_3 = list(map(int,input().split()))\n",
        "location_sum = location_1 + location_2 + location_3\n",
        "count_list = []\n",
        "count_1 = 0\n",
        "count_2 = 0\n",
        "count_3 = 0\n",
        "for i in location_sum:\n",
        "  if i in count_list:\n",
        "    count_list.append(i)\n",
        "    count_x"
      ],
      "metadata": {
        "colab": {
          "base_uri": "https://localhost:8080/"
        },
        "id": "2Ofw7R28sNlH",
        "outputId": "c0ddc299-2a5b-40a9-bd68-0b5c7326d9da"
      },
      "execution_count": null,
      "outputs": [
        {
          "output_type": "stream",
          "name": "stdout",
          "text": [
            "5 5\n",
            "7 5\n",
            "5 7\n",
            "[5, 5, 7, 5, 5, 7]\n"
          ]
        }
      ]
    },
    {
      "cell_type": "markdown",
      "source": [
        "##9. 직각삼각형\n",
        "####과거 이집트인들은 각 변들의 길이가 3, 4, 5인 삼각형이 직각 삼각형인것을 알아냈다. 주어진 세변의 길이로 삼각형이 직각인지 아닌지 구분하시오."
      ],
      "metadata": {
        "id": "UGIWNG0Uvo4y"
      }
    },
    {
      "cell_type": "code",
      "source": [
        "count = 0\n",
        "while count < 1:\n",
        "  LIST = list(map(int,input().split()))\n",
        "  C = max(LIST)\n",
        "  LIST.remove(max(LIST))\n",
        "  if LIST.count(0) == 2:\n",
        "    count += 1\n",
        "  else:\n",
        "    if C**2 == LIST[0]**2 + LIST[1]**2:\n",
        "      print(\"right\")\n",
        "    else:\n",
        "      print(\"wrong\")"
      ],
      "metadata": {
        "colab": {
          "base_uri": "https://localhost:8080/"
        },
        "id": "OA_GwJ_nvs7v",
        "outputId": "37d9a6d7-ae96-4505-f00b-ace3dd8b9606"
      },
      "execution_count": 8,
      "outputs": [
        {
          "name": "stdout",
          "output_type": "stream",
          "text": [
            "0 0 0\n"
          ]
        }
      ]
    },
    {
      "cell_type": "markdown",
      "source": [
        "##10. 택시 기하학\n",
        "####19세기 독일 수학자 헤르만 민코프스키는 비유클리드 기하학 중 택시 기하학을 고안했다.\n",
        "\n",
        "####택시 기하학에서 두 점 T1(x1,y1), T2(x2,y2) 사이의 거리는 다음과 같이 구할 수 있다.\n",
        "\n",
        "####D(T1,T2) = |x1-x2| + |y1-y2|\n",
        "\n",
        "####두 점 사이의 거리를 제외한 나머지 정의는 유클리드 기하학에서의 정의와 같다.\n",
        "\n",
        "####따라서 택시 기하학에서 원의 정의는 유클리드 기하학에서 원의 정의와 같다.\n",
        "\n",
        "####원: 평면 상의 어떤 점에서 거리가 일정한 점들의 집합\n",
        "\n",
        "####반지름 R이 주어졌을 때, 유클리드 기하학에서 원의 넓이와, 택시 기하학에서 원의 넓이를 구하는 프로그램을 작성하시오."
      ],
      "metadata": {
        "id": "8X1Tz4_y2RoR"
      }
    },
    {
      "cell_type": "code",
      "source": [
        "from math import pi\n",
        "R = int(input())\n",
        "print(f\"{R**2 * pi:.6f}\")\n",
        "print(f\"{2 * R**2:.6f}\")"
      ],
      "metadata": {
        "colab": {
          "base_uri": "https://localhost:8080/"
        },
        "id": "y1aP4Zlv28DU",
        "outputId": "29a4c77a-0291-4c37-c52b-ef37a0773834"
      },
      "execution_count": 15,
      "outputs": [
        {
          "output_type": "stream",
          "name": "stdout",
          "text": [
            "42\n",
            "5541.769441\n",
            "3528.000000\n"
          ]
        }
      ]
    },
    {
      "cell_type": "markdown",
      "source": [
        "##11. 터렛\n",
        "####조규현과 백승환은 터렛에 근무하는 직원이다. 하지만 워낙 존재감이 없어서 인구수는 차지하지 않는다. 다음은 조규현과 백승환의 사진이다.\n",
        "\n",
        "\n",
        "\n",
        "####이석원은 조규현과 백승환에게 상대편 마린(류재명)의 위치를 계산하라는 명령을 내렸다. 조규현과 백승환은 각각 자신의 터렛 위치에서 현재 적까지의 거리를 계산했다.\n",
        "\n",
        "####조규현의 좌표 (x1, y1)와 백승환의 좌표 (x2, y2)가 주어지고, 조규현이 계산한 류재명과의 거리 r1과 백승환이 계산한 류재명과의 거리 r2가 주어졌을 때, 류재명이 있을 수 있는 좌표의 수를 출력하는 프로그램을 작성하시오."
      ],
      "metadata": {
        "id": "pq90Hs6L6MUK"
      }
    },
    {
      "cell_type": "code",
      "source": [
        ""
      ],
      "metadata": {
        "id": "2pyTBR2f6QQB"
      },
      "execution_count": null,
      "outputs": []
    }
  ]
}